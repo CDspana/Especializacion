{
  "nbformat": 4,
  "nbformat_minor": 0,
  "metadata": {
    "colab": {
      "provenance": [],
      "gpuType": "T4"
    },
    "kernelspec": {
      "name": "python3",
      "display_name": "Python 3"
    },
    "language_info": {
      "name": "python"
    },
    "accelerator": "GPU"
  },
  "cells": [
    {
      "cell_type": "markdown",
      "source": [
        "Instalación de librerias necesarias:\n",
        "\n",
        "- Unidecode: herramienta util que eliminará acentos y otros caracteres especiales en el lenguaje español como el caracter ñ.\n",
        "\n"
      ],
      "metadata": {
        "id": "BwAJijnsMuF1"
      }
    },
    {
      "cell_type": "code",
      "source": [
        "!pip install unidecode"
      ],
      "metadata": {
        "colab": {
          "base_uri": "https://localhost:8080/"
        },
        "id": "Oe_6IZbNV1Tx",
        "outputId": "7616c96e-a90b-4c02-90f1-b8d937a51828"
      },
      "execution_count": 46,
      "outputs": [
        {
          "output_type": "stream",
          "name": "stdout",
          "text": [
            "Requirement already satisfied: unidecode in /usr/local/lib/python3.10/dist-packages (1.3.7)\n"
          ]
        }
      ]
    },
    {
      "cell_type": "code",
      "source": [
        "# Importación de bibliotecas necesarias\n",
        "from unidecode import unidecode\n",
        "# Para manipulación de datos con DataFrames\n",
        "import pandas as pd\n",
        "# Operaciones numéricas\n",
        "import numpy as np\n",
        "# Biblioteca de graficos\n",
        "import matplotlib.pyplot as plt\n",
        "# Manejo de expresiones regulares\n",
        "import re\n",
        "\n",
        "# Biblioteca de procesamiento de lenguaje natural\n",
        "import nltk\n",
        "# Importación de tokenizadores\n",
        "from nltk.tokenize import sent_tokenize, word_tokenize\n",
        "from nltk.tokenize import TweetTokenizer\n",
        "from nltk.stem import SnowballStemmer\n",
        "\n",
        "# Descarga de recursos adicionales para NLTK\n",
        "# Descarga de modelos para tokenización de oraciones y palabras\n",
        "nltk.download('punkt')\n",
        "# Descarga de la lista de palabras vacías (stopwords)\n",
        "nltk.download('stopwords')\n",
        "\n",
        "# Descarga de recursos para WordNet\n",
        "nltk.download('wordnet')\n",
        "\n",
        "# Importación de la lista de palabras vacías\n",
        "from nltk.corpus import stopwords\n",
        "\n",
        "# Importación de lematizador basado en WordNet\n",
        "from nltk.stem import WordNetLemmatizer\n",
        "\n",
        "# Importación de steemer (raíz de palabras) de nltk\n",
        "from nltk.stem import PorterStemmer"
      ],
      "metadata": {
        "colab": {
          "base_uri": "https://localhost:8080/"
        },
        "id": "pDf0tAFeYsvG",
        "outputId": "4fc8c854-c870-4dc0-fc0b-81d44c08c4ef"
      },
      "execution_count": 52,
      "outputs": [
        {
          "output_type": "stream",
          "name": "stderr",
          "text": [
            "[nltk_data] Downloading package punkt to /root/nltk_data...\n",
            "[nltk_data]   Package punkt is already up-to-date!\n",
            "[nltk_data] Downloading package stopwords to /root/nltk_data...\n",
            "[nltk_data]   Package stopwords is already up-to-date!\n",
            "[nltk_data] Downloading package wordnet to /root/nltk_data...\n",
            "[nltk_data]   Package wordnet is already up-to-date!\n"
          ]
        }
      ]
    },
    {
      "cell_type": "markdown",
      "source": [
        "## **1. Carga de datos**\n",
        "---\n",
        "En el repositorio compartido se encuentra la base de datos temporal que se utilizara para el desarrollo de este notebook"
      ],
      "metadata": {
        "id": "kJgG8__TDR2U"
      }
    },
    {
      "cell_type": "code",
      "source": [
        "# URL del repositorio donde se encuentra alojado el dataset\n",
        "url = 'https://raw.githubusercontent.com/CDspana/Especializacion/main/DB_temp/temporal_dataset.csv'"
      ],
      "metadata": {
        "id": "SkR_EJdFdjJq"
      },
      "execution_count": 7,
      "outputs": []
    },
    {
      "cell_type": "code",
      "source": [
        "# Se realiza la lectura del archivo con la ayuda de pandas\n",
        "df = pd.read_csv(url)\n",
        "df"
      ],
      "metadata": {
        "colab": {
          "base_uri": "https://localhost:8080/",
          "height": 424
        },
        "id": "Zdq0knNkYwgo",
        "outputId": "8eab9c6a-0abd-455c-a3a0-06652291cca0"
      },
      "execution_count": 8,
      "outputs": [
        {
          "output_type": "execute_result",
          "data": {
            "text/plain": [
              "     Unnamed: 0.1  Unnamed: 0             Date                      Media  \\\n",
              "0               0           0  Hace 36 minutos               Europa Press   \n",
              "1               1           1  Hace 37 minutos                    EL PAÍS   \n",
              "2               2           2  Hace 37 minutos                    EL PAÍS   \n",
              "3               3           3  Hace 37 minutos                    EL PAÍS   \n",
              "4               4           4      Hace 1 hora                AS Colombia   \n",
              "..            ...         ...              ...                        ...   \n",
              "490           490          16     Hace 8 meses                      Pulzo   \n",
              "491           491          17     Hace 8 meses  Compartir Palabra Maestra   \n",
              "492           492          18    Hace 12 meses                  RCN Radio   \n",
              "493           493          19    Hace 12 meses              El Espectador   \n",
              "494           494          20    Hace 12 meses               El Quindiano   \n",
              "\n",
              "                                                 Title  \\\n",
              "0    Petro asegura que Venezuela será uno de los mo...   \n",
              "1               Un día en la vida del ministro Bonilla   \n",
              "2    La violencia simbólica contra el Gobierno de G...   \n",
              "3    Videoanálisis | Un acuerdo nacional pero con l...   \n",
              "4    Resultados Miss Universo 2023: Nicaragua, gana...   \n",
              "..                                                 ...   \n",
              "490  Encuentre las principales noticias de economía...   \n",
              "491                                              Blogs   \n",
              "492                                     Estilo de vida   \n",
              "493  Hay 2.000 cupos para estudiar, gratis, program...   \n",
              "494  Samsung y la Universidad del Rosario buscan 46...   \n",
              "\n",
              "                                               Article  \\\n",
              "0    Maduro promete hacer \"lo posible para que el p...   \n",
              "1    Texto en el que el autor aboga por ideas y sac...   \n",
              "2    La violencia simbólica contra el Gobierno de G...   \n",
              "3    La periodista Diana Calderón recuerda que la c...   \n",
              "4    Así se definió Miss Universo 2023\\n\\nEl moment...   \n",
              "..                                                 ...   \n",
              "490  SUSCRÍBETE A NUESTROS BOLETINES\\n\\nPara que es...   \n",
              "491  La distancia entre ciencia y espiritualidad es...   \n",
              "492  Los mejores trabajos del futuro: grandes sueld...   \n",
              "493  La formación será en línea. Foto: Getty Images...   \n",
              "494  Política de datos personales ×\\n\\nEl usuario a...   \n",
              "\n",
              "                                               Summary  \n",
              "0    Maduro ha subrayado que Colombia y Venezuela h...  \n",
              "1    Texto en el que el autor aboga por ideas y sac...  \n",
              "2    La semana que termina, particularmente violent...  \n",
              "3    La periodista Diana Calderón recuerda que la c...  \n",
              "4    Así se definió Miss Universo 2023El momento ex...  \n",
              "..                                                 ...  \n",
              "490  SUSCRÍBETE A NUESTROS BOLETINESPara que estés ...  \n",
              "491  La distancia entre ciencia y espiritualidad es...  \n",
              "492  Los mejores trabajos del futuro: grandes sueld...  \n",
              "493  Las clases son 100% virtuales y en vivo, acerc...  \n",
              "494  Esta información es agrupada en datos básicos ...  \n",
              "\n",
              "[495 rows x 7 columns]"
            ],
            "text/html": [
              "\n",
              "  <div id=\"df-716a124d-e47f-404b-81d7-f01f3726e027\" class=\"colab-df-container\">\n",
              "    <div>\n",
              "<style scoped>\n",
              "    .dataframe tbody tr th:only-of-type {\n",
              "        vertical-align: middle;\n",
              "    }\n",
              "\n",
              "    .dataframe tbody tr th {\n",
              "        vertical-align: top;\n",
              "    }\n",
              "\n",
              "    .dataframe thead th {\n",
              "        text-align: right;\n",
              "    }\n",
              "</style>\n",
              "<table border=\"1\" class=\"dataframe\">\n",
              "  <thead>\n",
              "    <tr style=\"text-align: right;\">\n",
              "      <th></th>\n",
              "      <th>Unnamed: 0.1</th>\n",
              "      <th>Unnamed: 0</th>\n",
              "      <th>Date</th>\n",
              "      <th>Media</th>\n",
              "      <th>Title</th>\n",
              "      <th>Article</th>\n",
              "      <th>Summary</th>\n",
              "    </tr>\n",
              "  </thead>\n",
              "  <tbody>\n",
              "    <tr>\n",
              "      <th>0</th>\n",
              "      <td>0</td>\n",
              "      <td>0</td>\n",
              "      <td>Hace 36 minutos</td>\n",
              "      <td>Europa Press</td>\n",
              "      <td>Petro asegura que Venezuela será uno de los mo...</td>\n",
              "      <td>Maduro promete hacer \"lo posible para que el p...</td>\n",
              "      <td>Maduro ha subrayado que Colombia y Venezuela h...</td>\n",
              "    </tr>\n",
              "    <tr>\n",
              "      <th>1</th>\n",
              "      <td>1</td>\n",
              "      <td>1</td>\n",
              "      <td>Hace 37 minutos</td>\n",
              "      <td>EL PAÍS</td>\n",
              "      <td>Un día en la vida del ministro Bonilla</td>\n",
              "      <td>Texto en el que el autor aboga por ideas y sac...</td>\n",
              "      <td>Texto en el que el autor aboga por ideas y sac...</td>\n",
              "    </tr>\n",
              "    <tr>\n",
              "      <th>2</th>\n",
              "      <td>2</td>\n",
              "      <td>2</td>\n",
              "      <td>Hace 37 minutos</td>\n",
              "      <td>EL PAÍS</td>\n",
              "      <td>La violencia simbólica contra el Gobierno de G...</td>\n",
              "      <td>La violencia simbólica contra el Gobierno de G...</td>\n",
              "      <td>La semana que termina, particularmente violent...</td>\n",
              "    </tr>\n",
              "    <tr>\n",
              "      <th>3</th>\n",
              "      <td>3</td>\n",
              "      <td>3</td>\n",
              "      <td>Hace 37 minutos</td>\n",
              "      <td>EL PAÍS</td>\n",
              "      <td>Videoanálisis | Un acuerdo nacional pero con l...</td>\n",
              "      <td>La periodista Diana Calderón recuerda que la c...</td>\n",
              "      <td>La periodista Diana Calderón recuerda que la c...</td>\n",
              "    </tr>\n",
              "    <tr>\n",
              "      <th>4</th>\n",
              "      <td>4</td>\n",
              "      <td>4</td>\n",
              "      <td>Hace 1 hora</td>\n",
              "      <td>AS Colombia</td>\n",
              "      <td>Resultados Miss Universo 2023: Nicaragua, gana...</td>\n",
              "      <td>Así se definió Miss Universo 2023\\n\\nEl moment...</td>\n",
              "      <td>Así se definió Miss Universo 2023El momento ex...</td>\n",
              "    </tr>\n",
              "    <tr>\n",
              "      <th>...</th>\n",
              "      <td>...</td>\n",
              "      <td>...</td>\n",
              "      <td>...</td>\n",
              "      <td>...</td>\n",
              "      <td>...</td>\n",
              "      <td>...</td>\n",
              "      <td>...</td>\n",
              "    </tr>\n",
              "    <tr>\n",
              "      <th>490</th>\n",
              "      <td>490</td>\n",
              "      <td>16</td>\n",
              "      <td>Hace 8 meses</td>\n",
              "      <td>Pulzo</td>\n",
              "      <td>Encuentre las principales noticias de economía...</td>\n",
              "      <td>SUSCRÍBETE A NUESTROS BOLETINES\\n\\nPara que es...</td>\n",
              "      <td>SUSCRÍBETE A NUESTROS BOLETINESPara que estés ...</td>\n",
              "    </tr>\n",
              "    <tr>\n",
              "      <th>491</th>\n",
              "      <td>491</td>\n",
              "      <td>17</td>\n",
              "      <td>Hace 8 meses</td>\n",
              "      <td>Compartir Palabra Maestra</td>\n",
              "      <td>Blogs</td>\n",
              "      <td>La distancia entre ciencia y espiritualidad es...</td>\n",
              "      <td>La distancia entre ciencia y espiritualidad es...</td>\n",
              "    </tr>\n",
              "    <tr>\n",
              "      <th>492</th>\n",
              "      <td>492</td>\n",
              "      <td>18</td>\n",
              "      <td>Hace 12 meses</td>\n",
              "      <td>RCN Radio</td>\n",
              "      <td>Estilo de vida</td>\n",
              "      <td>Los mejores trabajos del futuro: grandes sueld...</td>\n",
              "      <td>Los mejores trabajos del futuro: grandes sueld...</td>\n",
              "    </tr>\n",
              "    <tr>\n",
              "      <th>493</th>\n",
              "      <td>493</td>\n",
              "      <td>19</td>\n",
              "      <td>Hace 12 meses</td>\n",
              "      <td>El Espectador</td>\n",
              "      <td>Hay 2.000 cupos para estudiar, gratis, program...</td>\n",
              "      <td>La formación será en línea. Foto: Getty Images...</td>\n",
              "      <td>Las clases son 100% virtuales y en vivo, acerc...</td>\n",
              "    </tr>\n",
              "    <tr>\n",
              "      <th>494</th>\n",
              "      <td>494</td>\n",
              "      <td>20</td>\n",
              "      <td>Hace 12 meses</td>\n",
              "      <td>El Quindiano</td>\n",
              "      <td>Samsung y la Universidad del Rosario buscan 46...</td>\n",
              "      <td>Política de datos personales ×\\n\\nEl usuario a...</td>\n",
              "      <td>Esta información es agrupada en datos básicos ...</td>\n",
              "    </tr>\n",
              "  </tbody>\n",
              "</table>\n",
              "<p>495 rows × 7 columns</p>\n",
              "</div>\n",
              "    <div class=\"colab-df-buttons\">\n",
              "\n",
              "  <div class=\"colab-df-container\">\n",
              "    <button class=\"colab-df-convert\" onclick=\"convertToInteractive('df-716a124d-e47f-404b-81d7-f01f3726e027')\"\n",
              "            title=\"Convert this dataframe to an interactive table.\"\n",
              "            style=\"display:none;\">\n",
              "\n",
              "  <svg xmlns=\"http://www.w3.org/2000/svg\" height=\"24px\" viewBox=\"0 -960 960 960\">\n",
              "    <path d=\"M120-120v-720h720v720H120Zm60-500h600v-160H180v160Zm220 220h160v-160H400v160Zm0 220h160v-160H400v160ZM180-400h160v-160H180v160Zm440 0h160v-160H620v160ZM180-180h160v-160H180v160Zm440 0h160v-160H620v160Z\"/>\n",
              "  </svg>\n",
              "    </button>\n",
              "\n",
              "  <style>\n",
              "    .colab-df-container {\n",
              "      display:flex;\n",
              "      gap: 12px;\n",
              "    }\n",
              "\n",
              "    .colab-df-convert {\n",
              "      background-color: #E8F0FE;\n",
              "      border: none;\n",
              "      border-radius: 50%;\n",
              "      cursor: pointer;\n",
              "      display: none;\n",
              "      fill: #1967D2;\n",
              "      height: 32px;\n",
              "      padding: 0 0 0 0;\n",
              "      width: 32px;\n",
              "    }\n",
              "\n",
              "    .colab-df-convert:hover {\n",
              "      background-color: #E2EBFA;\n",
              "      box-shadow: 0px 1px 2px rgba(60, 64, 67, 0.3), 0px 1px 3px 1px rgba(60, 64, 67, 0.15);\n",
              "      fill: #174EA6;\n",
              "    }\n",
              "\n",
              "    .colab-df-buttons div {\n",
              "      margin-bottom: 4px;\n",
              "    }\n",
              "\n",
              "    [theme=dark] .colab-df-convert {\n",
              "      background-color: #3B4455;\n",
              "      fill: #D2E3FC;\n",
              "    }\n",
              "\n",
              "    [theme=dark] .colab-df-convert:hover {\n",
              "      background-color: #434B5C;\n",
              "      box-shadow: 0px 1px 3px 1px rgba(0, 0, 0, 0.15);\n",
              "      filter: drop-shadow(0px 1px 2px rgba(0, 0, 0, 0.3));\n",
              "      fill: #FFFFFF;\n",
              "    }\n",
              "  </style>\n",
              "\n",
              "    <script>\n",
              "      const buttonEl =\n",
              "        document.querySelector('#df-716a124d-e47f-404b-81d7-f01f3726e027 button.colab-df-convert');\n",
              "      buttonEl.style.display =\n",
              "        google.colab.kernel.accessAllowed ? 'block' : 'none';\n",
              "\n",
              "      async function convertToInteractive(key) {\n",
              "        const element = document.querySelector('#df-716a124d-e47f-404b-81d7-f01f3726e027');\n",
              "        const dataTable =\n",
              "          await google.colab.kernel.invokeFunction('convertToInteractive',\n",
              "                                                    [key], {});\n",
              "        if (!dataTable) return;\n",
              "\n",
              "        const docLinkHtml = 'Like what you see? Visit the ' +\n",
              "          '<a target=\"_blank\" href=https://colab.research.google.com/notebooks/data_table.ipynb>data table notebook</a>'\n",
              "          + ' to learn more about interactive tables.';\n",
              "        element.innerHTML = '';\n",
              "        dataTable['output_type'] = 'display_data';\n",
              "        await google.colab.output.renderOutput(dataTable, element);\n",
              "        const docLink = document.createElement('div');\n",
              "        docLink.innerHTML = docLinkHtml;\n",
              "        element.appendChild(docLink);\n",
              "      }\n",
              "    </script>\n",
              "  </div>\n",
              "\n",
              "\n",
              "<div id=\"df-f401c541-27d7-4b73-b452-26f07a5899a3\">\n",
              "  <button class=\"colab-df-quickchart\" onclick=\"quickchart('df-f401c541-27d7-4b73-b452-26f07a5899a3')\"\n",
              "            title=\"Suggest charts\"\n",
              "            style=\"display:none;\">\n",
              "\n",
              "<svg xmlns=\"http://www.w3.org/2000/svg\" height=\"24px\"viewBox=\"0 0 24 24\"\n",
              "     width=\"24px\">\n",
              "    <g>\n",
              "        <path d=\"M19 3H5c-1.1 0-2 .9-2 2v14c0 1.1.9 2 2 2h14c1.1 0 2-.9 2-2V5c0-1.1-.9-2-2-2zM9 17H7v-7h2v7zm4 0h-2V7h2v10zm4 0h-2v-4h2v4z\"/>\n",
              "    </g>\n",
              "</svg>\n",
              "  </button>\n",
              "\n",
              "<style>\n",
              "  .colab-df-quickchart {\n",
              "      --bg-color: #E8F0FE;\n",
              "      --fill-color: #1967D2;\n",
              "      --hover-bg-color: #E2EBFA;\n",
              "      --hover-fill-color: #174EA6;\n",
              "      --disabled-fill-color: #AAA;\n",
              "      --disabled-bg-color: #DDD;\n",
              "  }\n",
              "\n",
              "  [theme=dark] .colab-df-quickchart {\n",
              "      --bg-color: #3B4455;\n",
              "      --fill-color: #D2E3FC;\n",
              "      --hover-bg-color: #434B5C;\n",
              "      --hover-fill-color: #FFFFFF;\n",
              "      --disabled-bg-color: #3B4455;\n",
              "      --disabled-fill-color: #666;\n",
              "  }\n",
              "\n",
              "  .colab-df-quickchart {\n",
              "    background-color: var(--bg-color);\n",
              "    border: none;\n",
              "    border-radius: 50%;\n",
              "    cursor: pointer;\n",
              "    display: none;\n",
              "    fill: var(--fill-color);\n",
              "    height: 32px;\n",
              "    padding: 0;\n",
              "    width: 32px;\n",
              "  }\n",
              "\n",
              "  .colab-df-quickchart:hover {\n",
              "    background-color: var(--hover-bg-color);\n",
              "    box-shadow: 0 1px 2px rgba(60, 64, 67, 0.3), 0 1px 3px 1px rgba(60, 64, 67, 0.15);\n",
              "    fill: var(--button-hover-fill-color);\n",
              "  }\n",
              "\n",
              "  .colab-df-quickchart-complete:disabled,\n",
              "  .colab-df-quickchart-complete:disabled:hover {\n",
              "    background-color: var(--disabled-bg-color);\n",
              "    fill: var(--disabled-fill-color);\n",
              "    box-shadow: none;\n",
              "  }\n",
              "\n",
              "  .colab-df-spinner {\n",
              "    border: 2px solid var(--fill-color);\n",
              "    border-color: transparent;\n",
              "    border-bottom-color: var(--fill-color);\n",
              "    animation:\n",
              "      spin 1s steps(1) infinite;\n",
              "  }\n",
              "\n",
              "  @keyframes spin {\n",
              "    0% {\n",
              "      border-color: transparent;\n",
              "      border-bottom-color: var(--fill-color);\n",
              "      border-left-color: var(--fill-color);\n",
              "    }\n",
              "    20% {\n",
              "      border-color: transparent;\n",
              "      border-left-color: var(--fill-color);\n",
              "      border-top-color: var(--fill-color);\n",
              "    }\n",
              "    30% {\n",
              "      border-color: transparent;\n",
              "      border-left-color: var(--fill-color);\n",
              "      border-top-color: var(--fill-color);\n",
              "      border-right-color: var(--fill-color);\n",
              "    }\n",
              "    40% {\n",
              "      border-color: transparent;\n",
              "      border-right-color: var(--fill-color);\n",
              "      border-top-color: var(--fill-color);\n",
              "    }\n",
              "    60% {\n",
              "      border-color: transparent;\n",
              "      border-right-color: var(--fill-color);\n",
              "    }\n",
              "    80% {\n",
              "      border-color: transparent;\n",
              "      border-right-color: var(--fill-color);\n",
              "      border-bottom-color: var(--fill-color);\n",
              "    }\n",
              "    90% {\n",
              "      border-color: transparent;\n",
              "      border-bottom-color: var(--fill-color);\n",
              "    }\n",
              "  }\n",
              "</style>\n",
              "\n",
              "  <script>\n",
              "    async function quickchart(key) {\n",
              "      const quickchartButtonEl =\n",
              "        document.querySelector('#' + key + ' button');\n",
              "      quickchartButtonEl.disabled = true;  // To prevent multiple clicks.\n",
              "      quickchartButtonEl.classList.add('colab-df-spinner');\n",
              "      try {\n",
              "        const charts = await google.colab.kernel.invokeFunction(\n",
              "            'suggestCharts', [key], {});\n",
              "      } catch (error) {\n",
              "        console.error('Error during call to suggestCharts:', error);\n",
              "      }\n",
              "      quickchartButtonEl.classList.remove('colab-df-spinner');\n",
              "      quickchartButtonEl.classList.add('colab-df-quickchart-complete');\n",
              "    }\n",
              "    (() => {\n",
              "      let quickchartButtonEl =\n",
              "        document.querySelector('#df-f401c541-27d7-4b73-b452-26f07a5899a3 button');\n",
              "      quickchartButtonEl.style.display =\n",
              "        google.colab.kernel.accessAllowed ? 'block' : 'none';\n",
              "    })();\n",
              "  </script>\n",
              "</div>\n",
              "    </div>\n",
              "  </div>\n"
            ]
          },
          "metadata": {},
          "execution_count": 8
        }
      ]
    },
    {
      "cell_type": "markdown",
      "source": [
        "## **2. Estructura Típica de Preprocesamiento**\n",
        "---\n",
        "\n",
        "En este caso se exponen algunas de las operaciones más comunes en distintos preprocesamientos de información textual. Es necesario resaltar que no en todos los casos se necesitará aplicar todas las técnicas e incluso en alguna aplicación específica se necesita estrategias más especializadas, no obstante, lo que se presenta a continuación aplica de forma general a la gran mayoría de aplicaciones de Procesamiento de Lenguaje Natural.\n",
        "\n",
        "Para estos ejemplos se diseñó el preprocesamiento para un único documento y, posteriormente, se aplicará todo el **preprocesamiento** al _corpus_"
      ],
      "metadata": {
        "id": "hpFJ1Ns8GjTO"
      }
    },
    {
      "cell_type": "code",
      "source": [
        "# texto que se utilizará para exponer las tecnicas de pre procesamiento\n",
        "text = df['Article'].iloc[100]\n",
        "print(text)"
      ],
      "metadata": {
        "colab": {
          "base_uri": "https://localhost:8080/"
        },
        "id": "QbhetGMKGadw",
        "outputId": "2b9a0b8b-d509-4885-cd9a-a3769efe1839"
      },
      "execution_count": 20,
      "outputs": [
        {
          "output_type": "stream",
          "name": "stdout",
          "text": [
            "¡Llega una nueva jornada de Eliminatorias Sudamericanas! La Selección Colombia quiere dar un paso importante en la búsqueda de la clasificación al Mundial de Estados Unidos - México - Canadá de 2026 y este jueves recibe la Selección de Brasil por la quinta fecha en el estadio Metropolitano Roberto Meléndez (7:00 p.m.). El equipo nacional buscará su primera victoria en la historia de los clasificatorios ante los pentacampeones.\n",
            "\n",
            "Los dirigidos por Néstor Lorenzo se ubican en la quinta casilla de la tabla de posiciones con 6 puntos luego de un partido ganado y tres empatados. Son junto a Argentina las dos únicas selecciones que se mantienen invictas, mientras que la Canarinha es tercera con una unidad más, tras dos victorias, un empate y una derrota. Por el momento ambos seleccionados se mantienen en zona de clasificación al Mundial.\n",
            "\n",
            "La Selección Colombia, que solamente le ha ganado tres veces en toda la historia a Brasil (dos en la Copa América y una en un encuentro amistoso) buscará su primer triunfo por Eliminatorias. El balance hasta el momento es de 7 empates y 7 derrotas en los compromisos clasificatorios, en donde la Tricolor solo ha convertido cinco tantos y ha recibido 21.\n",
            "\n",
            "Colombia y Brasil, con bajas para afrontar el partido\n",
            "\n",
            "Además de las bajas que tuvieron que hacer Colombia y Brasil durante la convocatoria por sus lesiones como fue el caso de Santiago Arias, Mateo Cassierra y Ederson Moraes. No podrán contar con jugadores que actualmente están en su concentración. En el caso del equipo nacional se trata de Jhon Arias, que estará ausente por sanción tras acumularse en tarjetas amarillas.\n",
            "\n",
            "“Un descanso obligado. Quería estar disponible contra Brasil, iba a ser un partido especial para mí, pero no me lamento. Estoy aprovechando estos días para llegar a ese partido contra Paraguay de la mejor manera posible”, aseguró el extremo de Fluminense que es dirigido por Fernando Diniz.\n",
            "\n",
            "Por su parte, Brasil no podrá contar con Gabriel Jesús. El delantero de Arsenal está en su última etapa de recuperación por lo que prefirió permanecer en Granja Comary en Teresópolis, sede deportiva de la Selección de Brasil, con el objetivo de estar en perfecto estado para el juego ante Argentina.\n",
            "\n",
            "“Siempre hay una primera vez para ganar”\n",
            "\n",
            "El director técnico Néstor Lorenzo sueña con darle a la Selección Colombia su primera victoria ante Brasil por Eliminatorias. El entrenador argentino es consciente de la calidad de su rival, pero invitó a todos los colombianos a soñar con la oportunidad de dar la sorpresa y sumar tres puntos que serían importantes.\n",
            "\n",
            "“Siempre hay una primera vez para ganar y es un buen momento para hacerlo. Brasil tiene jugadores en los mejores equipos del mundo con mucha categoría. Vamos a tener que hacer un esfuerzo grande como equipo para equiparar esa categoría individual que ellos tienen. Tenemos mucha fe y ojalá sea la primera victoria de Colombia ante Brasil”, afirmó el DT.\n",
            "\n",
            "“Es un buen momento porque es ahora, cualquier racha negativa está para superarla y siempre tenemos la mentalidad de ganar donde sea y con quien sea. Ojalá que hagamos un buen partido, no podemos ganar si no jugamos bien. Lo ideal es plantear un partido para jugar bien y que el resultado se nos de a favor”, complementó.\n",
            "\n",
            "Alineaciones probables del Colombia vs Brasil\n",
            "\n",
            "Posible formación Colombia: Camilo Vargas; Daniel Muñoz, Carlos Cuesta, Davinson Sánchez, Deiver Machado; Kevin Castaño, Jefferson Lerma, Matheus Uribe; James Rodríguez, Luis Díaz, Rafael Santos Borré.\n",
            "\n",
            "Posible formación Brasil: Alisson; Emerson Royal, Marquinhos, Gabriel Magalhães, Renan Lodi; André, Bruno Guimarães; Raphinha, Rodrygo, Vini Jr, Gabriel Martinelli.\n",
            "\n",
            "Sigue el canal de Diario AS en WhatsApp, donde encontrarás todas las claves deportivas del día.\n"
          ]
        }
      ]
    },
    {
      "cell_type": "markdown",
      "source": [
        "## **3. Tokenizado del Texto**\n",
        "---\n",
        "\n",
        "El proceso de tokenizado consiste en separar el texto en unidades lógicas (caracteres, palabras, oraciones)."
      ],
      "metadata": {
        "id": "2QPZkuEDI87C"
      }
    },
    {
      "cell_type": "code",
      "source": [
        "# sentencias\n",
        "print('Tokenización por sentencias:\\n')\n",
        "sentences = sent_tokenize(text)\n",
        "for sentence in sentences:\n",
        "    print(sentence,'\\n')\n",
        "print('Tokenización por sentencias:\\n')\n",
        "print(sent_tokenize(text))\n",
        "\n",
        "# palabras\n",
        "tokens = word_tokenize(text)\n",
        "print('\\n Tokenización por palabras:')\n",
        "for token in tokens:\n",
        "    print(token, end =' ')\n",
        "print('')\n",
        "print('\\n Tokenización por palabras:')\n",
        "print(word_tokenize(text))\n",
        "\n",
        "# caracteres\n",
        "chars = [char for char in text]\n",
        "print('\\n Tokenización por caracteres:')\n",
        "for char in chars:\n",
        "    print(char, end =' ')\n",
        "print('')\n",
        "print('\\n Tokenización por caracteres:')\n",
        "print(chars)"
      ],
      "metadata": {
        "colab": {
          "base_uri": "https://localhost:8080/"
        },
        "id": "JnsEIU5zIudK",
        "outputId": "9b180cfc-1896-476e-93cf-8d5933deba20"
      },
      "execution_count": 21,
      "outputs": [
        {
          "output_type": "stream",
          "name": "stdout",
          "text": [
            "Tokenización por sentencias:\n",
            "\n",
            "¡Llega una nueva jornada de Eliminatorias Sudamericanas! \n",
            "\n",
            "La Selección Colombia quiere dar un paso importante en la búsqueda de la clasificación al Mundial de Estados Unidos - México - Canadá de 2026 y este jueves recibe la Selección de Brasil por la quinta fecha en el estadio Metropolitano Roberto Meléndez (7:00 p.m.). \n",
            "\n",
            "El equipo nacional buscará su primera victoria en la historia de los clasificatorios ante los pentacampeones. \n",
            "\n",
            "Los dirigidos por Néstor Lorenzo se ubican en la quinta casilla de la tabla de posiciones con 6 puntos luego de un partido ganado y tres empatados. \n",
            "\n",
            "Son junto a Argentina las dos únicas selecciones que se mantienen invictas, mientras que la Canarinha es tercera con una unidad más, tras dos victorias, un empate y una derrota. \n",
            "\n",
            "Por el momento ambos seleccionados se mantienen en zona de clasificación al Mundial. \n",
            "\n",
            "La Selección Colombia, que solamente le ha ganado tres veces en toda la historia a Brasil (dos en la Copa América y una en un encuentro amistoso) buscará su primer triunfo por Eliminatorias. \n",
            "\n",
            "El balance hasta el momento es de 7 empates y 7 derrotas en los compromisos clasificatorios, en donde la Tricolor solo ha convertido cinco tantos y ha recibido 21. \n",
            "\n",
            "Colombia y Brasil, con bajas para afrontar el partido\n",
            "\n",
            "Además de las bajas que tuvieron que hacer Colombia y Brasil durante la convocatoria por sus lesiones como fue el caso de Santiago Arias, Mateo Cassierra y Ederson Moraes. \n",
            "\n",
            "No podrán contar con jugadores que actualmente están en su concentración. \n",
            "\n",
            "En el caso del equipo nacional se trata de Jhon Arias, que estará ausente por sanción tras acumularse en tarjetas amarillas. \n",
            "\n",
            "“Un descanso obligado. \n",
            "\n",
            "Quería estar disponible contra Brasil, iba a ser un partido especial para mí, pero no me lamento. \n",
            "\n",
            "Estoy aprovechando estos días para llegar a ese partido contra Paraguay de la mejor manera posible”, aseguró el extremo de Fluminense que es dirigido por Fernando Diniz. \n",
            "\n",
            "Por su parte, Brasil no podrá contar con Gabriel Jesús. \n",
            "\n",
            "El delantero de Arsenal está en su última etapa de recuperación por lo que prefirió permanecer en Granja Comary en Teresópolis, sede deportiva de la Selección de Brasil, con el objetivo de estar en perfecto estado para el juego ante Argentina. \n",
            "\n",
            "“Siempre hay una primera vez para ganar”\n",
            "\n",
            "El director técnico Néstor Lorenzo sueña con darle a la Selección Colombia su primera victoria ante Brasil por Eliminatorias. \n",
            "\n",
            "El entrenador argentino es consciente de la calidad de su rival, pero invitó a todos los colombianos a soñar con la oportunidad de dar la sorpresa y sumar tres puntos que serían importantes. \n",
            "\n",
            "“Siempre hay una primera vez para ganar y es un buen momento para hacerlo. \n",
            "\n",
            "Brasil tiene jugadores en los mejores equipos del mundo con mucha categoría. \n",
            "\n",
            "Vamos a tener que hacer un esfuerzo grande como equipo para equiparar esa categoría individual que ellos tienen. \n",
            "\n",
            "Tenemos mucha fe y ojalá sea la primera victoria de Colombia ante Brasil”, afirmó el DT. \n",
            "\n",
            "“Es un buen momento porque es ahora, cualquier racha negativa está para superarla y siempre tenemos la mentalidad de ganar donde sea y con quien sea. \n",
            "\n",
            "Ojalá que hagamos un buen partido, no podemos ganar si no jugamos bien. \n",
            "\n",
            "Lo ideal es plantear un partido para jugar bien y que el resultado se nos de a favor”, complementó. \n",
            "\n",
            "Alineaciones probables del Colombia vs Brasil\n",
            "\n",
            "Posible formación Colombia: Camilo Vargas; Daniel Muñoz, Carlos Cuesta, Davinson Sánchez, Deiver Machado; Kevin Castaño, Jefferson Lerma, Matheus Uribe; James Rodríguez, Luis Díaz, Rafael Santos Borré. \n",
            "\n",
            "Posible formación Brasil: Alisson; Emerson Royal, Marquinhos, Gabriel Magalhães, Renan Lodi; André, Bruno Guimarães; Raphinha, Rodrygo, Vini Jr, Gabriel Martinelli. \n",
            "\n",
            "Sigue el canal de Diario AS en WhatsApp, donde encontrarás todas las claves deportivas del día. \n",
            "\n",
            "Tokenización por sentencias:\n",
            "\n",
            "['¡Llega una nueva jornada de Eliminatorias Sudamericanas!', 'La Selección Colombia quiere dar un paso importante en la búsqueda de la clasificación al Mundial de Estados Unidos - México - Canadá de 2026 y este jueves recibe la Selección de Brasil por la quinta fecha en el estadio Metropolitano Roberto Meléndez (7:00 p.m.).', 'El equipo nacional buscará su primera victoria en la historia de los clasificatorios ante los pentacampeones.', 'Los dirigidos por Néstor Lorenzo se ubican en la quinta casilla de la tabla de posiciones con 6 puntos luego de un partido ganado y tres empatados.', 'Son junto a Argentina las dos únicas selecciones que se mantienen invictas, mientras que la Canarinha es tercera con una unidad más, tras dos victorias, un empate y una derrota.', 'Por el momento ambos seleccionados se mantienen en zona de clasificación al Mundial.', 'La Selección Colombia, que solamente le ha ganado tres veces en toda la historia a Brasil (dos en la Copa América y una en un encuentro amistoso) buscará su primer triunfo por Eliminatorias.', 'El balance hasta el momento es de 7 empates y 7 derrotas en los compromisos clasificatorios, en donde la Tricolor solo ha convertido cinco tantos y ha recibido 21.', 'Colombia y Brasil, con bajas para afrontar el partido\\n\\nAdemás de las bajas que tuvieron que hacer Colombia y Brasil durante la convocatoria por sus lesiones como fue el caso de Santiago Arias, Mateo Cassierra y Ederson Moraes.', 'No podrán contar con jugadores que actualmente están en su concentración.', 'En el caso del equipo nacional se trata de Jhon Arias, que estará ausente por sanción tras acumularse en tarjetas amarillas.', '“Un descanso obligado.', 'Quería estar disponible contra Brasil, iba a ser un partido especial para mí, pero no me lamento.', 'Estoy aprovechando estos días para llegar a ese partido contra Paraguay de la mejor manera posible”, aseguró el extremo de Fluminense que es dirigido por Fernando Diniz.', 'Por su parte, Brasil no podrá contar con Gabriel Jesús.', 'El delantero de Arsenal está en su última etapa de recuperación por lo que prefirió permanecer en Granja Comary en Teresópolis, sede deportiva de la Selección de Brasil, con el objetivo de estar en perfecto estado para el juego ante Argentina.', '“Siempre hay una primera vez para ganar”\\n\\nEl director técnico Néstor Lorenzo sueña con darle a la Selección Colombia su primera victoria ante Brasil por Eliminatorias.', 'El entrenador argentino es consciente de la calidad de su rival, pero invitó a todos los colombianos a soñar con la oportunidad de dar la sorpresa y sumar tres puntos que serían importantes.', '“Siempre hay una primera vez para ganar y es un buen momento para hacerlo.', 'Brasil tiene jugadores en los mejores equipos del mundo con mucha categoría.', 'Vamos a tener que hacer un esfuerzo grande como equipo para equiparar esa categoría individual que ellos tienen.', 'Tenemos mucha fe y ojalá sea la primera victoria de Colombia ante Brasil”, afirmó el DT.', '“Es un buen momento porque es ahora, cualquier racha negativa está para superarla y siempre tenemos la mentalidad de ganar donde sea y con quien sea.', 'Ojalá que hagamos un buen partido, no podemos ganar si no jugamos bien.', 'Lo ideal es plantear un partido para jugar bien y que el resultado se nos de a favor”, complementó.', 'Alineaciones probables del Colombia vs Brasil\\n\\nPosible formación Colombia: Camilo Vargas; Daniel Muñoz, Carlos Cuesta, Davinson Sánchez, Deiver Machado; Kevin Castaño, Jefferson Lerma, Matheus Uribe; James Rodríguez, Luis Díaz, Rafael Santos Borré.', 'Posible formación Brasil: Alisson; Emerson Royal, Marquinhos, Gabriel Magalhães, Renan Lodi; André, Bruno Guimarães; Raphinha, Rodrygo, Vini Jr, Gabriel Martinelli.', 'Sigue el canal de Diario AS en WhatsApp, donde encontrarás todas las claves deportivas del día.']\n",
            "\n",
            " Tokenización por palabras:\n",
            "¡Llega una nueva jornada de Eliminatorias Sudamericanas ! La Selección Colombia quiere dar un paso importante en la búsqueda de la clasificación al Mundial de Estados Unidos - México - Canadá de 2026 y este jueves recibe la Selección de Brasil por la quinta fecha en el estadio Metropolitano Roberto Meléndez ( 7:00 p.m. ) . El equipo nacional buscará su primera victoria en la historia de los clasificatorios ante los pentacampeones . Los dirigidos por Néstor Lorenzo se ubican en la quinta casilla de la tabla de posiciones con 6 puntos luego de un partido ganado y tres empatados . Son junto a Argentina las dos únicas selecciones que se mantienen invictas , mientras que la Canarinha es tercera con una unidad más , tras dos victorias , un empate y una derrota . Por el momento ambos seleccionados se mantienen en zona de clasificación al Mundial . La Selección Colombia , que solamente le ha ganado tres veces en toda la historia a Brasil ( dos en la Copa América y una en un encuentro amistoso ) buscará su primer triunfo por Eliminatorias . El balance hasta el momento es de 7 empates y 7 derrotas en los compromisos clasificatorios , en donde la Tricolor solo ha convertido cinco tantos y ha recibido 21 . Colombia y Brasil , con bajas para afrontar el partido Además de las bajas que tuvieron que hacer Colombia y Brasil durante la convocatoria por sus lesiones como fue el caso de Santiago Arias , Mateo Cassierra y Ederson Moraes . No podrán contar con jugadores que actualmente están en su concentración . En el caso del equipo nacional se trata de Jhon Arias , que estará ausente por sanción tras acumularse en tarjetas amarillas . “ Un descanso obligado . Quería estar disponible contra Brasil , iba a ser un partido especial para mí , pero no me lamento . Estoy aprovechando estos días para llegar a ese partido contra Paraguay de la mejor manera posible ” , aseguró el extremo de Fluminense que es dirigido por Fernando Diniz . Por su parte , Brasil no podrá contar con Gabriel Jesús . El delantero de Arsenal está en su última etapa de recuperación por lo que prefirió permanecer en Granja Comary en Teresópolis , sede deportiva de la Selección de Brasil , con el objetivo de estar en perfecto estado para el juego ante Argentina . “ Siempre hay una primera vez para ganar ” El director técnico Néstor Lorenzo sueña con darle a la Selección Colombia su primera victoria ante Brasil por Eliminatorias . El entrenador argentino es consciente de la calidad de su rival , pero invitó a todos los colombianos a soñar con la oportunidad de dar la sorpresa y sumar tres puntos que serían importantes . “ Siempre hay una primera vez para ganar y es un buen momento para hacerlo . Brasil tiene jugadores en los mejores equipos del mundo con mucha categoría . Vamos a tener que hacer un esfuerzo grande como equipo para equiparar esa categoría individual que ellos tienen . Tenemos mucha fe y ojalá sea la primera victoria de Colombia ante Brasil ” , afirmó el DT . “ Es un buen momento porque es ahora , cualquier racha negativa está para superarla y siempre tenemos la mentalidad de ganar donde sea y con quien sea . Ojalá que hagamos un buen partido , no podemos ganar si no jugamos bien . Lo ideal es plantear un partido para jugar bien y que el resultado se nos de a favor ” , complementó . Alineaciones probables del Colombia vs Brasil Posible formación Colombia : Camilo Vargas ; Daniel Muñoz , Carlos Cuesta , Davinson Sánchez , Deiver Machado ; Kevin Castaño , Jefferson Lerma , Matheus Uribe ; James Rodríguez , Luis Díaz , Rafael Santos Borré . Posible formación Brasil : Alisson ; Emerson Royal , Marquinhos , Gabriel Magalhães , Renan Lodi ; André , Bruno Guimarães ; Raphinha , Rodrygo , Vini Jr , Gabriel Martinelli . Sigue el canal de Diario AS en WhatsApp , donde encontrarás todas las claves deportivas del día . \n",
            "\n",
            " Tokenización por palabras:\n",
            "['¡Llega', 'una', 'nueva', 'jornada', 'de', 'Eliminatorias', 'Sudamericanas', '!', 'La', 'Selección', 'Colombia', 'quiere', 'dar', 'un', 'paso', 'importante', 'en', 'la', 'búsqueda', 'de', 'la', 'clasificación', 'al', 'Mundial', 'de', 'Estados', 'Unidos', '-', 'México', '-', 'Canadá', 'de', '2026', 'y', 'este', 'jueves', 'recibe', 'la', 'Selección', 'de', 'Brasil', 'por', 'la', 'quinta', 'fecha', 'en', 'el', 'estadio', 'Metropolitano', 'Roberto', 'Meléndez', '(', '7:00', 'p.m.', ')', '.', 'El', 'equipo', 'nacional', 'buscará', 'su', 'primera', 'victoria', 'en', 'la', 'historia', 'de', 'los', 'clasificatorios', 'ante', 'los', 'pentacampeones', '.', 'Los', 'dirigidos', 'por', 'Néstor', 'Lorenzo', 'se', 'ubican', 'en', 'la', 'quinta', 'casilla', 'de', 'la', 'tabla', 'de', 'posiciones', 'con', '6', 'puntos', 'luego', 'de', 'un', 'partido', 'ganado', 'y', 'tres', 'empatados', '.', 'Son', 'junto', 'a', 'Argentina', 'las', 'dos', 'únicas', 'selecciones', 'que', 'se', 'mantienen', 'invictas', ',', 'mientras', 'que', 'la', 'Canarinha', 'es', 'tercera', 'con', 'una', 'unidad', 'más', ',', 'tras', 'dos', 'victorias', ',', 'un', 'empate', 'y', 'una', 'derrota', '.', 'Por', 'el', 'momento', 'ambos', 'seleccionados', 'se', 'mantienen', 'en', 'zona', 'de', 'clasificación', 'al', 'Mundial', '.', 'La', 'Selección', 'Colombia', ',', 'que', 'solamente', 'le', 'ha', 'ganado', 'tres', 'veces', 'en', 'toda', 'la', 'historia', 'a', 'Brasil', '(', 'dos', 'en', 'la', 'Copa', 'América', 'y', 'una', 'en', 'un', 'encuentro', 'amistoso', ')', 'buscará', 'su', 'primer', 'triunfo', 'por', 'Eliminatorias', '.', 'El', 'balance', 'hasta', 'el', 'momento', 'es', 'de', '7', 'empates', 'y', '7', 'derrotas', 'en', 'los', 'compromisos', 'clasificatorios', ',', 'en', 'donde', 'la', 'Tricolor', 'solo', 'ha', 'convertido', 'cinco', 'tantos', 'y', 'ha', 'recibido', '21', '.', 'Colombia', 'y', 'Brasil', ',', 'con', 'bajas', 'para', 'afrontar', 'el', 'partido', 'Además', 'de', 'las', 'bajas', 'que', 'tuvieron', 'que', 'hacer', 'Colombia', 'y', 'Brasil', 'durante', 'la', 'convocatoria', 'por', 'sus', 'lesiones', 'como', 'fue', 'el', 'caso', 'de', 'Santiago', 'Arias', ',', 'Mateo', 'Cassierra', 'y', 'Ederson', 'Moraes', '.', 'No', 'podrán', 'contar', 'con', 'jugadores', 'que', 'actualmente', 'están', 'en', 'su', 'concentración', '.', 'En', 'el', 'caso', 'del', 'equipo', 'nacional', 'se', 'trata', 'de', 'Jhon', 'Arias', ',', 'que', 'estará', 'ausente', 'por', 'sanción', 'tras', 'acumularse', 'en', 'tarjetas', 'amarillas', '.', '“', 'Un', 'descanso', 'obligado', '.', 'Quería', 'estar', 'disponible', 'contra', 'Brasil', ',', 'iba', 'a', 'ser', 'un', 'partido', 'especial', 'para', 'mí', ',', 'pero', 'no', 'me', 'lamento', '.', 'Estoy', 'aprovechando', 'estos', 'días', 'para', 'llegar', 'a', 'ese', 'partido', 'contra', 'Paraguay', 'de', 'la', 'mejor', 'manera', 'posible', '”', ',', 'aseguró', 'el', 'extremo', 'de', 'Fluminense', 'que', 'es', 'dirigido', 'por', 'Fernando', 'Diniz', '.', 'Por', 'su', 'parte', ',', 'Brasil', 'no', 'podrá', 'contar', 'con', 'Gabriel', 'Jesús', '.', 'El', 'delantero', 'de', 'Arsenal', 'está', 'en', 'su', 'última', 'etapa', 'de', 'recuperación', 'por', 'lo', 'que', 'prefirió', 'permanecer', 'en', 'Granja', 'Comary', 'en', 'Teresópolis', ',', 'sede', 'deportiva', 'de', 'la', 'Selección', 'de', 'Brasil', ',', 'con', 'el', 'objetivo', 'de', 'estar', 'en', 'perfecto', 'estado', 'para', 'el', 'juego', 'ante', 'Argentina', '.', '“', 'Siempre', 'hay', 'una', 'primera', 'vez', 'para', 'ganar', '”', 'El', 'director', 'técnico', 'Néstor', 'Lorenzo', 'sueña', 'con', 'darle', 'a', 'la', 'Selección', 'Colombia', 'su', 'primera', 'victoria', 'ante', 'Brasil', 'por', 'Eliminatorias', '.', 'El', 'entrenador', 'argentino', 'es', 'consciente', 'de', 'la', 'calidad', 'de', 'su', 'rival', ',', 'pero', 'invitó', 'a', 'todos', 'los', 'colombianos', 'a', 'soñar', 'con', 'la', 'oportunidad', 'de', 'dar', 'la', 'sorpresa', 'y', 'sumar', 'tres', 'puntos', 'que', 'serían', 'importantes', '.', '“', 'Siempre', 'hay', 'una', 'primera', 'vez', 'para', 'ganar', 'y', 'es', 'un', 'buen', 'momento', 'para', 'hacerlo', '.', 'Brasil', 'tiene', 'jugadores', 'en', 'los', 'mejores', 'equipos', 'del', 'mundo', 'con', 'mucha', 'categoría', '.', 'Vamos', 'a', 'tener', 'que', 'hacer', 'un', 'esfuerzo', 'grande', 'como', 'equipo', 'para', 'equiparar', 'esa', 'categoría', 'individual', 'que', 'ellos', 'tienen', '.', 'Tenemos', 'mucha', 'fe', 'y', 'ojalá', 'sea', 'la', 'primera', 'victoria', 'de', 'Colombia', 'ante', 'Brasil', '”', ',', 'afirmó', 'el', 'DT', '.', '“', 'Es', 'un', 'buen', 'momento', 'porque', 'es', 'ahora', ',', 'cualquier', 'racha', 'negativa', 'está', 'para', 'superarla', 'y', 'siempre', 'tenemos', 'la', 'mentalidad', 'de', 'ganar', 'donde', 'sea', 'y', 'con', 'quien', 'sea', '.', 'Ojalá', 'que', 'hagamos', 'un', 'buen', 'partido', ',', 'no', 'podemos', 'ganar', 'si', 'no', 'jugamos', 'bien', '.', 'Lo', 'ideal', 'es', 'plantear', 'un', 'partido', 'para', 'jugar', 'bien', 'y', 'que', 'el', 'resultado', 'se', 'nos', 'de', 'a', 'favor', '”', ',', 'complementó', '.', 'Alineaciones', 'probables', 'del', 'Colombia', 'vs', 'Brasil', 'Posible', 'formación', 'Colombia', ':', 'Camilo', 'Vargas', ';', 'Daniel', 'Muñoz', ',', 'Carlos', 'Cuesta', ',', 'Davinson', 'Sánchez', ',', 'Deiver', 'Machado', ';', 'Kevin', 'Castaño', ',', 'Jefferson', 'Lerma', ',', 'Matheus', 'Uribe', ';', 'James', 'Rodríguez', ',', 'Luis', 'Díaz', ',', 'Rafael', 'Santos', 'Borré', '.', 'Posible', 'formación', 'Brasil', ':', 'Alisson', ';', 'Emerson', 'Royal', ',', 'Marquinhos', ',', 'Gabriel', 'Magalhães', ',', 'Renan', 'Lodi', ';', 'André', ',', 'Bruno', 'Guimarães', ';', 'Raphinha', ',', 'Rodrygo', ',', 'Vini', 'Jr', ',', 'Gabriel', 'Martinelli', '.', 'Sigue', 'el', 'canal', 'de', 'Diario', 'AS', 'en', 'WhatsApp', ',', 'donde', 'encontrarás', 'todas', 'las', 'claves', 'deportivas', 'del', 'día', '.']\n",
            "\n",
            " Tokenización por caracteres:\n",
            "¡ L l e g a   u n a   n u e v a   j o r n a d a   d e   E l i m i n a t o r i a s   S u d a m e r i c a n a s !   L a   S e l e c c i ó n   C o l o m b i a   q u i e r e   d a r   u n   p a s o   i m p o r t a n t e   e n   l a   b ú s q u e d a   d e   l a   c l a s i f i c a c i ó n   a l   M u n d i a l   d e   E s t a d o s   U n i d o s   -   M é x i c o   -   C a n a d á   d e   2 0 2 6   y   e s t e   j u e v e s   r e c i b e   l a   S e l e c c i ó n   d e   B r a s i l   p o r   l a   q u i n t a   f e c h a   e n   e l   e s t a d i o   M e t r o p o l i t a n o   R o b e r t o   M e l é n d e z   ( 7 : 0 0   p . m . ) .   E l   e q u i p o   n a c i o n a l   b u s c a r á   s u   p r i m e r a   v i c t o r i a   e n   l a   h i s t o r i a   d e   l o s   c l a s i f i c a t o r i o s   a n t e   l o s   p e n t a c a m p e o n e s . \n",
            " \n",
            " L o s   d i r i g i d o s   p o r   N é s t o r   L o r e n z o   s e   u b i c a n   e n   l a   q u i n t a   c a s i l l a   d e   l a   t a b l a   d e   p o s i c i o n e s   c o n   6   p u n t o s   l u e g o   d e   u n   p a r t i d o   g a n a d o   y   t r e s   e m p a t a d o s .   S o n   j u n t o   a   A r g e n t i n a   l a s   d o s   ú n i c a s   s e l e c c i o n e s   q u e   s e   m a n t i e n e n   i n v i c t a s ,   m i e n t r a s   q u e   l a   C a n a r i n h a   e s   t e r c e r a   c o n   u n a   u n i d a d   m á s ,   t r a s   d o s   v i c t o r i a s ,   u n   e m p a t e   y   u n a   d e r r o t a .   P o r   e l   m o m e n t o   a m b o s   s e l e c c i o n a d o s   s e   m a n t i e n e n   e n   z o n a   d e   c l a s i f i c a c i ó n   a l   M u n d i a l . \n",
            " \n",
            " L a   S e l e c c i ó n   C o l o m b i a ,   q u e   s o l a m e n t e   l e   h a   g a n a d o   t r e s   v e c e s   e n   t o d a   l a   h i s t o r i a   a   B r a s i l   ( d o s   e n   l a   C o p a   A m é r i c a   y   u n a   e n   u n   e n c u e n t r o   a m i s t o s o )   b u s c a r á   s u   p r i m e r   t r i u n f o   p o r   E l i m i n a t o r i a s .   E l   b a l a n c e   h a s t a   e l   m o m e n t o   e s   d e   7   e m p a t e s   y   7   d e r r o t a s   e n   l o s   c o m p r o m i s o s   c l a s i f i c a t o r i o s ,   e n   d o n d e   l a   T r i c o l o r   s o l o   h a   c o n v e r t i d o   c i n c o   t a n t o s   y   h a   r e c i b i d o   2 1 . \n",
            " \n",
            " C o l o m b i a   y   B r a s i l ,   c o n   b a j a s   p a r a   a f r o n t a r   e l   p a r t i d o \n",
            " \n",
            " A d e m á s   d e   l a s   b a j a s   q u e   t u v i e r o n   q u e   h a c e r   C o l o m b i a   y   B r a s i l   d u r a n t e   l a   c o n v o c a t o r i a   p o r   s u s   l e s i o n e s   c o m o   f u e   e l   c a s o   d e   S a n t i a g o   A r i a s ,   M a t e o   C a s s i e r r a   y   E d e r s o n   M o r a e s .   N o   p o d r á n   c o n t a r   c o n   j u g a d o r e s   q u e   a c t u a l m e n t e   e s t á n   e n   s u   c o n c e n t r a c i ó n .   E n   e l   c a s o   d e l   e q u i p o   n a c i o n a l   s e   t r a t a   d e   J h o n   A r i a s ,   q u e   e s t a r á   a u s e n t e   p o r   s a n c i ó n   t r a s   a c u m u l a r s e   e n   t a r j e t a s   a m a r i l l a s . \n",
            " \n",
            " “ U n   d e s c a n s o   o b l i g a d o .   Q u e r í a   e s t a r   d i s p o n i b l e   c o n t r a   B r a s i l ,   i b a   a   s e r   u n   p a r t i d o   e s p e c i a l   p a r a   m í ,   p e r o   n o   m e   l a m e n t o .   E s t o y   a p r o v e c h a n d o   e s t o s   d í a s   p a r a   l l e g a r   a   e s e   p a r t i d o   c o n t r a   P a r a g u a y   d e   l a   m e j o r   m a n e r a   p o s i b l e ” ,   a s e g u r ó   e l   e x t r e m o   d e   F l u m i n e n s e   q u e   e s   d i r i g i d o   p o r   F e r n a n d o   D i n i z . \n",
            " \n",
            " P o r   s u   p a r t e ,   B r a s i l   n o   p o d r á   c o n t a r   c o n   G a b r i e l   J e s ú s .   E l   d e l a n t e r o   d e   A r s e n a l   e s t á   e n   s u   ú l t i m a   e t a p a   d e   r e c u p e r a c i ó n   p o r   l o   q u e   p r e f i r i ó   p e r m a n e c e r   e n   G r a n j a   C o m a r y   e n   T e r e s ó p o l i s ,   s e d e   d e p o r t i v a   d e   l a   S e l e c c i ó n   d e   B r a s i l ,   c o n   e l   o b j e t i v o   d e   e s t a r   e n   p e r f e c t o   e s t a d o   p a r a   e l   j u e g o   a n t e   A r g e n t i n a . \n",
            " \n",
            " “ S i e m p r e   h a y   u n a   p r i m e r a   v e z   p a r a   g a n a r ” \n",
            " \n",
            " E l   d i r e c t o r   t é c n i c o   N é s t o r   L o r e n z o   s u e ñ a   c o n   d a r l e   a   l a   S e l e c c i ó n   C o l o m b i a   s u   p r i m e r a   v i c t o r i a   a n t e   B r a s i l   p o r   E l i m i n a t o r i a s .   E l   e n t r e n a d o r   a r g e n t i n o   e s   c o n s c i e n t e   d e   l a   c a l i d a d   d e   s u   r i v a l ,   p e r o   i n v i t ó   a   t o d o s   l o s   c o l o m b i a n o s   a   s o ñ a r   c o n   l a   o p o r t u n i d a d   d e   d a r   l a   s o r p r e s a   y   s u m a r   t r e s   p u n t o s   q u e   s e r í a n   i m p o r t a n t e s . \n",
            " \n",
            " “ S i e m p r e   h a y   u n a   p r i m e r a   v e z   p a r a   g a n a r   y   e s   u n   b u e n   m o m e n t o   p a r a   h a c e r l o .   B r a s i l   t i e n e   j u g a d o r e s   e n   l o s   m e j o r e s   e q u i p o s   d e l   m u n d o   c o n   m u c h a   c a t e g o r í a .   V a m o s   a   t e n e r   q u e   h a c e r   u n   e s f u e r z o   g r a n d e   c o m o   e q u i p o   p a r a   e q u i p a r a r   e s a   c a t e g o r í a   i n d i v i d u a l   q u e   e l l o s   t i e n e n .   T e n e m o s   m u c h a   f e   y   o j a l á   s e a   l a   p r i m e r a   v i c t o r i a   d e   C o l o m b i a   a n t e   B r a s i l ” ,   a f i r m ó   e l   D T . \n",
            " \n",
            " “ E s   u n   b u e n   m o m e n t o   p o r q u e   e s   a h o r a ,   c u a l q u i e r   r a c h a   n e g a t i v a   e s t á   p a r a   s u p e r a r l a   y   s i e m p r e   t e n e m o s   l a   m e n t a l i d a d   d e   g a n a r   d o n d e   s e a   y   c o n   q u i e n   s e a .   O j a l á   q u e   h a g a m o s   u n   b u e n   p a r t i d o ,   n o   p o d e m o s   g a n a r   s i   n o   j u g a m o s   b i e n .   L o   i d e a l   e s   p l a n t e a r   u n   p a r t i d o   p a r a   j u g a r   b i e n   y   q u e   e l   r e s u l t a d o   s e   n o s   d e   a   f a v o r ” ,   c o m p l e m e n t ó . \n",
            " \n",
            " A l i n e a c i o n e s   p r o b a b l e s   d e l   C o l o m b i a   v s   B r a s i l \n",
            " \n",
            " P o s i b l e   f o r m a c i ó n   C o l o m b i a :   C a m i l o   V a r g a s ;   D a n i e l   M u ñ o z ,   C a r l o s   C u e s t a ,   D a v i n s o n   S á n c h e z ,   D e i v e r   M a c h a d o ;   K e v i n   C a s t a ñ o ,   J e f f e r s o n   L e r m a ,   M a t h e u s   U r i b e ;   J a m e s   R o d r í g u e z ,   L u i s   D í a z ,   R a f a e l   S a n t o s   B o r r é . \n",
            " \n",
            " P o s i b l e   f o r m a c i ó n   B r a s i l :   A l i s s o n ;   E m e r s o n   R o y a l ,   M a r q u i n h o s ,   G a b r i e l   M a g a l h ã e s ,   R e n a n   L o d i ;   A n d r é ,   B r u n o   G u i m a r ã e s ;   R a p h i n h a ,   R o d r y g o ,   V i n i   J r ,   G a b r i e l   M a r t i n e l l i . \n",
            " \n",
            " S i g u e   e l   c a n a l   d e   D i a r i o   A S   e n   W h a t s A p p ,   d o n d e   e n c o n t r a r á s   t o d a s   l a s   c l a v e s   d e p o r t i v a s   d e l   d í a . \n",
            "\n",
            " Tokenización por caracteres:\n",
            "['¡', 'L', 'l', 'e', 'g', 'a', ' ', 'u', 'n', 'a', ' ', 'n', 'u', 'e', 'v', 'a', ' ', 'j', 'o', 'r', 'n', 'a', 'd', 'a', ' ', 'd', 'e', ' ', 'E', 'l', 'i', 'm', 'i', 'n', 'a', 't', 'o', 'r', 'i', 'a', 's', ' ', 'S', 'u', 'd', 'a', 'm', 'e', 'r', 'i', 'c', 'a', 'n', 'a', 's', '!', ' ', 'L', 'a', ' ', 'S', 'e', 'l', 'e', 'c', 'c', 'i', 'ó', 'n', ' ', 'C', 'o', 'l', 'o', 'm', 'b', 'i', 'a', ' ', 'q', 'u', 'i', 'e', 'r', 'e', ' ', 'd', 'a', 'r', ' ', 'u', 'n', ' ', 'p', 'a', 's', 'o', ' ', 'i', 'm', 'p', 'o', 'r', 't', 'a', 'n', 't', 'e', ' ', 'e', 'n', ' ', 'l', 'a', ' ', 'b', 'ú', 's', 'q', 'u', 'e', 'd', 'a', ' ', 'd', 'e', ' ', 'l', 'a', ' ', 'c', 'l', 'a', 's', 'i', 'f', 'i', 'c', 'a', 'c', 'i', 'ó', 'n', ' ', 'a', 'l', ' ', 'M', 'u', 'n', 'd', 'i', 'a', 'l', ' ', 'd', 'e', ' ', 'E', 's', 't', 'a', 'd', 'o', 's', ' ', 'U', 'n', 'i', 'd', 'o', 's', ' ', '-', ' ', 'M', 'é', 'x', 'i', 'c', 'o', ' ', '-', ' ', 'C', 'a', 'n', 'a', 'd', 'á', ' ', 'd', 'e', ' ', '2', '0', '2', '6', ' ', 'y', ' ', 'e', 's', 't', 'e', ' ', 'j', 'u', 'e', 'v', 'e', 's', ' ', 'r', 'e', 'c', 'i', 'b', 'e', ' ', 'l', 'a', ' ', 'S', 'e', 'l', 'e', 'c', 'c', 'i', 'ó', 'n', ' ', 'd', 'e', ' ', 'B', 'r', 'a', 's', 'i', 'l', ' ', 'p', 'o', 'r', ' ', 'l', 'a', ' ', 'q', 'u', 'i', 'n', 't', 'a', ' ', 'f', 'e', 'c', 'h', 'a', ' ', 'e', 'n', ' ', 'e', 'l', ' ', 'e', 's', 't', 'a', 'd', 'i', 'o', ' ', 'M', 'e', 't', 'r', 'o', 'p', 'o', 'l', 'i', 't', 'a', 'n', 'o', ' ', 'R', 'o', 'b', 'e', 'r', 't', 'o', ' ', 'M', 'e', 'l', 'é', 'n', 'd', 'e', 'z', ' ', '(', '7', ':', '0', '0', ' ', 'p', '.', 'm', '.', ')', '.', ' ', 'E', 'l', ' ', 'e', 'q', 'u', 'i', 'p', 'o', ' ', 'n', 'a', 'c', 'i', 'o', 'n', 'a', 'l', ' ', 'b', 'u', 's', 'c', 'a', 'r', 'á', ' ', 's', 'u', ' ', 'p', 'r', 'i', 'm', 'e', 'r', 'a', ' ', 'v', 'i', 'c', 't', 'o', 'r', 'i', 'a', ' ', 'e', 'n', ' ', 'l', 'a', ' ', 'h', 'i', 's', 't', 'o', 'r', 'i', 'a', ' ', 'd', 'e', ' ', 'l', 'o', 's', ' ', 'c', 'l', 'a', 's', 'i', 'f', 'i', 'c', 'a', 't', 'o', 'r', 'i', 'o', 's', ' ', 'a', 'n', 't', 'e', ' ', 'l', 'o', 's', ' ', 'p', 'e', 'n', 't', 'a', 'c', 'a', 'm', 'p', 'e', 'o', 'n', 'e', 's', '.', '\\n', '\\n', 'L', 'o', 's', ' ', 'd', 'i', 'r', 'i', 'g', 'i', 'd', 'o', 's', ' ', 'p', 'o', 'r', ' ', 'N', 'é', 's', 't', 'o', 'r', ' ', 'L', 'o', 'r', 'e', 'n', 'z', 'o', ' ', 's', 'e', ' ', 'u', 'b', 'i', 'c', 'a', 'n', ' ', 'e', 'n', ' ', 'l', 'a', ' ', 'q', 'u', 'i', 'n', 't', 'a', ' ', 'c', 'a', 's', 'i', 'l', 'l', 'a', ' ', 'd', 'e', ' ', 'l', 'a', ' ', 't', 'a', 'b', 'l', 'a', ' ', 'd', 'e', ' ', 'p', 'o', 's', 'i', 'c', 'i', 'o', 'n', 'e', 's', ' ', 'c', 'o', 'n', ' ', '6', ' ', 'p', 'u', 'n', 't', 'o', 's', ' ', 'l', 'u', 'e', 'g', 'o', ' ', 'd', 'e', ' ', 'u', 'n', ' ', 'p', 'a', 'r', 't', 'i', 'd', 'o', ' ', 'g', 'a', 'n', 'a', 'd', 'o', ' ', 'y', ' ', 't', 'r', 'e', 's', ' ', 'e', 'm', 'p', 'a', 't', 'a', 'd', 'o', 's', '.', ' ', 'S', 'o', 'n', ' ', 'j', 'u', 'n', 't', 'o', ' ', 'a', ' ', 'A', 'r', 'g', 'e', 'n', 't', 'i', 'n', 'a', ' ', 'l', 'a', 's', ' ', 'd', 'o', 's', ' ', 'ú', 'n', 'i', 'c', 'a', 's', ' ', 's', 'e', 'l', 'e', 'c', 'c', 'i', 'o', 'n', 'e', 's', ' ', 'q', 'u', 'e', ' ', 's', 'e', ' ', 'm', 'a', 'n', 't', 'i', 'e', 'n', 'e', 'n', ' ', 'i', 'n', 'v', 'i', 'c', 't', 'a', 's', ',', ' ', 'm', 'i', 'e', 'n', 't', 'r', 'a', 's', ' ', 'q', 'u', 'e', ' ', 'l', 'a', ' ', 'C', 'a', 'n', 'a', 'r', 'i', 'n', 'h', 'a', ' ', 'e', 's', ' ', 't', 'e', 'r', 'c', 'e', 'r', 'a', ' ', 'c', 'o', 'n', ' ', 'u', 'n', 'a', ' ', 'u', 'n', 'i', 'd', 'a', 'd', ' ', 'm', 'á', 's', ',', ' ', 't', 'r', 'a', 's', ' ', 'd', 'o', 's', ' ', 'v', 'i', 'c', 't', 'o', 'r', 'i', 'a', 's', ',', ' ', 'u', 'n', ' ', 'e', 'm', 'p', 'a', 't', 'e', ' ', 'y', ' ', 'u', 'n', 'a', ' ', 'd', 'e', 'r', 'r', 'o', 't', 'a', '.', ' ', 'P', 'o', 'r', ' ', 'e', 'l', ' ', 'm', 'o', 'm', 'e', 'n', 't', 'o', ' ', 'a', 'm', 'b', 'o', 's', ' ', 's', 'e', 'l', 'e', 'c', 'c', 'i', 'o', 'n', 'a', 'd', 'o', 's', ' ', 's', 'e', ' ', 'm', 'a', 'n', 't', 'i', 'e', 'n', 'e', 'n', ' ', 'e', 'n', ' ', 'z', 'o', 'n', 'a', ' ', 'd', 'e', ' ', 'c', 'l', 'a', 's', 'i', 'f', 'i', 'c', 'a', 'c', 'i', 'ó', 'n', ' ', 'a', 'l', ' ', 'M', 'u', 'n', 'd', 'i', 'a', 'l', '.', '\\n', '\\n', 'L', 'a', ' ', 'S', 'e', 'l', 'e', 'c', 'c', 'i', 'ó', 'n', ' ', 'C', 'o', 'l', 'o', 'm', 'b', 'i', 'a', ',', ' ', 'q', 'u', 'e', ' ', 's', 'o', 'l', 'a', 'm', 'e', 'n', 't', 'e', ' ', 'l', 'e', ' ', 'h', 'a', ' ', 'g', 'a', 'n', 'a', 'd', 'o', ' ', 't', 'r', 'e', 's', ' ', 'v', 'e', 'c', 'e', 's', ' ', 'e', 'n', ' ', 't', 'o', 'd', 'a', ' ', 'l', 'a', ' ', 'h', 'i', 's', 't', 'o', 'r', 'i', 'a', ' ', 'a', ' ', 'B', 'r', 'a', 's', 'i', 'l', ' ', '(', 'd', 'o', 's', ' ', 'e', 'n', ' ', 'l', 'a', ' ', 'C', 'o', 'p', 'a', ' ', 'A', 'm', 'é', 'r', 'i', 'c', 'a', ' ', 'y', ' ', 'u', 'n', 'a', ' ', 'e', 'n', ' ', 'u', 'n', ' ', 'e', 'n', 'c', 'u', 'e', 'n', 't', 'r', 'o', ' ', 'a', 'm', 'i', 's', 't', 'o', 's', 'o', ')', ' ', 'b', 'u', 's', 'c', 'a', 'r', 'á', ' ', 's', 'u', ' ', 'p', 'r', 'i', 'm', 'e', 'r', ' ', 't', 'r', 'i', 'u', 'n', 'f', 'o', ' ', 'p', 'o', 'r', ' ', 'E', 'l', 'i', 'm', 'i', 'n', 'a', 't', 'o', 'r', 'i', 'a', 's', '.', ' ', 'E', 'l', ' ', 'b', 'a', 'l', 'a', 'n', 'c', 'e', ' ', 'h', 'a', 's', 't', 'a', ' ', 'e', 'l', ' ', 'm', 'o', 'm', 'e', 'n', 't', 'o', ' ', 'e', 's', ' ', 'd', 'e', ' ', '7', ' ', 'e', 'm', 'p', 'a', 't', 'e', 's', ' ', 'y', ' ', '7', ' ', 'd', 'e', 'r', 'r', 'o', 't', 'a', 's', ' ', 'e', 'n', ' ', 'l', 'o', 's', ' ', 'c', 'o', 'm', 'p', 'r', 'o', 'm', 'i', 's', 'o', 's', ' ', 'c', 'l', 'a', 's', 'i', 'f', 'i', 'c', 'a', 't', 'o', 'r', 'i', 'o', 's', ',', ' ', 'e', 'n', ' ', 'd', 'o', 'n', 'd', 'e', ' ', 'l', 'a', ' ', 'T', 'r', 'i', 'c', 'o', 'l', 'o', 'r', ' ', 's', 'o', 'l', 'o', ' ', 'h', 'a', ' ', 'c', 'o', 'n', 'v', 'e', 'r', 't', 'i', 'd', 'o', ' ', 'c', 'i', 'n', 'c', 'o', ' ', 't', 'a', 'n', 't', 'o', 's', ' ', 'y', ' ', 'h', 'a', ' ', 'r', 'e', 'c', 'i', 'b', 'i', 'd', 'o', ' ', '2', '1', '.', '\\n', '\\n', 'C', 'o', 'l', 'o', 'm', 'b', 'i', 'a', ' ', 'y', ' ', 'B', 'r', 'a', 's', 'i', 'l', ',', ' ', 'c', 'o', 'n', ' ', 'b', 'a', 'j', 'a', 's', ' ', 'p', 'a', 'r', 'a', ' ', 'a', 'f', 'r', 'o', 'n', 't', 'a', 'r', ' ', 'e', 'l', ' ', 'p', 'a', 'r', 't', 'i', 'd', 'o', '\\n', '\\n', 'A', 'd', 'e', 'm', 'á', 's', ' ', 'd', 'e', ' ', 'l', 'a', 's', ' ', 'b', 'a', 'j', 'a', 's', ' ', 'q', 'u', 'e', ' ', 't', 'u', 'v', 'i', 'e', 'r', 'o', 'n', ' ', 'q', 'u', 'e', ' ', 'h', 'a', 'c', 'e', 'r', ' ', 'C', 'o', 'l', 'o', 'm', 'b', 'i', 'a', ' ', 'y', ' ', 'B', 'r', 'a', 's', 'i', 'l', ' ', 'd', 'u', 'r', 'a', 'n', 't', 'e', ' ', 'l', 'a', ' ', 'c', 'o', 'n', 'v', 'o', 'c', 'a', 't', 'o', 'r', 'i', 'a', ' ', 'p', 'o', 'r', ' ', 's', 'u', 's', ' ', 'l', 'e', 's', 'i', 'o', 'n', 'e', 's', ' ', 'c', 'o', 'm', 'o', ' ', 'f', 'u', 'e', ' ', 'e', 'l', ' ', 'c', 'a', 's', 'o', ' ', 'd', 'e', ' ', 'S', 'a', 'n', 't', 'i', 'a', 'g', 'o', ' ', 'A', 'r', 'i', 'a', 's', ',', ' ', 'M', 'a', 't', 'e', 'o', ' ', 'C', 'a', 's', 's', 'i', 'e', 'r', 'r', 'a', ' ', 'y', ' ', 'E', 'd', 'e', 'r', 's', 'o', 'n', ' ', 'M', 'o', 'r', 'a', 'e', 's', '.', ' ', 'N', 'o', ' ', 'p', 'o', 'd', 'r', 'á', 'n', ' ', 'c', 'o', 'n', 't', 'a', 'r', ' ', 'c', 'o', 'n', ' ', 'j', 'u', 'g', 'a', 'd', 'o', 'r', 'e', 's', ' ', 'q', 'u', 'e', ' ', 'a', 'c', 't', 'u', 'a', 'l', 'm', 'e', 'n', 't', 'e', ' ', 'e', 's', 't', 'á', 'n', ' ', 'e', 'n', ' ', 's', 'u', ' ', 'c', 'o', 'n', 'c', 'e', 'n', 't', 'r', 'a', 'c', 'i', 'ó', 'n', '.', ' ', 'E', 'n', ' ', 'e', 'l', ' ', 'c', 'a', 's', 'o', ' ', 'd', 'e', 'l', ' ', 'e', 'q', 'u', 'i', 'p', 'o', ' ', 'n', 'a', 'c', 'i', 'o', 'n', 'a', 'l', ' ', 's', 'e', ' ', 't', 'r', 'a', 't', 'a', ' ', 'd', 'e', ' ', 'J', 'h', 'o', 'n', ' ', 'A', 'r', 'i', 'a', 's', ',', ' ', 'q', 'u', 'e', ' ', 'e', 's', 't', 'a', 'r', 'á', ' ', 'a', 'u', 's', 'e', 'n', 't', 'e', ' ', 'p', 'o', 'r', ' ', 's', 'a', 'n', 'c', 'i', 'ó', 'n', ' ', 't', 'r', 'a', 's', ' ', 'a', 'c', 'u', 'm', 'u', 'l', 'a', 'r', 's', 'e', ' ', 'e', 'n', ' ', 't', 'a', 'r', 'j', 'e', 't', 'a', 's', ' ', 'a', 'm', 'a', 'r', 'i', 'l', 'l', 'a', 's', '.', '\\n', '\\n', '“', 'U', 'n', ' ', 'd', 'e', 's', 'c', 'a', 'n', 's', 'o', ' ', 'o', 'b', 'l', 'i', 'g', 'a', 'd', 'o', '.', ' ', 'Q', 'u', 'e', 'r', 'í', 'a', ' ', 'e', 's', 't', 'a', 'r', ' ', 'd', 'i', 's', 'p', 'o', 'n', 'i', 'b', 'l', 'e', ' ', 'c', 'o', 'n', 't', 'r', 'a', ' ', 'B', 'r', 'a', 's', 'i', 'l', ',', ' ', 'i', 'b', 'a', ' ', 'a', ' ', 's', 'e', 'r', ' ', 'u', 'n', ' ', 'p', 'a', 'r', 't', 'i', 'd', 'o', ' ', 'e', 's', 'p', 'e', 'c', 'i', 'a', 'l', ' ', 'p', 'a', 'r', 'a', ' ', 'm', 'í', ',', ' ', 'p', 'e', 'r', 'o', ' ', 'n', 'o', ' ', 'm', 'e', ' ', 'l', 'a', 'm', 'e', 'n', 't', 'o', '.', ' ', 'E', 's', 't', 'o', 'y', ' ', 'a', 'p', 'r', 'o', 'v', 'e', 'c', 'h', 'a', 'n', 'd', 'o', ' ', 'e', 's', 't', 'o', 's', ' ', 'd', 'í', 'a', 's', ' ', 'p', 'a', 'r', 'a', ' ', 'l', 'l', 'e', 'g', 'a', 'r', ' ', 'a', ' ', 'e', 's', 'e', ' ', 'p', 'a', 'r', 't', 'i', 'd', 'o', ' ', 'c', 'o', 'n', 't', 'r', 'a', ' ', 'P', 'a', 'r', 'a', 'g', 'u', 'a', 'y', ' ', 'd', 'e', ' ', 'l', 'a', ' ', 'm', 'e', 'j', 'o', 'r', ' ', 'm', 'a', 'n', 'e', 'r', 'a', ' ', 'p', 'o', 's', 'i', 'b', 'l', 'e', '”', ',', ' ', 'a', 's', 'e', 'g', 'u', 'r', 'ó', ' ', 'e', 'l', ' ', 'e', 'x', 't', 'r', 'e', 'm', 'o', ' ', 'd', 'e', ' ', 'F', 'l', 'u', 'm', 'i', 'n', 'e', 'n', 's', 'e', ' ', 'q', 'u', 'e', ' ', 'e', 's', ' ', 'd', 'i', 'r', 'i', 'g', 'i', 'd', 'o', ' ', 'p', 'o', 'r', ' ', 'F', 'e', 'r', 'n', 'a', 'n', 'd', 'o', ' ', 'D', 'i', 'n', 'i', 'z', '.', '\\n', '\\n', 'P', 'o', 'r', ' ', 's', 'u', ' ', 'p', 'a', 'r', 't', 'e', ',', ' ', 'B', 'r', 'a', 's', 'i', 'l', ' ', 'n', 'o', ' ', 'p', 'o', 'd', 'r', 'á', ' ', 'c', 'o', 'n', 't', 'a', 'r', ' ', 'c', 'o', 'n', ' ', 'G', 'a', 'b', 'r', 'i', 'e', 'l', ' ', 'J', 'e', 's', 'ú', 's', '.', ' ', 'E', 'l', ' ', 'd', 'e', 'l', 'a', 'n', 't', 'e', 'r', 'o', ' ', 'd', 'e', ' ', 'A', 'r', 's', 'e', 'n', 'a', 'l', ' ', 'e', 's', 't', 'á', ' ', 'e', 'n', ' ', 's', 'u', ' ', 'ú', 'l', 't', 'i', 'm', 'a', ' ', 'e', 't', 'a', 'p', 'a', ' ', 'd', 'e', ' ', 'r', 'e', 'c', 'u', 'p', 'e', 'r', 'a', 'c', 'i', 'ó', 'n', ' ', 'p', 'o', 'r', ' ', 'l', 'o', ' ', 'q', 'u', 'e', ' ', 'p', 'r', 'e', 'f', 'i', 'r', 'i', 'ó', ' ', 'p', 'e', 'r', 'm', 'a', 'n', 'e', 'c', 'e', 'r', ' ', 'e', 'n', ' ', 'G', 'r', 'a', 'n', 'j', 'a', ' ', 'C', 'o', 'm', 'a', 'r', 'y', ' ', 'e', 'n', ' ', 'T', 'e', 'r', 'e', 's', 'ó', 'p', 'o', 'l', 'i', 's', ',', ' ', 's', 'e', 'd', 'e', ' ', 'd', 'e', 'p', 'o', 'r', 't', 'i', 'v', 'a', ' ', 'd', 'e', ' ', 'l', 'a', ' ', 'S', 'e', 'l', 'e', 'c', 'c', 'i', 'ó', 'n', ' ', 'd', 'e', ' ', 'B', 'r', 'a', 's', 'i', 'l', ',', ' ', 'c', 'o', 'n', ' ', 'e', 'l', ' ', 'o', 'b', 'j', 'e', 't', 'i', 'v', 'o', ' ', 'd', 'e', ' ', 'e', 's', 't', 'a', 'r', ' ', 'e', 'n', ' ', 'p', 'e', 'r', 'f', 'e', 'c', 't', 'o', ' ', 'e', 's', 't', 'a', 'd', 'o', ' ', 'p', 'a', 'r', 'a', ' ', 'e', 'l', ' ', 'j', 'u', 'e', 'g', 'o', ' ', 'a', 'n', 't', 'e', ' ', 'A', 'r', 'g', 'e', 'n', 't', 'i', 'n', 'a', '.', '\\n', '\\n', '“', 'S', 'i', 'e', 'm', 'p', 'r', 'e', ' ', 'h', 'a', 'y', ' ', 'u', 'n', 'a', ' ', 'p', 'r', 'i', 'm', 'e', 'r', 'a', ' ', 'v', 'e', 'z', ' ', 'p', 'a', 'r', 'a', ' ', 'g', 'a', 'n', 'a', 'r', '”', '\\n', '\\n', 'E', 'l', ' ', 'd', 'i', 'r', 'e', 'c', 't', 'o', 'r', ' ', 't', 'é', 'c', 'n', 'i', 'c', 'o', ' ', 'N', 'é', 's', 't', 'o', 'r', ' ', 'L', 'o', 'r', 'e', 'n', 'z', 'o', ' ', 's', 'u', 'e', 'ñ', 'a', ' ', 'c', 'o', 'n', ' ', 'd', 'a', 'r', 'l', 'e', ' ', 'a', ' ', 'l', 'a', ' ', 'S', 'e', 'l', 'e', 'c', 'c', 'i', 'ó', 'n', ' ', 'C', 'o', 'l', 'o', 'm', 'b', 'i', 'a', ' ', 's', 'u', ' ', 'p', 'r', 'i', 'm', 'e', 'r', 'a', ' ', 'v', 'i', 'c', 't', 'o', 'r', 'i', 'a', ' ', 'a', 'n', 't', 'e', ' ', 'B', 'r', 'a', 's', 'i', 'l', ' ', 'p', 'o', 'r', ' ', 'E', 'l', 'i', 'm', 'i', 'n', 'a', 't', 'o', 'r', 'i', 'a', 's', '.', ' ', 'E', 'l', ' ', 'e', 'n', 't', 'r', 'e', 'n', 'a', 'd', 'o', 'r', ' ', 'a', 'r', 'g', 'e', 'n', 't', 'i', 'n', 'o', ' ', 'e', 's', ' ', 'c', 'o', 'n', 's', 'c', 'i', 'e', 'n', 't', 'e', ' ', 'd', 'e', ' ', 'l', 'a', ' ', 'c', 'a', 'l', 'i', 'd', 'a', 'd', ' ', 'd', 'e', ' ', 's', 'u', ' ', 'r', 'i', 'v', 'a', 'l', ',', ' ', 'p', 'e', 'r', 'o', ' ', 'i', 'n', 'v', 'i', 't', 'ó', ' ', 'a', ' ', 't', 'o', 'd', 'o', 's', ' ', 'l', 'o', 's', ' ', 'c', 'o', 'l', 'o', 'm', 'b', 'i', 'a', 'n', 'o', 's', ' ', 'a', ' ', 's', 'o', 'ñ', 'a', 'r', ' ', 'c', 'o', 'n', ' ', 'l', 'a', ' ', 'o', 'p', 'o', 'r', 't', 'u', 'n', 'i', 'd', 'a', 'd', ' ', 'd', 'e', ' ', 'd', 'a', 'r', ' ', 'l', 'a', ' ', 's', 'o', 'r', 'p', 'r', 'e', 's', 'a', ' ', 'y', ' ', 's', 'u', 'm', 'a', 'r', ' ', 't', 'r', 'e', 's', ' ', 'p', 'u', 'n', 't', 'o', 's', ' ', 'q', 'u', 'e', ' ', 's', 'e', 'r', 'í', 'a', 'n', ' ', 'i', 'm', 'p', 'o', 'r', 't', 'a', 'n', 't', 'e', 's', '.', '\\n', '\\n', '“', 'S', 'i', 'e', 'm', 'p', 'r', 'e', ' ', 'h', 'a', 'y', ' ', 'u', 'n', 'a', ' ', 'p', 'r', 'i', 'm', 'e', 'r', 'a', ' ', 'v', 'e', 'z', ' ', 'p', 'a', 'r', 'a', ' ', 'g', 'a', 'n', 'a', 'r', ' ', 'y', ' ', 'e', 's', ' ', 'u', 'n', ' ', 'b', 'u', 'e', 'n', ' ', 'm', 'o', 'm', 'e', 'n', 't', 'o', ' ', 'p', 'a', 'r', 'a', ' ', 'h', 'a', 'c', 'e', 'r', 'l', 'o', '.', ' ', 'B', 'r', 'a', 's', 'i', 'l', ' ', 't', 'i', 'e', 'n', 'e', ' ', 'j', 'u', 'g', 'a', 'd', 'o', 'r', 'e', 's', ' ', 'e', 'n', ' ', 'l', 'o', 's', ' ', 'm', 'e', 'j', 'o', 'r', 'e', 's', ' ', 'e', 'q', 'u', 'i', 'p', 'o', 's', ' ', 'd', 'e', 'l', ' ', 'm', 'u', 'n', 'd', 'o', ' ', 'c', 'o', 'n', ' ', 'm', 'u', 'c', 'h', 'a', ' ', 'c', 'a', 't', 'e', 'g', 'o', 'r', 'í', 'a', '.', ' ', 'V', 'a', 'm', 'o', 's', ' ', 'a', ' ', 't', 'e', 'n', 'e', 'r', ' ', 'q', 'u', 'e', ' ', 'h', 'a', 'c', 'e', 'r', ' ', 'u', 'n', ' ', 'e', 's', 'f', 'u', 'e', 'r', 'z', 'o', ' ', 'g', 'r', 'a', 'n', 'd', 'e', ' ', 'c', 'o', 'm', 'o', ' ', 'e', 'q', 'u', 'i', 'p', 'o', ' ', 'p', 'a', 'r', 'a', ' ', 'e', 'q', 'u', 'i', 'p', 'a', 'r', 'a', 'r', ' ', 'e', 's', 'a', ' ', 'c', 'a', 't', 'e', 'g', 'o', 'r', 'í', 'a', ' ', 'i', 'n', 'd', 'i', 'v', 'i', 'd', 'u', 'a', 'l', ' ', 'q', 'u', 'e', ' ', 'e', 'l', 'l', 'o', 's', ' ', 't', 'i', 'e', 'n', 'e', 'n', '.', ' ', 'T', 'e', 'n', 'e', 'm', 'o', 's', ' ', 'm', 'u', 'c', 'h', 'a', ' ', 'f', 'e', ' ', 'y', ' ', 'o', 'j', 'a', 'l', 'á', ' ', 's', 'e', 'a', ' ', 'l', 'a', ' ', 'p', 'r', 'i', 'm', 'e', 'r', 'a', ' ', 'v', 'i', 'c', 't', 'o', 'r', 'i', 'a', ' ', 'd', 'e', ' ', 'C', 'o', 'l', 'o', 'm', 'b', 'i', 'a', ' ', 'a', 'n', 't', 'e', ' ', 'B', 'r', 'a', 's', 'i', 'l', '”', ',', ' ', 'a', 'f', 'i', 'r', 'm', 'ó', ' ', 'e', 'l', ' ', 'D', 'T', '.', '\\n', '\\n', '“', 'E', 's', ' ', 'u', 'n', ' ', 'b', 'u', 'e', 'n', ' ', 'm', 'o', 'm', 'e', 'n', 't', 'o', ' ', 'p', 'o', 'r', 'q', 'u', 'e', ' ', 'e', 's', ' ', 'a', 'h', 'o', 'r', 'a', ',', ' ', 'c', 'u', 'a', 'l', 'q', 'u', 'i', 'e', 'r', ' ', 'r', 'a', 'c', 'h', 'a', ' ', 'n', 'e', 'g', 'a', 't', 'i', 'v', 'a', ' ', 'e', 's', 't', 'á', ' ', 'p', 'a', 'r', 'a', ' ', 's', 'u', 'p', 'e', 'r', 'a', 'r', 'l', 'a', ' ', 'y', ' ', 's', 'i', 'e', 'm', 'p', 'r', 'e', ' ', 't', 'e', 'n', 'e', 'm', 'o', 's', ' ', 'l', 'a', ' ', 'm', 'e', 'n', 't', 'a', 'l', 'i', 'd', 'a', 'd', ' ', 'd', 'e', ' ', 'g', 'a', 'n', 'a', 'r', ' ', 'd', 'o', 'n', 'd', 'e', ' ', 's', 'e', 'a', ' ', 'y', ' ', 'c', 'o', 'n', ' ', 'q', 'u', 'i', 'e', 'n', ' ', 's', 'e', 'a', '.', ' ', 'O', 'j', 'a', 'l', 'á', ' ', 'q', 'u', 'e', ' ', 'h', 'a', 'g', 'a', 'm', 'o', 's', ' ', 'u', 'n', ' ', 'b', 'u', 'e', 'n', ' ', 'p', 'a', 'r', 't', 'i', 'd', 'o', ',', ' ', 'n', 'o', ' ', 'p', 'o', 'd', 'e', 'm', 'o', 's', ' ', 'g', 'a', 'n', 'a', 'r', ' ', 's', 'i', ' ', 'n', 'o', ' ', 'j', 'u', 'g', 'a', 'm', 'o', 's', ' ', 'b', 'i', 'e', 'n', '.', ' ', 'L', 'o', ' ', 'i', 'd', 'e', 'a', 'l', ' ', 'e', 's', ' ', 'p', 'l', 'a', 'n', 't', 'e', 'a', 'r', ' ', 'u', 'n', ' ', 'p', 'a', 'r', 't', 'i', 'd', 'o', ' ', 'p', 'a', 'r', 'a', ' ', 'j', 'u', 'g', 'a', 'r', ' ', 'b', 'i', 'e', 'n', ' ', 'y', ' ', 'q', 'u', 'e', ' ', 'e', 'l', ' ', 'r', 'e', 's', 'u', 'l', 't', 'a', 'd', 'o', ' ', 's', 'e', ' ', 'n', 'o', 's', ' ', 'd', 'e', ' ', 'a', ' ', 'f', 'a', 'v', 'o', 'r', '”', ',', ' ', 'c', 'o', 'm', 'p', 'l', 'e', 'm', 'e', 'n', 't', 'ó', '.', '\\n', '\\n', 'A', 'l', 'i', 'n', 'e', 'a', 'c', 'i', 'o', 'n', 'e', 's', ' ', 'p', 'r', 'o', 'b', 'a', 'b', 'l', 'e', 's', ' ', 'd', 'e', 'l', ' ', 'C', 'o', 'l', 'o', 'm', 'b', 'i', 'a', ' ', 'v', 's', ' ', 'B', 'r', 'a', 's', 'i', 'l', '\\n', '\\n', 'P', 'o', 's', 'i', 'b', 'l', 'e', ' ', 'f', 'o', 'r', 'm', 'a', 'c', 'i', 'ó', 'n', ' ', 'C', 'o', 'l', 'o', 'm', 'b', 'i', 'a', ':', ' ', 'C', 'a', 'm', 'i', 'l', 'o', ' ', 'V', 'a', 'r', 'g', 'a', 's', ';', ' ', 'D', 'a', 'n', 'i', 'e', 'l', ' ', 'M', 'u', 'ñ', 'o', 'z', ',', ' ', 'C', 'a', 'r', 'l', 'o', 's', ' ', 'C', 'u', 'e', 's', 't', 'a', ',', ' ', 'D', 'a', 'v', 'i', 'n', 's', 'o', 'n', ' ', 'S', 'á', 'n', 'c', 'h', 'e', 'z', ',', ' ', 'D', 'e', 'i', 'v', 'e', 'r', ' ', 'M', 'a', 'c', 'h', 'a', 'd', 'o', ';', ' ', 'K', 'e', 'v', 'i', 'n', ' ', 'C', 'a', 's', 't', 'a', 'ñ', 'o', ',', ' ', 'J', 'e', 'f', 'f', 'e', 'r', 's', 'o', 'n', ' ', 'L', 'e', 'r', 'm', 'a', ',', ' ', 'M', 'a', 't', 'h', 'e', 'u', 's', ' ', 'U', 'r', 'i', 'b', 'e', ';', ' ', 'J', 'a', 'm', 'e', 's', ' ', 'R', 'o', 'd', 'r', 'í', 'g', 'u', 'e', 'z', ',', ' ', 'L', 'u', 'i', 's', ' ', 'D', 'í', 'a', 'z', ',', ' ', 'R', 'a', 'f', 'a', 'e', 'l', ' ', 'S', 'a', 'n', 't', 'o', 's', ' ', 'B', 'o', 'r', 'r', 'é', '.', '\\n', '\\n', 'P', 'o', 's', 'i', 'b', 'l', 'e', ' ', 'f', 'o', 'r', 'm', 'a', 'c', 'i', 'ó', 'n', ' ', 'B', 'r', 'a', 's', 'i', 'l', ':', ' ', 'A', 'l', 'i', 's', 's', 'o', 'n', ';', ' ', 'E', 'm', 'e', 'r', 's', 'o', 'n', ' ', 'R', 'o', 'y', 'a', 'l', ',', ' ', 'M', 'a', 'r', 'q', 'u', 'i', 'n', 'h', 'o', 's', ',', ' ', 'G', 'a', 'b', 'r', 'i', 'e', 'l', ' ', 'M', 'a', 'g', 'a', 'l', 'h', 'ã', 'e', 's', ',', ' ', 'R', 'e', 'n', 'a', 'n', ' ', 'L', 'o', 'd', 'i', ';', ' ', 'A', 'n', 'd', 'r', 'é', ',', ' ', 'B', 'r', 'u', 'n', 'o', ' ', 'G', 'u', 'i', 'm', 'a', 'r', 'ã', 'e', 's', ';', ' ', 'R', 'a', 'p', 'h', 'i', 'n', 'h', 'a', ',', ' ', 'R', 'o', 'd', 'r', 'y', 'g', 'o', ',', ' ', 'V', 'i', 'n', 'i', ' ', 'J', 'r', ',', ' ', 'G', 'a', 'b', 'r', 'i', 'e', 'l', ' ', 'M', 'a', 'r', 't', 'i', 'n', 'e', 'l', 'l', 'i', '.', '\\n', '\\n', 'S', 'i', 'g', 'u', 'e', ' ', 'e', 'l', ' ', 'c', 'a', 'n', 'a', 'l', ' ', 'd', 'e', ' ', 'D', 'i', 'a', 'r', 'i', 'o', ' ', 'A', 'S', ' ', 'e', 'n', ' ', 'W', 'h', 'a', 't', 's', 'A', 'p', 'p', ',', ' ', 'd', 'o', 'n', 'd', 'e', ' ', 'e', 'n', 'c', 'o', 'n', 't', 'r', 'a', 'r', 'á', 's', ' ', 't', 'o', 'd', 'a', 's', ' ', 'l', 'a', 's', ' ', 'c', 'l', 'a', 'v', 'e', 's', ' ', 'd', 'e', 'p', 'o', 'r', 't', 'i', 'v', 'a', 's', ' ', 'd', 'e', 'l', ' ', 'd', 'í', 'a', '.']\n"
          ]
        }
      ]
    },
    {
      "cell_type": "markdown",
      "source": [
        "Comunmente los Large Language Models (LLMS) utilizan tokenización por palabra, lo cual tambien se optara por implementar en este proyecto\n"
      ],
      "metadata": {
        "id": "Ponrm9Y5Jel2"
      }
    },
    {
      "cell_type": "code",
      "source": [
        "# palabras\n",
        "tokens = word_tokenize(text)\n",
        "print('\\n Tokenización por palabras:')\n",
        "for token in tokens:\n",
        "    print(token, end =' ')\n",
        "print('')\n",
        "print('\\n Tokenización por palabras:')\n",
        "print(word_tokenize(text))"
      ],
      "metadata": {
        "colab": {
          "base_uri": "https://localhost:8080/"
        },
        "id": "Ctme6UqWJ4vi",
        "outputId": "653c258a-0a6a-45cf-ad0f-7388c2cb7ada"
      },
      "execution_count": 28,
      "outputs": [
        {
          "output_type": "stream",
          "name": "stdout",
          "text": [
            "\n",
            " Tokenización por palabras:\n",
            "¡Llega una nueva jornada de Eliminatorias Sudamericanas ! La Selección Colombia quiere dar un paso importante en la búsqueda de la clasificación al Mundial de Estados Unidos - México - Canadá de 2026 y este jueves recibe la Selección de Brasil por la quinta fecha en el estadio Metropolitano Roberto Meléndez ( 7:00 p.m. ) . El equipo nacional buscará su primera victoria en la historia de los clasificatorios ante los pentacampeones . Los dirigidos por Néstor Lorenzo se ubican en la quinta casilla de la tabla de posiciones con 6 puntos luego de un partido ganado y tres empatados . Son junto a Argentina las dos únicas selecciones que se mantienen invictas , mientras que la Canarinha es tercera con una unidad más , tras dos victorias , un empate y una derrota . Por el momento ambos seleccionados se mantienen en zona de clasificación al Mundial . La Selección Colombia , que solamente le ha ganado tres veces en toda la historia a Brasil ( dos en la Copa América y una en un encuentro amistoso ) buscará su primer triunfo por Eliminatorias . El balance hasta el momento es de 7 empates y 7 derrotas en los compromisos clasificatorios , en donde la Tricolor solo ha convertido cinco tantos y ha recibido 21 . Colombia y Brasil , con bajas para afrontar el partido Además de las bajas que tuvieron que hacer Colombia y Brasil durante la convocatoria por sus lesiones como fue el caso de Santiago Arias , Mateo Cassierra y Ederson Moraes . No podrán contar con jugadores que actualmente están en su concentración . En el caso del equipo nacional se trata de Jhon Arias , que estará ausente por sanción tras acumularse en tarjetas amarillas . “ Un descanso obligado . Quería estar disponible contra Brasil , iba a ser un partido especial para mí , pero no me lamento . Estoy aprovechando estos días para llegar a ese partido contra Paraguay de la mejor manera posible ” , aseguró el extremo de Fluminense que es dirigido por Fernando Diniz . Por su parte , Brasil no podrá contar con Gabriel Jesús . El delantero de Arsenal está en su última etapa de recuperación por lo que prefirió permanecer en Granja Comary en Teresópolis , sede deportiva de la Selección de Brasil , con el objetivo de estar en perfecto estado para el juego ante Argentina . “ Siempre hay una primera vez para ganar ” El director técnico Néstor Lorenzo sueña con darle a la Selección Colombia su primera victoria ante Brasil por Eliminatorias . El entrenador argentino es consciente de la calidad de su rival , pero invitó a todos los colombianos a soñar con la oportunidad de dar la sorpresa y sumar tres puntos que serían importantes . “ Siempre hay una primera vez para ganar y es un buen momento para hacerlo . Brasil tiene jugadores en los mejores equipos del mundo con mucha categoría . Vamos a tener que hacer un esfuerzo grande como equipo para equiparar esa categoría individual que ellos tienen . Tenemos mucha fe y ojalá sea la primera victoria de Colombia ante Brasil ” , afirmó el DT . “ Es un buen momento porque es ahora , cualquier racha negativa está para superarla y siempre tenemos la mentalidad de ganar donde sea y con quien sea . Ojalá que hagamos un buen partido , no podemos ganar si no jugamos bien . Lo ideal es plantear un partido para jugar bien y que el resultado se nos de a favor ” , complementó . Alineaciones probables del Colombia vs Brasil Posible formación Colombia : Camilo Vargas ; Daniel Muñoz , Carlos Cuesta , Davinson Sánchez , Deiver Machado ; Kevin Castaño , Jefferson Lerma , Matheus Uribe ; James Rodríguez , Luis Díaz , Rafael Santos Borré . Posible formación Brasil : Alisson ; Emerson Royal , Marquinhos , Gabriel Magalhães , Renan Lodi ; André , Bruno Guimarães ; Raphinha , Rodrygo , Vini Jr , Gabriel Martinelli . Sigue el canal de Diario AS en WhatsApp , donde encontrarás todas las claves deportivas del día . \n",
            "\n",
            " Tokenización por palabras:\n",
            "['¡Llega', 'una', 'nueva', 'jornada', 'de', 'Eliminatorias', 'Sudamericanas', '!', 'La', 'Selección', 'Colombia', 'quiere', 'dar', 'un', 'paso', 'importante', 'en', 'la', 'búsqueda', 'de', 'la', 'clasificación', 'al', 'Mundial', 'de', 'Estados', 'Unidos', '-', 'México', '-', 'Canadá', 'de', '2026', 'y', 'este', 'jueves', 'recibe', 'la', 'Selección', 'de', 'Brasil', 'por', 'la', 'quinta', 'fecha', 'en', 'el', 'estadio', 'Metropolitano', 'Roberto', 'Meléndez', '(', '7:00', 'p.m.', ')', '.', 'El', 'equipo', 'nacional', 'buscará', 'su', 'primera', 'victoria', 'en', 'la', 'historia', 'de', 'los', 'clasificatorios', 'ante', 'los', 'pentacampeones', '.', 'Los', 'dirigidos', 'por', 'Néstor', 'Lorenzo', 'se', 'ubican', 'en', 'la', 'quinta', 'casilla', 'de', 'la', 'tabla', 'de', 'posiciones', 'con', '6', 'puntos', 'luego', 'de', 'un', 'partido', 'ganado', 'y', 'tres', 'empatados', '.', 'Son', 'junto', 'a', 'Argentina', 'las', 'dos', 'únicas', 'selecciones', 'que', 'se', 'mantienen', 'invictas', ',', 'mientras', 'que', 'la', 'Canarinha', 'es', 'tercera', 'con', 'una', 'unidad', 'más', ',', 'tras', 'dos', 'victorias', ',', 'un', 'empate', 'y', 'una', 'derrota', '.', 'Por', 'el', 'momento', 'ambos', 'seleccionados', 'se', 'mantienen', 'en', 'zona', 'de', 'clasificación', 'al', 'Mundial', '.', 'La', 'Selección', 'Colombia', ',', 'que', 'solamente', 'le', 'ha', 'ganado', 'tres', 'veces', 'en', 'toda', 'la', 'historia', 'a', 'Brasil', '(', 'dos', 'en', 'la', 'Copa', 'América', 'y', 'una', 'en', 'un', 'encuentro', 'amistoso', ')', 'buscará', 'su', 'primer', 'triunfo', 'por', 'Eliminatorias', '.', 'El', 'balance', 'hasta', 'el', 'momento', 'es', 'de', '7', 'empates', 'y', '7', 'derrotas', 'en', 'los', 'compromisos', 'clasificatorios', ',', 'en', 'donde', 'la', 'Tricolor', 'solo', 'ha', 'convertido', 'cinco', 'tantos', 'y', 'ha', 'recibido', '21', '.', 'Colombia', 'y', 'Brasil', ',', 'con', 'bajas', 'para', 'afrontar', 'el', 'partido', 'Además', 'de', 'las', 'bajas', 'que', 'tuvieron', 'que', 'hacer', 'Colombia', 'y', 'Brasil', 'durante', 'la', 'convocatoria', 'por', 'sus', 'lesiones', 'como', 'fue', 'el', 'caso', 'de', 'Santiago', 'Arias', ',', 'Mateo', 'Cassierra', 'y', 'Ederson', 'Moraes', '.', 'No', 'podrán', 'contar', 'con', 'jugadores', 'que', 'actualmente', 'están', 'en', 'su', 'concentración', '.', 'En', 'el', 'caso', 'del', 'equipo', 'nacional', 'se', 'trata', 'de', 'Jhon', 'Arias', ',', 'que', 'estará', 'ausente', 'por', 'sanción', 'tras', 'acumularse', 'en', 'tarjetas', 'amarillas', '.', '“', 'Un', 'descanso', 'obligado', '.', 'Quería', 'estar', 'disponible', 'contra', 'Brasil', ',', 'iba', 'a', 'ser', 'un', 'partido', 'especial', 'para', 'mí', ',', 'pero', 'no', 'me', 'lamento', '.', 'Estoy', 'aprovechando', 'estos', 'días', 'para', 'llegar', 'a', 'ese', 'partido', 'contra', 'Paraguay', 'de', 'la', 'mejor', 'manera', 'posible', '”', ',', 'aseguró', 'el', 'extremo', 'de', 'Fluminense', 'que', 'es', 'dirigido', 'por', 'Fernando', 'Diniz', '.', 'Por', 'su', 'parte', ',', 'Brasil', 'no', 'podrá', 'contar', 'con', 'Gabriel', 'Jesús', '.', 'El', 'delantero', 'de', 'Arsenal', 'está', 'en', 'su', 'última', 'etapa', 'de', 'recuperación', 'por', 'lo', 'que', 'prefirió', 'permanecer', 'en', 'Granja', 'Comary', 'en', 'Teresópolis', ',', 'sede', 'deportiva', 'de', 'la', 'Selección', 'de', 'Brasil', ',', 'con', 'el', 'objetivo', 'de', 'estar', 'en', 'perfecto', 'estado', 'para', 'el', 'juego', 'ante', 'Argentina', '.', '“', 'Siempre', 'hay', 'una', 'primera', 'vez', 'para', 'ganar', '”', 'El', 'director', 'técnico', 'Néstor', 'Lorenzo', 'sueña', 'con', 'darle', 'a', 'la', 'Selección', 'Colombia', 'su', 'primera', 'victoria', 'ante', 'Brasil', 'por', 'Eliminatorias', '.', 'El', 'entrenador', 'argentino', 'es', 'consciente', 'de', 'la', 'calidad', 'de', 'su', 'rival', ',', 'pero', 'invitó', 'a', 'todos', 'los', 'colombianos', 'a', 'soñar', 'con', 'la', 'oportunidad', 'de', 'dar', 'la', 'sorpresa', 'y', 'sumar', 'tres', 'puntos', 'que', 'serían', 'importantes', '.', '“', 'Siempre', 'hay', 'una', 'primera', 'vez', 'para', 'ganar', 'y', 'es', 'un', 'buen', 'momento', 'para', 'hacerlo', '.', 'Brasil', 'tiene', 'jugadores', 'en', 'los', 'mejores', 'equipos', 'del', 'mundo', 'con', 'mucha', 'categoría', '.', 'Vamos', 'a', 'tener', 'que', 'hacer', 'un', 'esfuerzo', 'grande', 'como', 'equipo', 'para', 'equiparar', 'esa', 'categoría', 'individual', 'que', 'ellos', 'tienen', '.', 'Tenemos', 'mucha', 'fe', 'y', 'ojalá', 'sea', 'la', 'primera', 'victoria', 'de', 'Colombia', 'ante', 'Brasil', '”', ',', 'afirmó', 'el', 'DT', '.', '“', 'Es', 'un', 'buen', 'momento', 'porque', 'es', 'ahora', ',', 'cualquier', 'racha', 'negativa', 'está', 'para', 'superarla', 'y', 'siempre', 'tenemos', 'la', 'mentalidad', 'de', 'ganar', 'donde', 'sea', 'y', 'con', 'quien', 'sea', '.', 'Ojalá', 'que', 'hagamos', 'un', 'buen', 'partido', ',', 'no', 'podemos', 'ganar', 'si', 'no', 'jugamos', 'bien', '.', 'Lo', 'ideal', 'es', 'plantear', 'un', 'partido', 'para', 'jugar', 'bien', 'y', 'que', 'el', 'resultado', 'se', 'nos', 'de', 'a', 'favor', '”', ',', 'complementó', '.', 'Alineaciones', 'probables', 'del', 'Colombia', 'vs', 'Brasil', 'Posible', 'formación', 'Colombia', ':', 'Camilo', 'Vargas', ';', 'Daniel', 'Muñoz', ',', 'Carlos', 'Cuesta', ',', 'Davinson', 'Sánchez', ',', 'Deiver', 'Machado', ';', 'Kevin', 'Castaño', ',', 'Jefferson', 'Lerma', ',', 'Matheus', 'Uribe', ';', 'James', 'Rodríguez', ',', 'Luis', 'Díaz', ',', 'Rafael', 'Santos', 'Borré', '.', 'Posible', 'formación', 'Brasil', ':', 'Alisson', ';', 'Emerson', 'Royal', ',', 'Marquinhos', ',', 'Gabriel', 'Magalhães', ',', 'Renan', 'Lodi', ';', 'André', ',', 'Bruno', 'Guimarães', ';', 'Raphinha', ',', 'Rodrygo', ',', 'Vini', 'Jr', ',', 'Gabriel', 'Martinelli', '.', 'Sigue', 'el', 'canal', 'de', 'Diario', 'AS', 'en', 'WhatsApp', ',', 'donde', 'encontrarás', 'todas', 'las', 'claves', 'deportivas', 'del', 'día', '.']\n"
          ]
        }
      ]
    },
    {
      "cell_type": "markdown",
      "source": [
        "## **2. Filtrado de Palabras**\n",
        "---\n",
        "\n",
        "Una práctica común en el preprocesamiento de textos es el filtrado de _tokens_ según distintas condiciones.\n",
        "\n",
        "\n",
        "Por ejemplo, se puede eliminar todas las palabras que sean _stopwords_"
      ],
      "metadata": {
        "id": "54b1gs82KVR-"
      }
    },
    {
      "cell_type": "code",
      "source": [
        "# Obtener stopwords en español\n",
        "stop_words_espanol = set(stopwords.words('spanish'))\n",
        "\n",
        "# Condición para eliminar stopword\n",
        "condition = lambda token: token.lower() not in stop_words_espanol\n",
        "# Filtrar tokens eliminando stopwords\n",
        "filtered_tokens = list(filter(condition, tokens))\n",
        "\n",
        "# Imprimir los tokens filtrados\n",
        "print(\"Tokens originales:\", tokens)\n",
        "print(\"Tokens filtrados:\", filtered_tokens)"
      ],
      "metadata": {
        "colab": {
          "base_uri": "https://localhost:8080/"
        },
        "id": "UZyISAP3KUuB",
        "outputId": "6d500315-a10c-4e3b-aff8-23c120f03ece"
      },
      "execution_count": 32,
      "outputs": [
        {
          "output_type": "stream",
          "name": "stdout",
          "text": [
            "Tokens originales: ['¡Llega', 'una', 'nueva', 'jornada', 'de', 'Eliminatorias', 'Sudamericanas', '!', 'La', 'Selección', 'Colombia', 'quiere', 'dar', 'un', 'paso', 'importante', 'en', 'la', 'búsqueda', 'de', 'la', 'clasificación', 'al', 'Mundial', 'de', 'Estados', 'Unidos', '-', 'México', '-', 'Canadá', 'de', '2026', 'y', 'este', 'jueves', 'recibe', 'la', 'Selección', 'de', 'Brasil', 'por', 'la', 'quinta', 'fecha', 'en', 'el', 'estadio', 'Metropolitano', 'Roberto', 'Meléndez', '(', '7:00', 'p.m.', ')', '.', 'El', 'equipo', 'nacional', 'buscará', 'su', 'primera', 'victoria', 'en', 'la', 'historia', 'de', 'los', 'clasificatorios', 'ante', 'los', 'pentacampeones', '.', 'Los', 'dirigidos', 'por', 'Néstor', 'Lorenzo', 'se', 'ubican', 'en', 'la', 'quinta', 'casilla', 'de', 'la', 'tabla', 'de', 'posiciones', 'con', '6', 'puntos', 'luego', 'de', 'un', 'partido', 'ganado', 'y', 'tres', 'empatados', '.', 'Son', 'junto', 'a', 'Argentina', 'las', 'dos', 'únicas', 'selecciones', 'que', 'se', 'mantienen', 'invictas', ',', 'mientras', 'que', 'la', 'Canarinha', 'es', 'tercera', 'con', 'una', 'unidad', 'más', ',', 'tras', 'dos', 'victorias', ',', 'un', 'empate', 'y', 'una', 'derrota', '.', 'Por', 'el', 'momento', 'ambos', 'seleccionados', 'se', 'mantienen', 'en', 'zona', 'de', 'clasificación', 'al', 'Mundial', '.', 'La', 'Selección', 'Colombia', ',', 'que', 'solamente', 'le', 'ha', 'ganado', 'tres', 'veces', 'en', 'toda', 'la', 'historia', 'a', 'Brasil', '(', 'dos', 'en', 'la', 'Copa', 'América', 'y', 'una', 'en', 'un', 'encuentro', 'amistoso', ')', 'buscará', 'su', 'primer', 'triunfo', 'por', 'Eliminatorias', '.', 'El', 'balance', 'hasta', 'el', 'momento', 'es', 'de', '7', 'empates', 'y', '7', 'derrotas', 'en', 'los', 'compromisos', 'clasificatorios', ',', 'en', 'donde', 'la', 'Tricolor', 'solo', 'ha', 'convertido', 'cinco', 'tantos', 'y', 'ha', 'recibido', '21', '.', 'Colombia', 'y', 'Brasil', ',', 'con', 'bajas', 'para', 'afrontar', 'el', 'partido', 'Además', 'de', 'las', 'bajas', 'que', 'tuvieron', 'que', 'hacer', 'Colombia', 'y', 'Brasil', 'durante', 'la', 'convocatoria', 'por', 'sus', 'lesiones', 'como', 'fue', 'el', 'caso', 'de', 'Santiago', 'Arias', ',', 'Mateo', 'Cassierra', 'y', 'Ederson', 'Moraes', '.', 'No', 'podrán', 'contar', 'con', 'jugadores', 'que', 'actualmente', 'están', 'en', 'su', 'concentración', '.', 'En', 'el', 'caso', 'del', 'equipo', 'nacional', 'se', 'trata', 'de', 'Jhon', 'Arias', ',', 'que', 'estará', 'ausente', 'por', 'sanción', 'tras', 'acumularse', 'en', 'tarjetas', 'amarillas', '.', '“', 'Un', 'descanso', 'obligado', '.', 'Quería', 'estar', 'disponible', 'contra', 'Brasil', ',', 'iba', 'a', 'ser', 'un', 'partido', 'especial', 'para', 'mí', ',', 'pero', 'no', 'me', 'lamento', '.', 'Estoy', 'aprovechando', 'estos', 'días', 'para', 'llegar', 'a', 'ese', 'partido', 'contra', 'Paraguay', 'de', 'la', 'mejor', 'manera', 'posible', '”', ',', 'aseguró', 'el', 'extremo', 'de', 'Fluminense', 'que', 'es', 'dirigido', 'por', 'Fernando', 'Diniz', '.', 'Por', 'su', 'parte', ',', 'Brasil', 'no', 'podrá', 'contar', 'con', 'Gabriel', 'Jesús', '.', 'El', 'delantero', 'de', 'Arsenal', 'está', 'en', 'su', 'última', 'etapa', 'de', 'recuperación', 'por', 'lo', 'que', 'prefirió', 'permanecer', 'en', 'Granja', 'Comary', 'en', 'Teresópolis', ',', 'sede', 'deportiva', 'de', 'la', 'Selección', 'de', 'Brasil', ',', 'con', 'el', 'objetivo', 'de', 'estar', 'en', 'perfecto', 'estado', 'para', 'el', 'juego', 'ante', 'Argentina', '.', '“', 'Siempre', 'hay', 'una', 'primera', 'vez', 'para', 'ganar', '”', 'El', 'director', 'técnico', 'Néstor', 'Lorenzo', 'sueña', 'con', 'darle', 'a', 'la', 'Selección', 'Colombia', 'su', 'primera', 'victoria', 'ante', 'Brasil', 'por', 'Eliminatorias', '.', 'El', 'entrenador', 'argentino', 'es', 'consciente', 'de', 'la', 'calidad', 'de', 'su', 'rival', ',', 'pero', 'invitó', 'a', 'todos', 'los', 'colombianos', 'a', 'soñar', 'con', 'la', 'oportunidad', 'de', 'dar', 'la', 'sorpresa', 'y', 'sumar', 'tres', 'puntos', 'que', 'serían', 'importantes', '.', '“', 'Siempre', 'hay', 'una', 'primera', 'vez', 'para', 'ganar', 'y', 'es', 'un', 'buen', 'momento', 'para', 'hacerlo', '.', 'Brasil', 'tiene', 'jugadores', 'en', 'los', 'mejores', 'equipos', 'del', 'mundo', 'con', 'mucha', 'categoría', '.', 'Vamos', 'a', 'tener', 'que', 'hacer', 'un', 'esfuerzo', 'grande', 'como', 'equipo', 'para', 'equiparar', 'esa', 'categoría', 'individual', 'que', 'ellos', 'tienen', '.', 'Tenemos', 'mucha', 'fe', 'y', 'ojalá', 'sea', 'la', 'primera', 'victoria', 'de', 'Colombia', 'ante', 'Brasil', '”', ',', 'afirmó', 'el', 'DT', '.', '“', 'Es', 'un', 'buen', 'momento', 'porque', 'es', 'ahora', ',', 'cualquier', 'racha', 'negativa', 'está', 'para', 'superarla', 'y', 'siempre', 'tenemos', 'la', 'mentalidad', 'de', 'ganar', 'donde', 'sea', 'y', 'con', 'quien', 'sea', '.', 'Ojalá', 'que', 'hagamos', 'un', 'buen', 'partido', ',', 'no', 'podemos', 'ganar', 'si', 'no', 'jugamos', 'bien', '.', 'Lo', 'ideal', 'es', 'plantear', 'un', 'partido', 'para', 'jugar', 'bien', 'y', 'que', 'el', 'resultado', 'se', 'nos', 'de', 'a', 'favor', '”', ',', 'complementó', '.', 'Alineaciones', 'probables', 'del', 'Colombia', 'vs', 'Brasil', 'Posible', 'formación', 'Colombia', ':', 'Camilo', 'Vargas', ';', 'Daniel', 'Muñoz', ',', 'Carlos', 'Cuesta', ',', 'Davinson', 'Sánchez', ',', 'Deiver', 'Machado', ';', 'Kevin', 'Castaño', ',', 'Jefferson', 'Lerma', ',', 'Matheus', 'Uribe', ';', 'James', 'Rodríguez', ',', 'Luis', 'Díaz', ',', 'Rafael', 'Santos', 'Borré', '.', 'Posible', 'formación', 'Brasil', ':', 'Alisson', ';', 'Emerson', 'Royal', ',', 'Marquinhos', ',', 'Gabriel', 'Magalhães', ',', 'Renan', 'Lodi', ';', 'André', ',', 'Bruno', 'Guimarães', ';', 'Raphinha', ',', 'Rodrygo', ',', 'Vini', 'Jr', ',', 'Gabriel', 'Martinelli', '.', 'Sigue', 'el', 'canal', 'de', 'Diario', 'AS', 'en', 'WhatsApp', ',', 'donde', 'encontrarás', 'todas', 'las', 'claves', 'deportivas', 'del', 'día', '.']\n",
            "Tokens filtrados: ['¡Llega', 'nueva', 'jornada', 'Eliminatorias', 'Sudamericanas', '!', 'Selección', 'Colombia', 'quiere', 'dar', 'paso', 'importante', 'búsqueda', 'clasificación', 'Mundial', 'Unidos', '-', 'México', '-', 'Canadá', '2026', 'jueves', 'recibe', 'Selección', 'Brasil', 'quinta', 'fecha', 'estadio', 'Metropolitano', 'Roberto', 'Meléndez', '(', '7:00', 'p.m.', ')', '.', 'equipo', 'nacional', 'buscará', 'primera', 'victoria', 'historia', 'clasificatorios', 'pentacampeones', '.', 'dirigidos', 'Néstor', 'Lorenzo', 'ubican', 'quinta', 'casilla', 'tabla', 'posiciones', '6', 'puntos', 'luego', 'partido', 'ganado', 'tres', 'empatados', '.', 'junto', 'Argentina', 'dos', 'únicas', 'selecciones', 'mantienen', 'invictas', ',', 'mientras', 'Canarinha', 'tercera', 'unidad', ',', 'tras', 'dos', 'victorias', ',', 'empate', 'derrota', '.', 'momento', 'ambos', 'seleccionados', 'mantienen', 'zona', 'clasificación', 'Mundial', '.', 'Selección', 'Colombia', ',', 'solamente', 'ganado', 'tres', 'veces', 'toda', 'historia', 'Brasil', '(', 'dos', 'Copa', 'América', 'encuentro', 'amistoso', ')', 'buscará', 'primer', 'triunfo', 'Eliminatorias', '.', 'balance', 'momento', '7', 'empates', '7', 'derrotas', 'compromisos', 'clasificatorios', ',', 'Tricolor', 'solo', 'convertido', 'cinco', 'tantos', 'recibido', '21', '.', 'Colombia', 'Brasil', ',', 'bajas', 'afrontar', 'partido', 'Además', 'bajas', 'hacer', 'Colombia', 'Brasil', 'convocatoria', 'lesiones', 'caso', 'Santiago', 'Arias', ',', 'Mateo', 'Cassierra', 'Ederson', 'Moraes', '.', 'podrán', 'contar', 'jugadores', 'actualmente', 'concentración', '.', 'caso', 'equipo', 'nacional', 'trata', 'Jhon', 'Arias', ',', 'ausente', 'sanción', 'tras', 'acumularse', 'tarjetas', 'amarillas', '.', '“', 'descanso', 'obligado', '.', 'Quería', 'disponible', 'Brasil', ',', 'iba', 'ser', 'partido', 'especial', ',', 'lamento', '.', 'aprovechando', 'días', 'llegar', 'partido', 'Paraguay', 'mejor', 'manera', 'posible', '”', ',', 'aseguró', 'extremo', 'Fluminense', 'dirigido', 'Fernando', 'Diniz', '.', 'parte', ',', 'Brasil', 'podrá', 'contar', 'Gabriel', 'Jesús', '.', 'delantero', 'Arsenal', 'última', 'etapa', 'recuperación', 'prefirió', 'permanecer', 'Granja', 'Comary', 'Teresópolis', ',', 'sede', 'deportiva', 'Selección', 'Brasil', ',', 'objetivo', 'perfecto', 'juego', 'Argentina', '.', '“', 'Siempre', 'primera', 'vez', 'ganar', '”', 'director', 'técnico', 'Néstor', 'Lorenzo', 'sueña', 'darle', 'Selección', 'Colombia', 'primera', 'victoria', 'Brasil', 'Eliminatorias', '.', 'entrenador', 'argentino', 'consciente', 'calidad', 'rival', ',', 'invitó', 'colombianos', 'soñar', 'oportunidad', 'dar', 'sorpresa', 'sumar', 'tres', 'puntos', 'importantes', '.', '“', 'Siempre', 'primera', 'vez', 'ganar', 'buen', 'momento', 'hacerlo', '.', 'Brasil', 'jugadores', 'mejores', 'equipos', 'mundo', 'mucha', 'categoría', '.', 'Vamos', 'tener', 'hacer', 'esfuerzo', 'grande', 'equipo', 'equiparar', 'categoría', 'individual', '.', 'mucha', 'fe', 'ojalá', 'primera', 'victoria', 'Colombia', 'Brasil', '”', ',', 'afirmó', 'DT', '.', '“', 'buen', 'momento', 'ahora', ',', 'cualquier', 'racha', 'negativa', 'superarla', 'siempre', 'mentalidad', 'ganar', '.', 'Ojalá', 'hagamos', 'buen', 'partido', ',', 'podemos', 'ganar', 'si', 'jugamos', 'bien', '.', 'ideal', 'plantear', 'partido', 'jugar', 'bien', 'resultado', 'favor', '”', ',', 'complementó', '.', 'Alineaciones', 'probables', 'Colombia', 'vs', 'Brasil', 'Posible', 'formación', 'Colombia', ':', 'Camilo', 'Vargas', ';', 'Daniel', 'Muñoz', ',', 'Carlos', 'Cuesta', ',', 'Davinson', 'Sánchez', ',', 'Deiver', 'Machado', ';', 'Kevin', 'Castaño', ',', 'Jefferson', 'Lerma', ',', 'Matheus', 'Uribe', ';', 'James', 'Rodríguez', ',', 'Luis', 'Díaz', ',', 'Rafael', 'Santos', 'Borré', '.', 'Posible', 'formación', 'Brasil', ':', 'Alisson', ';', 'Emerson', 'Royal', ',', 'Marquinhos', ',', 'Gabriel', 'Magalhães', ',', 'Renan', 'Lodi', ';', 'André', ',', 'Bruno', 'Guimarães', ';', 'Raphinha', ',', 'Rodrygo', ',', 'Vini', 'Jr', ',', 'Gabriel', 'Martinelli', '.', 'Sigue', 'canal', 'Diario', 'AS', 'WhatsApp', ',', 'encontrarás', 'todas', 'claves', 'deportivas', 'día', '.']\n"
          ]
        }
      ]
    },
    {
      "cell_type": "markdown",
      "source": [
        "Como se puede observar, se eliminaron\\ _tokens_ como `\"a\"`, `\"las\"`, `\"y\"`, `\"los\"`, entre otras que son muy comunes (y poco informativas) en Español.\n",
        "\n",
        "También es posible filtrar palabras por longitud, por ejemplo, en español la palabra más larga tiene 23 letras (electroencefalografista), por ello, podemos definir una condición para filtrar palabras que tengan una longitud en un rango dado:"
      ],
      "metadata": {
        "id": "OsXX_gwlO46d"
      }
    },
    {
      "cell_type": "code",
      "source": [
        "condition = lambda token: len(token) > 1 and len(token) < 24"
      ],
      "metadata": {
        "id": "7txID7tZN0pu"
      },
      "execution_count": 35,
      "outputs": []
    },
    {
      "cell_type": "markdown",
      "source": [
        "Filtramos los tokens:"
      ],
      "metadata": {
        "id": "VkoCEyFcPF0f"
      }
    },
    {
      "cell_type": "code",
      "source": [
        "filtered_tokens2 = list(filter(condition, filtered_tokens))\n",
        "filtered_tokens2 = \" \".join(filtered_tokens2)\n",
        "print(filtered_tokens2)"
      ],
      "metadata": {
        "colab": {
          "base_uri": "https://localhost:8080/"
        },
        "id": "R7k7NiihNwi1",
        "outputId": "1e0e20dc-b1df-4852-c0a4-36d3b4ee2d91"
      },
      "execution_count": 44,
      "outputs": [
        {
          "output_type": "stream",
          "name": "stdout",
          "text": [
            "¡Llega nueva jornada Eliminatorias Sudamericanas Selección Colombia quiere dar paso importante búsqueda clasificación Mundial Unidos México Canadá 2026 jueves recibe Selección Brasil quinta fecha estadio Metropolitano Roberto Meléndez 7:00 p.m. equipo nacional buscará primera victoria historia clasificatorios pentacampeones dirigidos Néstor Lorenzo ubican quinta casilla tabla posiciones puntos luego partido ganado tres empatados junto Argentina dos únicas selecciones mantienen invictas mientras Canarinha tercera unidad tras dos victorias empate derrota momento ambos seleccionados mantienen zona clasificación Mundial Selección Colombia solamente ganado tres veces toda historia Brasil dos Copa América encuentro amistoso buscará primer triunfo Eliminatorias balance momento empates derrotas compromisos clasificatorios Tricolor solo convertido cinco tantos recibido 21 Colombia Brasil bajas afrontar partido Además bajas hacer Colombia Brasil convocatoria lesiones caso Santiago Arias Mateo Cassierra Ederson Moraes podrán contar jugadores actualmente concentración caso equipo nacional trata Jhon Arias ausente sanción tras acumularse tarjetas amarillas descanso obligado Quería disponible Brasil iba ser partido especial lamento aprovechando días llegar partido Paraguay mejor manera posible aseguró extremo Fluminense dirigido Fernando Diniz parte Brasil podrá contar Gabriel Jesús delantero Arsenal última etapa recuperación prefirió permanecer Granja Comary Teresópolis sede deportiva Selección Brasil objetivo perfecto juego Argentina Siempre primera vez ganar director técnico Néstor Lorenzo sueña darle Selección Colombia primera victoria Brasil Eliminatorias entrenador argentino consciente calidad rival invitó colombianos soñar oportunidad dar sorpresa sumar tres puntos importantes Siempre primera vez ganar buen momento hacerlo Brasil jugadores mejores equipos mundo mucha categoría Vamos tener hacer esfuerzo grande equipo equiparar categoría individual mucha fe ojalá primera victoria Colombia Brasil afirmó DT buen momento ahora cualquier racha negativa superarla siempre mentalidad ganar Ojalá hagamos buen partido podemos ganar si jugamos bien ideal plantear partido jugar bien resultado favor complementó Alineaciones probables Colombia vs Brasil Posible formación Colombia Camilo Vargas Daniel Muñoz Carlos Cuesta Davinson Sánchez Deiver Machado Kevin Castaño Jefferson Lerma Matheus Uribe James Rodríguez Luis Díaz Rafael Santos Borré Posible formación Brasil Alisson Emerson Royal Marquinhos Gabriel Magalhães Renan Lodi André Bruno Guimarães Raphinha Rodrygo Vini Jr Gabriel Martinelli Sigue canal Diario AS WhatsApp encontrarás todas claves deportivas día\n"
          ]
        }
      ]
    },
    {
      "cell_type": "markdown",
      "source": [
        "## **3. Normalización de Caracteres**\n",
        "---\n",
        "\n",
        "En muchos idiomas tienen caracteres modificadores de vocales o letras. Por ejemplo, el español tiene las tildes y la letra \"ñ\"; o en el caso del portugués se tiene tres tipos de acentos.\n",
        "\n",
        "Este tipo de variaciones pueden ser eliminadas en un proceso de normalización de los textos con distintos tipos de codificaciones. Para el español es muy común usar la librería `unidecode`:"
      ],
      "metadata": {
        "id": "1WqBL6-FP9be"
      }
    },
    {
      "cell_type": "code",
      "source": [
        "norm_text = unidecode(filtered_tokens2)\n",
        "print(norm_text)"
      ],
      "metadata": {
        "colab": {
          "base_uri": "https://localhost:8080/"
        },
        "id": "Hmu9K6puP9M1",
        "outputId": "d15f9a26-43e3-4613-8863-88ba1ec9768e"
      },
      "execution_count": 49,
      "outputs": [
        {
          "output_type": "stream",
          "name": "stdout",
          "text": [
            "!Llega nueva jornada Eliminatorias Sudamericanas Seleccion Colombia quiere dar paso importante busqueda clasificacion Mundial Unidos Mexico Canada 2026 jueves recibe Seleccion Brasil quinta fecha estadio Metropolitano Roberto Melendez 7:00 p.m. equipo nacional buscara primera victoria historia clasificatorios pentacampeones dirigidos Nestor Lorenzo ubican quinta casilla tabla posiciones puntos luego partido ganado tres empatados junto Argentina dos unicas selecciones mantienen invictas mientras Canarinha tercera unidad tras dos victorias empate derrota momento ambos seleccionados mantienen zona clasificacion Mundial Seleccion Colombia solamente ganado tres veces toda historia Brasil dos Copa America encuentro amistoso buscara primer triunfo Eliminatorias balance momento empates derrotas compromisos clasificatorios Tricolor solo convertido cinco tantos recibido 21 Colombia Brasil bajas afrontar partido Ademas bajas hacer Colombia Brasil convocatoria lesiones caso Santiago Arias Mateo Cassierra Ederson Moraes podran contar jugadores actualmente concentracion caso equipo nacional trata Jhon Arias ausente sancion tras acumularse tarjetas amarillas descanso obligado Queria disponible Brasil iba ser partido especial lamento aprovechando dias llegar partido Paraguay mejor manera posible aseguro extremo Fluminense dirigido Fernando Diniz parte Brasil podra contar Gabriel Jesus delantero Arsenal ultima etapa recuperacion prefirio permanecer Granja Comary Teresopolis sede deportiva Seleccion Brasil objetivo perfecto juego Argentina Siempre primera vez ganar director tecnico Nestor Lorenzo suena darle Seleccion Colombia primera victoria Brasil Eliminatorias entrenador argentino consciente calidad rival invito colombianos sonar oportunidad dar sorpresa sumar tres puntos importantes Siempre primera vez ganar buen momento hacerlo Brasil jugadores mejores equipos mundo mucha categoria Vamos tener hacer esfuerzo grande equipo equiparar categoria individual mucha fe ojala primera victoria Colombia Brasil afirmo DT buen momento ahora cualquier racha negativa superarla siempre mentalidad ganar Ojala hagamos buen partido podemos ganar si jugamos bien ideal plantear partido jugar bien resultado favor complemento Alineaciones probables Colombia vs Brasil Posible formacion Colombia Camilo Vargas Daniel Munoz Carlos Cuesta Davinson Sanchez Deiver Machado Kevin Castano Jefferson Lerma Matheus Uribe James Rodriguez Luis Diaz Rafael Santos Borre Posible formacion Brasil Alisson Emerson Royal Marquinhos Gabriel Magalhaes Renan Lodi Andre Bruno Guimaraes Raphinha Rodrygo Vini Jr Gabriel Martinelli Sigue canal Diario AS WhatsApp encontraras todas claves deportivas dia\n"
          ]
        }
      ]
    },
    {
      "cell_type": "markdown",
      "source": [
        "## **4. Modificación de la Grafía**\n",
        "---\n",
        "\n",
        "Normalmente, los textos se suelen procesar en minúsculas. Con esto eliminamos modificadores relacionados con el inicio de un texto, palabras capitalizadas luego de signos de puntuación, entre otras cosas.\n",
        "\n",
        "En este caso, se convierte el texto a minúsculas:"
      ],
      "metadata": {
        "id": "dbE286RwT8pm"
      }
    },
    {
      "cell_type": "code",
      "source": [
        "lower_text = norm_text.lower()\n",
        "print(lower_text)"
      ],
      "metadata": {
        "colab": {
          "base_uri": "https://localhost:8080/"
        },
        "id": "s14Ewj2dT424",
        "outputId": "fea63d4a-eacc-4ff0-f053-500dbec8000e"
      },
      "execution_count": 51,
      "outputs": [
        {
          "output_type": "stream",
          "name": "stdout",
          "text": [
            "!llega nueva jornada eliminatorias sudamericanas seleccion colombia quiere dar paso importante busqueda clasificacion mundial unidos mexico canada 2026 jueves recibe seleccion brasil quinta fecha estadio metropolitano roberto melendez 7:00 p.m. equipo nacional buscara primera victoria historia clasificatorios pentacampeones dirigidos nestor lorenzo ubican quinta casilla tabla posiciones puntos luego partido ganado tres empatados junto argentina dos unicas selecciones mantienen invictas mientras canarinha tercera unidad tras dos victorias empate derrota momento ambos seleccionados mantienen zona clasificacion mundial seleccion colombia solamente ganado tres veces toda historia brasil dos copa america encuentro amistoso buscara primer triunfo eliminatorias balance momento empates derrotas compromisos clasificatorios tricolor solo convertido cinco tantos recibido 21 colombia brasil bajas afrontar partido ademas bajas hacer colombia brasil convocatoria lesiones caso santiago arias mateo cassierra ederson moraes podran contar jugadores actualmente concentracion caso equipo nacional trata jhon arias ausente sancion tras acumularse tarjetas amarillas descanso obligado queria disponible brasil iba ser partido especial lamento aprovechando dias llegar partido paraguay mejor manera posible aseguro extremo fluminense dirigido fernando diniz parte brasil podra contar gabriel jesus delantero arsenal ultima etapa recuperacion prefirio permanecer granja comary teresopolis sede deportiva seleccion brasil objetivo perfecto juego argentina siempre primera vez ganar director tecnico nestor lorenzo suena darle seleccion colombia primera victoria brasil eliminatorias entrenador argentino consciente calidad rival invito colombianos sonar oportunidad dar sorpresa sumar tres puntos importantes siempre primera vez ganar buen momento hacerlo brasil jugadores mejores equipos mundo mucha categoria vamos tener hacer esfuerzo grande equipo equiparar categoria individual mucha fe ojala primera victoria colombia brasil afirmo dt buen momento ahora cualquier racha negativa superarla siempre mentalidad ganar ojala hagamos buen partido podemos ganar si jugamos bien ideal plantear partido jugar bien resultado favor complemento alineaciones probables colombia vs brasil posible formacion colombia camilo vargas daniel munoz carlos cuesta davinson sanchez deiver machado kevin castano jefferson lerma matheus uribe james rodriguez luis diaz rafael santos borre posible formacion brasil alisson emerson royal marquinhos gabriel magalhaes renan lodi andre bruno guimaraes raphinha rodrygo vini jr gabriel martinelli sigue canal diario as whatsapp encontraras todas claves deportivas dia\n"
          ]
        }
      ]
    },
    {
      "cell_type": "markdown",
      "source": [
        "## **5. Limpieza con Regex**\n",
        "---\n",
        "\n",
        "Comúnmente se suelen aplicar expresiones regulares para eliminar caracteres o secuencias de caracteres no deseadas. Se aplicará una expresión regular para eliminar todos los caracteres que no sean espacios ni letras minúsculas."
      ],
      "metadata": {
        "id": "aUq-VfGkUFby"
      }
    },
    {
      "cell_type": "markdown",
      "source": [
        "Se define una expresión regular que cumpla con los criterios mencionados:"
      ],
      "metadata": {
        "id": "VqEyu2nWUcld"
      }
    },
    {
      "cell_type": "code",
      "source": [
        "pat = re.compile(r\"[^a-z ]\")"
      ],
      "metadata": {
        "id": "Hfp7E-12UE11"
      },
      "execution_count": 53,
      "outputs": []
    },
    {
      "cell_type": "code",
      "source": [
        "clean_text = re.sub(pat, \"\", lower_text)\n",
        "print(clean_text)"
      ],
      "metadata": {
        "colab": {
          "base_uri": "https://localhost:8080/"
        },
        "id": "OriVJAv0Pyau",
        "outputId": "0aab3059-4991-470f-c086-dfac1f20d365"
      },
      "execution_count": 54,
      "outputs": [
        {
          "output_type": "stream",
          "name": "stdout",
          "text": [
            "llega nueva jornada eliminatorias sudamericanas seleccion colombia quiere dar paso importante busqueda clasificacion mundial unidos mexico canada  jueves recibe seleccion brasil quinta fecha estadio metropolitano roberto melendez  pm equipo nacional buscara primera victoria historia clasificatorios pentacampeones dirigidos nestor lorenzo ubican quinta casilla tabla posiciones puntos luego partido ganado tres empatados junto argentina dos unicas selecciones mantienen invictas mientras canarinha tercera unidad tras dos victorias empate derrota momento ambos seleccionados mantienen zona clasificacion mundial seleccion colombia solamente ganado tres veces toda historia brasil dos copa america encuentro amistoso buscara primer triunfo eliminatorias balance momento empates derrotas compromisos clasificatorios tricolor solo convertido cinco tantos recibido  colombia brasil bajas afrontar partido ademas bajas hacer colombia brasil convocatoria lesiones caso santiago arias mateo cassierra ederson moraes podran contar jugadores actualmente concentracion caso equipo nacional trata jhon arias ausente sancion tras acumularse tarjetas amarillas descanso obligado queria disponible brasil iba ser partido especial lamento aprovechando dias llegar partido paraguay mejor manera posible aseguro extremo fluminense dirigido fernando diniz parte brasil podra contar gabriel jesus delantero arsenal ultima etapa recuperacion prefirio permanecer granja comary teresopolis sede deportiva seleccion brasil objetivo perfecto juego argentina siempre primera vez ganar director tecnico nestor lorenzo suena darle seleccion colombia primera victoria brasil eliminatorias entrenador argentino consciente calidad rival invito colombianos sonar oportunidad dar sorpresa sumar tres puntos importantes siempre primera vez ganar buen momento hacerlo brasil jugadores mejores equipos mundo mucha categoria vamos tener hacer esfuerzo grande equipo equiparar categoria individual mucha fe ojala primera victoria colombia brasil afirmo dt buen momento ahora cualquier racha negativa superarla siempre mentalidad ganar ojala hagamos buen partido podemos ganar si jugamos bien ideal plantear partido jugar bien resultado favor complemento alineaciones probables colombia vs brasil posible formacion colombia camilo vargas daniel munoz carlos cuesta davinson sanchez deiver machado kevin castano jefferson lerma matheus uribe james rodriguez luis diaz rafael santos borre posible formacion brasil alisson emerson royal marquinhos gabriel magalhaes renan lodi andre bruno guimaraes raphinha rodrygo vini jr gabriel martinelli sigue canal diario as whatsapp encontraras todas claves deportivas dia\n"
          ]
        }
      ]
    },
    {
      "cell_type": "markdown",
      "source": [
        "Como se puede ver, se ha eliminado caracteres coomo `\"!\"` y numeros como `\"2026\"`, `\"7:00\"`. Ademas, se tiene espacios repetidos (ya que algunos _tokens_ se eliminaron), se usará una\n",
        "\n",
        "---\n",
        "\n",
        "segunda expresión regular para eliminar espacios repetidos:"
      ],
      "metadata": {
        "id": "w08pp7KnUsy2"
      }
    },
    {
      "cell_type": "code",
      "source": [
        "spaces = re.compile(r\"\\s{2,}\")"
      ],
      "metadata": {
        "id": "O0wE_ISjPyXS"
      },
      "execution_count": 55,
      "outputs": []
    },
    {
      "cell_type": "code",
      "source": [
        "spaces_text = re.sub(spaces, \" \", clean_text)\n",
        "print(spaces_text)"
      ],
      "metadata": {
        "colab": {
          "base_uri": "https://localhost:8080/"
        },
        "id": "WjQiLKkrPyUU",
        "outputId": "13fda3d4-a94d-4de5-d3c3-023c4d8f141d"
      },
      "execution_count": 56,
      "outputs": [
        {
          "output_type": "stream",
          "name": "stdout",
          "text": [
            "llega nueva jornada eliminatorias sudamericanas seleccion colombia quiere dar paso importante busqueda clasificacion mundial unidos mexico canada jueves recibe seleccion brasil quinta fecha estadio metropolitano roberto melendez pm equipo nacional buscara primera victoria historia clasificatorios pentacampeones dirigidos nestor lorenzo ubican quinta casilla tabla posiciones puntos luego partido ganado tres empatados junto argentina dos unicas selecciones mantienen invictas mientras canarinha tercera unidad tras dos victorias empate derrota momento ambos seleccionados mantienen zona clasificacion mundial seleccion colombia solamente ganado tres veces toda historia brasil dos copa america encuentro amistoso buscara primer triunfo eliminatorias balance momento empates derrotas compromisos clasificatorios tricolor solo convertido cinco tantos recibido colombia brasil bajas afrontar partido ademas bajas hacer colombia brasil convocatoria lesiones caso santiago arias mateo cassierra ederson moraes podran contar jugadores actualmente concentracion caso equipo nacional trata jhon arias ausente sancion tras acumularse tarjetas amarillas descanso obligado queria disponible brasil iba ser partido especial lamento aprovechando dias llegar partido paraguay mejor manera posible aseguro extremo fluminense dirigido fernando diniz parte brasil podra contar gabriel jesus delantero arsenal ultima etapa recuperacion prefirio permanecer granja comary teresopolis sede deportiva seleccion brasil objetivo perfecto juego argentina siempre primera vez ganar director tecnico nestor lorenzo suena darle seleccion colombia primera victoria brasil eliminatorias entrenador argentino consciente calidad rival invito colombianos sonar oportunidad dar sorpresa sumar tres puntos importantes siempre primera vez ganar buen momento hacerlo brasil jugadores mejores equipos mundo mucha categoria vamos tener hacer esfuerzo grande equipo equiparar categoria individual mucha fe ojala primera victoria colombia brasil afirmo dt buen momento ahora cualquier racha negativa superarla siempre mentalidad ganar ojala hagamos buen partido podemos ganar si jugamos bien ideal plantear partido jugar bien resultado favor complemento alineaciones probables colombia vs brasil posible formacion colombia camilo vargas daniel munoz carlos cuesta davinson sanchez deiver machado kevin castano jefferson lerma matheus uribe james rodriguez luis diaz rafael santos borre posible formacion brasil alisson emerson royal marquinhos gabriel magalhaes renan lodi andre bruno guimaraes raphinha rodrygo vini jr gabriel martinelli sigue canal diario as whatsapp encontraras todas claves deportivas dia\n"
          ]
        }
      ]
    },
    {
      "cell_type": "markdown",
      "source": [
        "## **6. Preprocesamiento Completo**\n",
        "---\n",
        "\n",
        "Como se puede ver desde el paso anterior, se tiene un texto más limpio que puede llegar a ser más fácil de analizar de manera automática.\n",
        "\n",
        "Se continua con la aplicación del preprocesamiento sobre el _corpus_ completo. Para ello, se define la función `preprocess` la cual toma como entrada un documento cualquiera y retorna un documento preprocesado:"
      ],
      "metadata": {
        "id": "GbgoPKG_Wva5"
      }
    },
    {
      "cell_type": "code",
      "source": [
        "pat = re.compile(r\"[^a-z ]\")\n",
        "spaces = re.compile(r\"\\s{2,}\")\n",
        "\n",
        "def preprocess(text, min_len=1, max_len=23):\n",
        "\n",
        "    # Se crean los Tokens de palabras\n",
        "    tokens = word_tokenize(text)\n",
        "\n",
        "    # Se eliminan stopwords\n",
        "    filtered_tokens = filter(\n",
        "            lambda token: token.lower() not in stop_words_espanol,\n",
        "            tokens\n",
        "            )\n",
        "\n",
        "    # Se filtran palabras por longitud\n",
        "    filtered_tokens2 = filter(\n",
        "            lambda token: len(token) > min_len and len(token) <= max_len,\n",
        "            filtered_tokens\n",
        "        )\n",
        "    # Se pasa a los tokens a cada de string\n",
        "    norm_text = \" \".join(filtered_tokens2)\n",
        "    # Normalización del texto\n",
        "    norm_text = unidecode(norm_text)\n",
        "    # Eliminación de grafía\n",
        "    lower_text = norm_text.lower()\n",
        "    # Se remueven caracteres especiales\n",
        "    clean_text = re.sub(pat, \"\", lower_text)\n",
        "    # Se remueven espacios duplicados\n",
        "    spaces_text = re.sub(spaces, \" \", clean_text)\n",
        "    return spaces_text.strip()"
      ],
      "metadata": {
        "id": "o5u91IXaY6Ku"
      },
      "execution_count": 60,
      "outputs": []
    },
    {
      "cell_type": "code",
      "source": [
        "# Aplicar la función preprocess sobre el dataframe\n",
        "df['preprocess'] = df['Article'].apply(preprocess)\n",
        "\n",
        "# Imprimir el DataFrame resultante con los tokens lematizados\n",
        "display(df[['Article', 'preprocess']])"
      ],
      "metadata": {
        "colab": {
          "base_uri": "https://localhost:8080/",
          "height": 424
        },
        "id": "Y8J2bTJWchFK",
        "outputId": "5d73e217-bc73-4127-be9c-39b28183f951"
      },
      "execution_count": 68,
      "outputs": [
        {
          "output_type": "display_data",
          "data": {
            "text/plain": [
              "                                               Article  \\\n",
              "0    Maduro promete hacer \"lo posible para que el p...   \n",
              "1    Texto en el que el autor aboga por ideas y sac...   \n",
              "2    La violencia simbólica contra el Gobierno de G...   \n",
              "3    La periodista Diana Calderón recuerda que la c...   \n",
              "4    Así se definió Miss Universo 2023\\n\\nEl moment...   \n",
              "..                                                 ...   \n",
              "490  SUSCRÍBETE A NUESTROS BOLETINES\\n\\nPara que es...   \n",
              "491  La distancia entre ciencia y espiritualidad es...   \n",
              "492  Los mejores trabajos del futuro: grandes sueld...   \n",
              "493  La formación será en línea. Foto: Getty Images...   \n",
              "494  Política de datos personales ×\\n\\nEl usuario a...   \n",
              "\n",
              "                                            preprocess  \n",
              "0    maduro promete hacer posible proyecto paz tota...  \n",
              "1    texto autor aboga ideas saca conclusiones basa...  \n",
              "2    violencia simbolica gobierno gustavo petro agu...  \n",
              "3    periodista diana calderon recuerda caida pib t...  \n",
              "4    asi definio miss universo momento exacto sheyn...  \n",
              "..                                                 ...  \n",
              "490  suscribete boletines bien informado invitamos ...  \n",
              "491  distancia ciencia espiritualidad evidente meno...  \n",
              "492  mejores trabajos futuro grandes sueldos alta d...  \n",
              "493  formacion linea foto getty images si buscando ...  \n",
              "494  politica datos personales usuario acepta prese...  \n",
              "\n",
              "[495 rows x 2 columns]"
            ],
            "text/html": [
              "\n",
              "  <div id=\"df-26ba342e-36c6-41cc-b1c3-5ee7a5645b61\" class=\"colab-df-container\">\n",
              "    <div>\n",
              "<style scoped>\n",
              "    .dataframe tbody tr th:only-of-type {\n",
              "        vertical-align: middle;\n",
              "    }\n",
              "\n",
              "    .dataframe tbody tr th {\n",
              "        vertical-align: top;\n",
              "    }\n",
              "\n",
              "    .dataframe thead th {\n",
              "        text-align: right;\n",
              "    }\n",
              "</style>\n",
              "<table border=\"1\" class=\"dataframe\">\n",
              "  <thead>\n",
              "    <tr style=\"text-align: right;\">\n",
              "      <th></th>\n",
              "      <th>Article</th>\n",
              "      <th>preprocess</th>\n",
              "    </tr>\n",
              "  </thead>\n",
              "  <tbody>\n",
              "    <tr>\n",
              "      <th>0</th>\n",
              "      <td>Maduro promete hacer \"lo posible para que el p...</td>\n",
              "      <td>maduro promete hacer posible proyecto paz tota...</td>\n",
              "    </tr>\n",
              "    <tr>\n",
              "      <th>1</th>\n",
              "      <td>Texto en el que el autor aboga por ideas y sac...</td>\n",
              "      <td>texto autor aboga ideas saca conclusiones basa...</td>\n",
              "    </tr>\n",
              "    <tr>\n",
              "      <th>2</th>\n",
              "      <td>La violencia simbólica contra el Gobierno de G...</td>\n",
              "      <td>violencia simbolica gobierno gustavo petro agu...</td>\n",
              "    </tr>\n",
              "    <tr>\n",
              "      <th>3</th>\n",
              "      <td>La periodista Diana Calderón recuerda que la c...</td>\n",
              "      <td>periodista diana calderon recuerda caida pib t...</td>\n",
              "    </tr>\n",
              "    <tr>\n",
              "      <th>4</th>\n",
              "      <td>Así se definió Miss Universo 2023\\n\\nEl moment...</td>\n",
              "      <td>asi definio miss universo momento exacto sheyn...</td>\n",
              "    </tr>\n",
              "    <tr>\n",
              "      <th>...</th>\n",
              "      <td>...</td>\n",
              "      <td>...</td>\n",
              "    </tr>\n",
              "    <tr>\n",
              "      <th>490</th>\n",
              "      <td>SUSCRÍBETE A NUESTROS BOLETINES\\n\\nPara que es...</td>\n",
              "      <td>suscribete boletines bien informado invitamos ...</td>\n",
              "    </tr>\n",
              "    <tr>\n",
              "      <th>491</th>\n",
              "      <td>La distancia entre ciencia y espiritualidad es...</td>\n",
              "      <td>distancia ciencia espiritualidad evidente meno...</td>\n",
              "    </tr>\n",
              "    <tr>\n",
              "      <th>492</th>\n",
              "      <td>Los mejores trabajos del futuro: grandes sueld...</td>\n",
              "      <td>mejores trabajos futuro grandes sueldos alta d...</td>\n",
              "    </tr>\n",
              "    <tr>\n",
              "      <th>493</th>\n",
              "      <td>La formación será en línea. Foto: Getty Images...</td>\n",
              "      <td>formacion linea foto getty images si buscando ...</td>\n",
              "    </tr>\n",
              "    <tr>\n",
              "      <th>494</th>\n",
              "      <td>Política de datos personales ×\\n\\nEl usuario a...</td>\n",
              "      <td>politica datos personales usuario acepta prese...</td>\n",
              "    </tr>\n",
              "  </tbody>\n",
              "</table>\n",
              "<p>495 rows × 2 columns</p>\n",
              "</div>\n",
              "    <div class=\"colab-df-buttons\">\n",
              "\n",
              "  <div class=\"colab-df-container\">\n",
              "    <button class=\"colab-df-convert\" onclick=\"convertToInteractive('df-26ba342e-36c6-41cc-b1c3-5ee7a5645b61')\"\n",
              "            title=\"Convert this dataframe to an interactive table.\"\n",
              "            style=\"display:none;\">\n",
              "\n",
              "  <svg xmlns=\"http://www.w3.org/2000/svg\" height=\"24px\" viewBox=\"0 -960 960 960\">\n",
              "    <path d=\"M120-120v-720h720v720H120Zm60-500h600v-160H180v160Zm220 220h160v-160H400v160Zm0 220h160v-160H400v160ZM180-400h160v-160H180v160Zm440 0h160v-160H620v160ZM180-180h160v-160H180v160Zm440 0h160v-160H620v160Z\"/>\n",
              "  </svg>\n",
              "    </button>\n",
              "\n",
              "  <style>\n",
              "    .colab-df-container {\n",
              "      display:flex;\n",
              "      gap: 12px;\n",
              "    }\n",
              "\n",
              "    .colab-df-convert {\n",
              "      background-color: #E8F0FE;\n",
              "      border: none;\n",
              "      border-radius: 50%;\n",
              "      cursor: pointer;\n",
              "      display: none;\n",
              "      fill: #1967D2;\n",
              "      height: 32px;\n",
              "      padding: 0 0 0 0;\n",
              "      width: 32px;\n",
              "    }\n",
              "\n",
              "    .colab-df-convert:hover {\n",
              "      background-color: #E2EBFA;\n",
              "      box-shadow: 0px 1px 2px rgba(60, 64, 67, 0.3), 0px 1px 3px 1px rgba(60, 64, 67, 0.15);\n",
              "      fill: #174EA6;\n",
              "    }\n",
              "\n",
              "    .colab-df-buttons div {\n",
              "      margin-bottom: 4px;\n",
              "    }\n",
              "\n",
              "    [theme=dark] .colab-df-convert {\n",
              "      background-color: #3B4455;\n",
              "      fill: #D2E3FC;\n",
              "    }\n",
              "\n",
              "    [theme=dark] .colab-df-convert:hover {\n",
              "      background-color: #434B5C;\n",
              "      box-shadow: 0px 1px 3px 1px rgba(0, 0, 0, 0.15);\n",
              "      filter: drop-shadow(0px 1px 2px rgba(0, 0, 0, 0.3));\n",
              "      fill: #FFFFFF;\n",
              "    }\n",
              "  </style>\n",
              "\n",
              "    <script>\n",
              "      const buttonEl =\n",
              "        document.querySelector('#df-26ba342e-36c6-41cc-b1c3-5ee7a5645b61 button.colab-df-convert');\n",
              "      buttonEl.style.display =\n",
              "        google.colab.kernel.accessAllowed ? 'block' : 'none';\n",
              "\n",
              "      async function convertToInteractive(key) {\n",
              "        const element = document.querySelector('#df-26ba342e-36c6-41cc-b1c3-5ee7a5645b61');\n",
              "        const dataTable =\n",
              "          await google.colab.kernel.invokeFunction('convertToInteractive',\n",
              "                                                    [key], {});\n",
              "        if (!dataTable) return;\n",
              "\n",
              "        const docLinkHtml = 'Like what you see? Visit the ' +\n",
              "          '<a target=\"_blank\" href=https://colab.research.google.com/notebooks/data_table.ipynb>data table notebook</a>'\n",
              "          + ' to learn more about interactive tables.';\n",
              "        element.innerHTML = '';\n",
              "        dataTable['output_type'] = 'display_data';\n",
              "        await google.colab.output.renderOutput(dataTable, element);\n",
              "        const docLink = document.createElement('div');\n",
              "        docLink.innerHTML = docLinkHtml;\n",
              "        element.appendChild(docLink);\n",
              "      }\n",
              "    </script>\n",
              "  </div>\n",
              "\n",
              "\n",
              "<div id=\"df-8b36d8ba-c658-4839-9a39-c42e0eb37a10\">\n",
              "  <button class=\"colab-df-quickchart\" onclick=\"quickchart('df-8b36d8ba-c658-4839-9a39-c42e0eb37a10')\"\n",
              "            title=\"Suggest charts\"\n",
              "            style=\"display:none;\">\n",
              "\n",
              "<svg xmlns=\"http://www.w3.org/2000/svg\" height=\"24px\"viewBox=\"0 0 24 24\"\n",
              "     width=\"24px\">\n",
              "    <g>\n",
              "        <path d=\"M19 3H5c-1.1 0-2 .9-2 2v14c0 1.1.9 2 2 2h14c1.1 0 2-.9 2-2V5c0-1.1-.9-2-2-2zM9 17H7v-7h2v7zm4 0h-2V7h2v10zm4 0h-2v-4h2v4z\"/>\n",
              "    </g>\n",
              "</svg>\n",
              "  </button>\n",
              "\n",
              "<style>\n",
              "  .colab-df-quickchart {\n",
              "      --bg-color: #E8F0FE;\n",
              "      --fill-color: #1967D2;\n",
              "      --hover-bg-color: #E2EBFA;\n",
              "      --hover-fill-color: #174EA6;\n",
              "      --disabled-fill-color: #AAA;\n",
              "      --disabled-bg-color: #DDD;\n",
              "  }\n",
              "\n",
              "  [theme=dark] .colab-df-quickchart {\n",
              "      --bg-color: #3B4455;\n",
              "      --fill-color: #D2E3FC;\n",
              "      --hover-bg-color: #434B5C;\n",
              "      --hover-fill-color: #FFFFFF;\n",
              "      --disabled-bg-color: #3B4455;\n",
              "      --disabled-fill-color: #666;\n",
              "  }\n",
              "\n",
              "  .colab-df-quickchart {\n",
              "    background-color: var(--bg-color);\n",
              "    border: none;\n",
              "    border-radius: 50%;\n",
              "    cursor: pointer;\n",
              "    display: none;\n",
              "    fill: var(--fill-color);\n",
              "    height: 32px;\n",
              "    padding: 0;\n",
              "    width: 32px;\n",
              "  }\n",
              "\n",
              "  .colab-df-quickchart:hover {\n",
              "    background-color: var(--hover-bg-color);\n",
              "    box-shadow: 0 1px 2px rgba(60, 64, 67, 0.3), 0 1px 3px 1px rgba(60, 64, 67, 0.15);\n",
              "    fill: var(--button-hover-fill-color);\n",
              "  }\n",
              "\n",
              "  .colab-df-quickchart-complete:disabled,\n",
              "  .colab-df-quickchart-complete:disabled:hover {\n",
              "    background-color: var(--disabled-bg-color);\n",
              "    fill: var(--disabled-fill-color);\n",
              "    box-shadow: none;\n",
              "  }\n",
              "\n",
              "  .colab-df-spinner {\n",
              "    border: 2px solid var(--fill-color);\n",
              "    border-color: transparent;\n",
              "    border-bottom-color: var(--fill-color);\n",
              "    animation:\n",
              "      spin 1s steps(1) infinite;\n",
              "  }\n",
              "\n",
              "  @keyframes spin {\n",
              "    0% {\n",
              "      border-color: transparent;\n",
              "      border-bottom-color: var(--fill-color);\n",
              "      border-left-color: var(--fill-color);\n",
              "    }\n",
              "    20% {\n",
              "      border-color: transparent;\n",
              "      border-left-color: var(--fill-color);\n",
              "      border-top-color: var(--fill-color);\n",
              "    }\n",
              "    30% {\n",
              "      border-color: transparent;\n",
              "      border-left-color: var(--fill-color);\n",
              "      border-top-color: var(--fill-color);\n",
              "      border-right-color: var(--fill-color);\n",
              "    }\n",
              "    40% {\n",
              "      border-color: transparent;\n",
              "      border-right-color: var(--fill-color);\n",
              "      border-top-color: var(--fill-color);\n",
              "    }\n",
              "    60% {\n",
              "      border-color: transparent;\n",
              "      border-right-color: var(--fill-color);\n",
              "    }\n",
              "    80% {\n",
              "      border-color: transparent;\n",
              "      border-right-color: var(--fill-color);\n",
              "      border-bottom-color: var(--fill-color);\n",
              "    }\n",
              "    90% {\n",
              "      border-color: transparent;\n",
              "      border-bottom-color: var(--fill-color);\n",
              "    }\n",
              "  }\n",
              "</style>\n",
              "\n",
              "  <script>\n",
              "    async function quickchart(key) {\n",
              "      const quickchartButtonEl =\n",
              "        document.querySelector('#' + key + ' button');\n",
              "      quickchartButtonEl.disabled = true;  // To prevent multiple clicks.\n",
              "      quickchartButtonEl.classList.add('colab-df-spinner');\n",
              "      try {\n",
              "        const charts = await google.colab.kernel.invokeFunction(\n",
              "            'suggestCharts', [key], {});\n",
              "      } catch (error) {\n",
              "        console.error('Error during call to suggestCharts:', error);\n",
              "      }\n",
              "      quickchartButtonEl.classList.remove('colab-df-spinner');\n",
              "      quickchartButtonEl.classList.add('colab-df-quickchart-complete');\n",
              "    }\n",
              "    (() => {\n",
              "      let quickchartButtonEl =\n",
              "        document.querySelector('#df-8b36d8ba-c658-4839-9a39-c42e0eb37a10 button');\n",
              "      quickchartButtonEl.style.display =\n",
              "        google.colab.kernel.accessAllowed ? 'block' : 'none';\n",
              "    })();\n",
              "  </script>\n",
              "</div>\n",
              "    </div>\n",
              "  </div>\n"
            ]
          },
          "metadata": {}
        }
      ]
    },
    {
      "cell_type": "markdown",
      "source": [
        "Como se puede ver, se ha obtenido un _corpus_ más estandarizado y compacto con un flujo típico de preprocesamiento."
      ],
      "metadata": {
        "id": "UQmrma1veC76"
      }
    },
    {
      "cell_type": "code",
      "source": [
        "prep_corpus = df['Article'].apply(preprocess).tolist()"
      ],
      "metadata": {
        "id": "oPdWNu-fe3tp"
      },
      "execution_count": 70,
      "outputs": []
    },
    {
      "cell_type": "code",
      "source": [
        "print(prep_corpus[:10])"
      ],
      "metadata": {
        "colab": {
          "base_uri": "https://localhost:8080/"
        },
        "id": "oBukPx3zlBE5",
        "outputId": "fa0e584a-5efa-4def-d3bd-852f795e6ac2"
      },
      "execution_count": 72,
      "outputs": [
        {
          "output_type": "stream",
          "name": "stdout",
          "text": [
            "['maduro promete hacer posible proyecto paz total llegue temprano tarde territorio colombiano petro propone eeuu programa humanizacion exodo gestionar migracion madrid nov europa press presidente colombia gutavo petro asegurado sabado venezuela motores reactivacion economia colombiana tras reunirse homologo venezolano nicolas maduro visita oficial caracas ano entrante quiza pura paradoja venezuela va ser motores reactivacion economia colombiana aseverado mandatario colombiano matizado asi si cosas van bien logran sacar adelante serie esfuerzos comunes segun comunicado ministerio exteriores colombia cuarta visita oficial petro servido ampliar mapa cooperacion estrategica ambas naciones solo terminos economicos sino materia comercio integracion turismo maduro subrayado colombia venezuela ido paso paso avanzando debe ser relacion hermandad cooperacion paz prosperidad conjunta senalado puede hacer sectores asimismo lider gobierno venezolano manifestado apoyo irrestricto consolidacion paz territorio colombiano afirmado hara posible proyecto paz total llegue temprano tarde pais paz colombia tranquilidad paz venezuela importantes acuerdos consensos creo relacion integral cooperacion paz entendimiento colombia venezuela va viento popa va avanzando nueva jornada trabajo sido exito total anadido nicolas maduro tras encuentro abordado cuestiones ambientales climaticas energeticas acuerdo migratorio eeuu migracion ocupado lugar central reunion considerar petro hora mirar exodo personas salen venezuela hacia america sur ahora hacia america norte pasando terrible episodio tapon darien personas agregado vulnera totalidad derechos cruzan selvas manos mafias mandatario colombiano expuesto unidos llegar acuerdo relacion migracion destacando hecho varias propuestas respecto pienso exodo viene sur chile peru patagonia ecuador llega engrosa colombia trata atravesar tapon darien debe desviarse pais origen opinado petro detallado fin propuesto eeuu programa humanizacion exodo basado bonos estabilizacion economica cada familia vuelvan lugar puedan construir pais mejor manera gustavo petro insistido colombia quiere ayudar construir exodo retorno ello importante alcanzar grado integracion permita ponerse acuerdo mitigar exito venir', 'texto autor aboga ideas saca conclusiones basadas interpretacion hechos datos presidente petro acaba anunciar ocurrencia semana quitar regla fiscal dice impide gobierno gastar salvar economia impide gastar regla bien documentado tranca ejecutar presupuesto vivienda infraestructura regalias incompetencia equipos dudas frente politica casa g g carreteras regalias petroleo octubre solo ejecutado fraccion pequena inversion vivienda infraestructura regalias billones ejecutar extrana presidente petro anunciar gastos congelo peajes requerira hacienda pague hueco millones congelo soat creo hueco medio billon subio suficiente unidad pago capitacion salud creo hueco eps billones ministro jaramillo pide hacienda cubra decidio subir rapido precios gasolina diesel abrio hueco billones ecopetrol hacienda anuncio universidad publica gratis ministro bonilla debe cubrir hueco billones decidio mantener miope opcion tarifaria energia electrica duque giro subsidios electrificadoras abrieron hueco cinco billones verdad presidente petro gastar billones billones cada semana entiende entonces salga irrisorio anuncio dejan gastar tal dejaran regalaria tomates plazas mercado sal salchichon tiendas agua luz casas justamente inventaron reglas fiscales defender presupuesto publico ministro hacienda mandatarios excesivamente generosos irresponsables van regalando plata ajena diestra siniestra presidente parece saber cuanto vale peso dificil producirlo ha balanceado presupuesto ha producido bien servicio ha generado utilidades empresa newsletter analisis actualidad mejores historias colombia cada semana buzon recibala presidente petro ademas muele palos producen pesos pagan impuestos dan mandatarios posen generosos empresarios llama esclavistas explotadores presidente debe saber empresarios producen obtienen utilidades esfuman impuestos circunstancia ministro bonilla remedio emitir bonos deuda impuestos deuda unicas fuentes pagar inmenso generoso corazon presidente pues bien compradores bonos deuda publica solo creen regla fiscal saben unico instrumento aceptado visto ordena relacion ingresos gastos gobierno regla fiscal fecundidad regalos prebendas semanales llevarian traste gobierno hecho vamos ano ve complicado cuentas ministro bonilla pensar van alcanzar reformas tributarias ministros restrepo ocampo subida precios petroleo va alcanzar momento alcanzo rojas pinilla ultimo populista irresponsable regla fiscal forma defendernos populistas irresponsables estimados congresistas llego momento constatar si ustedes columna vertebral si lugar trozo caucho sirve venias arrodilladas servir tapete ejecutivo si dejan avanzar reforma salud abriria hueco adicional billones ano contemplan desbaratar regla fiscal van desaparecer compradores bonos gobierno precio deuda publica precipitara suelo sucedio tasa interes ministro bonilla ofrecer compren bonos aumentara argentina nicaragua cuba venezuela ustedes diran pais quieren vivamos millones colombianos pais irresponsable presidente quiere crear responsable habitado espacio siglo ministro bonilla dia vida debe ser infierno sumando cuentas cuentas pagar presidente gabinete mayor aliada regla fiscal usted sabe muro contencion represa presupuestal muro inundariamos deuda impuestos admita serie disparates acaben tradicion centenaria responsabilidad fiscal colombia suscribase aqui newsletter pais colombia aqui canal whatsapp reciba todas claves informativas actualidad pais suscribete seguir leyendo lee limites seguir leyendo suscriptor', 'violencia simbolica gobierno gustavo petro agudiza menos ocho dias manifestantes quemaron muneco imagen presidente amenazaron representante david racero insultaron senador inti asprilla ambos oficialistas partido colombia vs brasil cientos personas agredieron cantos ofensivos hija menor presidente gustavo petro ceremonia aniversario anos fuerza aeroespacial colombiana noviembre cristian garavito cruz presidencia republica libro pais emociones tristes escritor mauricio garcia villegas propone cultura politica colombia inclinada hacia odios mentiras venganzas hacia compasion benevolencia civilidad semana termina particularmente violenta gobierno gustavo petro ejemplo ello menos ocho dias manifestantes extrema derecha quemaron muneco imagen presidente amenazaron publicamente congresista petrista insultaron presencia familia obligaron salir estadio antonella petro hija menor presidente medio gritos abucheos todas agresiones viralizaron redes sociales ola violencia politica semana inicio domingo pasado senador inti asprilla partido verde cercano presidente petro almorzaba restaurante familia unas personas acercaron insultaron delante hijos esposa asprilla visiblemente afectado grabo video defendiendose exsecretario gobierno bogota luis ernesto gomez lamento sucedido cuanto siento querido inti intolerancia politica pais llegado puntos inaceptables muestra intolerancia politica muchas veces colombia convertido violencia muerte repitio dos dias despues manana martes grupo personas convocadas senador miguel uribe turbay centro democratico reunio frente ministerio salud protestar reforma salud medio gritos arengas pleno centro bogota manifestantes sacaron muneco rostro petro envolvieron bandera antigua guerrilla m desmovilizada hace anos pertenecio hoy presidente prendieron fuego deberiamos darle muerte politica meterle candela guerrillero mierda gritaba furioso hombre identificado despues mauricio martinez triana mientras cara presidente ardia asi guerrillero gustavo petro terrorista video quema hizo viral redes sociales impulsado figuras politicas extrema derecha representante camara miguel polo polo compartio imagenes escribio cuenta gloria soldados plomo guerrilleros petro publico mensaje video pidio investigar hombre responsable miren construyen odio gente planton debe ser investigado justicia respondido movilizacion popular escribio newsletter analisis actualidad mejores historias colombia cada semana buzon recibala horas despues expresidente alvaro uribe ferreo enemigo politico petro cabeza centro democratico unio condena acto violencia seriedad centro democratico pierde argumentos olvidan personas salen quemar munecos imitan presidente republica dejan autoridad reclamar seguridad cuidado sufrido promociones semejantes odio violencia horas tarde mismo senor martinez triana hace menos mes quemo candidato asamblea santander centro democratico entro plenaria camara representantes pancarta decia petro quiere matar discutia reforma salud presidente camara liberal petrista andres calle vio afiche ocupaba gran parte tribunas recinto pidio retirarlo joven politico ferviente seguidor senadora uribista maria fernanda cabal respondio gritos amenazas representantes petrista pacto historico particular david racero mientras representantes oposicion alentaban aplaudian manifestantes aludiendo libertad expresion dos dias despues dio partido colombia vs brasil cientos personas corearon petro petro dirigiendo arenga palco presidente sino hija antonella anos futbolista aficionada joven salir huyendo estadio videos compartidos redes sociales ve rabia tristeza insultos continuaron mientras madre veronica alcocer caminaban politicos condenaron hecho presidente escribio valientes enfrentaron hija menor edad amante futbol sabemos hizo pueblo barranquillero acompanado mayoritariamente todas luchas roy barreras embajador colombia reino unido escribio agresion verbal adultos energumenos nina menor edad estadio ser hija presidente acto miserable ruin violento ojala pidan perdon siembran odio violencia cual origen actos odio que motiva que consecuencias democracia mauricio garcia villegas explica dialogo pais iras politica colombia nunca faltan emocion motiva persona grupo personas quemar imagen presidente grabar hecho publicarlo redes finales siglo pasado don carlos e restrepo hablaba viejos queridos odios ahi siguen pesar acuerdos paz leyes instituciones dice villegas pensador colombiano reconoce odio ira creciendo pueden crecer todavia gran pregunta terreno van ganar odios escena politica nacional responde nadie sabe buena parte iras producen redes sociales volatiles pasajeras irreflexivas hecho si crecen pueden entorpecer aun acciones gobierno cada vez parece enfrentar problemas llevar cabo propositos claro colombia nunca descartar si crecen iras traduzcan violencia politica profesor fabio lopez roche investigador instituto estudios politicos relaciones internacionales iepri universidad nacional explica pais colombia tradicion fuerte intolerancia anclada historia religiosa lopez cree sentimiento aguantar opinion exacerbado anos recientes polarizacion generado tres grandes fenomenos seguridad democratica alvaro uribe proceso paz farc juan manuel santos llegada poder primer gobierno izquierda cabeza gustavo petro profesor lopez dirige programa desmentir noticias falsas television publica coincide garcia villegas redes sociales agravado intolerancia alli genera ambiente proclive descalificacion ideologica moral piensa distinto generado clima odio fuerte entrevista pais santiago garces investigador centro investigacion educacion popular cinep cree necesario distinguir protesta descontento mayoritario legitimo gobierno petro eventos indican propension violencia politica preocupantes garces pasado ultimos dias colombia puede enmarcar fenomeno internacional derechas salen norma democratica protestas vox espana garcia villegas explica aunque soluciones problema todas dificiles largo plazo dependen cultura politica fortalecimiento instituciones alternativa fomentar crear cultura rechazo practicas vengan vinieren refiero siguiente gente derecha levante voz manifestaciones odio lanzan lideres izquierda solo gente izquierda proteste manifestaciones odio van lideres derecha solo concluye villegas suscribase aqui newsletter pais colombia aqui canal whatsapp reciba todas claves informativas actualidad pais', 'periodista diana calderon recuerda caida pib tercer trimestre da pocas semanas gobierno deba definir aumentos salario minimo combustibles servicios publicos senala requiere acuerdo nacional sectores politicos sino empresarios mayor inversion publica asi evitar incertidumbre economica reactivar economia afectar inflacion suscribase aqui newsletter pais colombia aqui canal whatsapp reciba todas claves informativas actualidad pais', 'asi definio miss universo momento exacto sheynnis palacios nicaragua elegida miss universo tension oscuridad llanto felicidad segundos tailandia nicaragua favoritas correspondieron favoritismo llegando final', 'resumen primer tiempo urgencia ir triunfo conocer resultado duelo grupo hizo junior cali frente metropolitano mejores formas hizo local calidad jugadores nunca superior rival pudo haber lastimado llegadas chino sandoval local cuarteto ataque trabajo exito anotacion falto mejor finalizacion portero alejandro rodriguez puso traje figura atajadas pelota quieta consiguio desnivelar distraccion cuadro azucarero didier moreno complico noche pava valentia intentar igualar despues expulsion chino sandoval', 'luiz inacio lula da silva inauguracion linea produccion cazabombardero gripen brasil mayo victor moriyama bloomberg todavia podemos decir construimos avioncito lamento semana presidente colombia gustavo petro ceremonia anos fuerza aeroespacial colombiana museo aeroespacial tocancipa importamos demasiado tipos aparatos desarrollo industria aeronautica colombia dijo discurso palabras seguidas expectativa caso diera pistas postergado proceso sustituir antiguos aviones israelies kfir punto cumplir vida util repontenciados poder mandatario refirio directamente modernizacion flota aerea cambio hizo disquisicion papel fuerza publica industrializacion pais ideas recurrentes desarrollo industria aeronautica fundamental apunto primer presidente izquierdas colombia contemporanea se paralizaron nacio igual brasil asocio industria aeronautica brasil exporta aviones colombia paralizo prosiguio petro brasileros inteligentes aqui faltado audacia concluyo gigante sudamericano justamente espejo colombia puede ver dilatado proceso reemplazar kfir pais discute hace anos bajo distintas administraciones ahora mismo parece estancado aunque decision final postergado gobierno evalua tres ofertas opcionadas mesa f unidos rafale francia gripen suecia que escogidos brasil mayor adquisicion equipo militar decadas exenta polemica pasado izquierda propio petro criticaron enorme gasto representa renovacion kfir da espera una urgencia enrarecida aun tension diplomatica colombia israel propio mandatario dijo hace ano ceremonia ascensos esposas pilotos iban agradecer dado peligro subir aparatos dias gobierno anuncio preseleccionado propuesta francia adquirir aviones rafale mejor opcion pais relacion precio eficiencia operatividad afirmo ejecutivo comunicado inversion rondaria billones pesos torno millones dolares cambio actual comenzaria pagarse dentro cinco anos detallaba entonces ministro defensa ivan velasquez declarado definicion expresa gobierno adquisicion aviones superioridad aerea debate congelado gustavo petro ceremonia aniversario anos fuerza aeroespacial colombiana noviembre cristian garavito cruz presidencia republica newsletter analisis actualidad mejores historias colombia cada semana buzon recibala grandes procesos compras sistemas armas siempre complejos suelen sufrir sindrome dar dos pasos adelante atras apunta nicolas urrutia director control risks experto defensa aunque propio negociaciones tipo explica gobierno colombia unas metas horizontes claros proceso renovacion kafir ausencia conflictos confrontaciones america latina varios paises region proponerselo explicitamente dejado deteriorar gradualmente capacidades combate aereo vuelven casi simbolicas anade tendencia regional caso colombiano plantea falta decision aumenta riesgo perder capacidad ejemplo brasil influencia relevante caso colombiano cosas si brasil tomado decision tomo aun menos probable colombia dispuesta considerar aviones suecos opcion realista apunta urrutia evidentemente alcance tamano contratos defensa brasil liga base industrial defensa robusta colombiana mucha mayor capacidad recibir transferencia tecnologica gran escala aprovecharla incluso comercializarla matiza mientras brasil ambiciona hace decadas ser poder regional tener peso escenario internacional colombia mirado hacia adentro inversion sistemas armamento sofisticados sido episodica sido regla apunta urrutia gigante sudamericano larguisimos anos pugnas diplomaticas acabaron gobierno dilma rousseff decidio finales oferta gripen amplia transferencia tecnologia modernizar aviacion militar semejanza colombia candidatos dassault rafale frances boeing f estadounidense avion gripen fe vuela ceremonia base aerea brasilia octubre adriano machado reuters dos procesos aunque disimiles guardan varias semejanzas brasil buscaba sustituto aviones caza northrop f dassault mirage entraron servicio anos escogencia atraveso varios gobiernos luiz inacio lula da silva incluso llego anunciar rafale elegido despues breve visita frances nicolas sarkozy propia fuerza aerea brasilena fab exigio ser consultada anuncio sorprendio finalistas final echo atras dia ministro defensa celso amorim explico tres criterios inclinaron balanza rendimiento aparatos coste compra mantenimiento especial transferencia tecnologia necesaria brasil pudiera construir aviones territorio octubre nuevo caza fab hizo vuelo estreno brasilia pasado mayo propio lula vuelta poder inauguro linea produccion gripen brasil interior sao paulo ensamblaran cazas primer lote gripen avion combate avanzado america latina marca inicio nueva defensa aerea brasil valora sao paulo roberto godoy reportero especialista industria defensa brasil proceso contratar gripen adicionales proceso entrega representan cerca mitad flota prevista fab explica godoy numero efectivo cazas adquiridos varios lotes desarrollados construidos embraer empresa brasilena aviacion misma presidente petro gustaria emular suscribase aqui newsletter pais colombia aqui canal whatsapp reciba todas claves informativas actualidad pais', 'docena servicios streaming compiten forma feroz ser reyes mercado spotify infobae considerado formatos digitales intimos podcast ganado fama posicionado gusto publico colombiano raiz llegada plataformas streaming nuevo milenio caso spotify puede interesar podcast spotify colombia engancharse dia boom significativo surgio pandemia coronavirus obligo mayoria personas permanecer confinamiento vez empezaron experimentar formatos canales diversos informarse entretenerse podcast productos audio disposiciona traves archivos plataformas streaming grandes ventajas usuario puede escucharlo desee cuantas veces quiera puede interesar cual podcast reproducido hoy spotify espana embargo podcast nuevo sino trata producto gozo amplia popularidad principios siglo xxi luego quedo relegado llegada discos compactos ipods obstante facil acceso amplios generos diversas narrativas facilitado nuevo apogeo muchas empresas comenzado apostar nuevamente llegar usuarios puede interesar podcast encabezan lista reproducidos spotify peru producciones sido bien recibidas colombia prueba ello podcast naturalmente sascha hola bienvenidos canal naturalmente sascha nuevo espacio hablaremos manera dinamica divertida distintos temas fitness nutricion maternidad emprendimiento vida pareja emocionada compartir conversaciones autenticas reales contigo podcast no puedes perder solo episodio asi suscribete acompaname vivir aventura my website saschafitnesscom saschafitnessinstagram saschafitness youtube coquetas bravas charla semanal dos amigas monton hablan confuso tener veintipico anos sobrevivir ser adultas ven tomate unas tapas dmg sueno hormiga sur colombia region maltratada violencia marcada abandono estatal surgio empresa milagrosa liderada joven llamado david murcia guzman empresa dmg nombre breve pegajoso prometia rendimientos fabulosos vuelta pocos meses esquema comercial autoridades acusaban ser fachada piramide financiera murcia convirtio especie salvador decenas miles familias entonces vivido pobreza feroz inmenso poder llego amasar murcia planto desafio banqueros pronto duelo escalo convertirse confrontacion publica llevo pais extremos insospechados podcast original spotify producido ficcion podcast marian rojas estape marian rojas estape medico psiquiatra ayuda podcast entender aquellos aspectos fundamentales afectan cada dia salud fisica mental comprender aliviar asi muestra experiencia conocimiento cada episodio encontraras consejos vivir armonia traves conocimiento cuerpo mente conducta mundo emocional entenderas puede existir manera acercarte como hacer pasen cosas buenas aprenderas cortisol sistema reticular oxitocina corteza prefrontal herramientas necesarias puedas identificar personas vitamina rodean podcast marian rojas estape podcast exclusiva spotifycreditos guion locucion marian rojas estapeproduccion editorial espasadireccion sergio garcia janez sara ayllongrabacion margot martinedicion jose david delpueyo sunne aleja grua podcast podcast vamos aprender vida vamos hablar popo vamos contar experiencias tal vez ayuden ser mejores varios episodios vamos tener invitados voy novia voy solito asi muchas gracias si escuchan vemos luego disponible tambien youtube dosis diaria roka mision buscamos rescatar valores sociedad especialmente juventud enfocandonos ofrecer palabra clara reconfortante constante pueda servir apoyo restaurar heridas corazon sufrido experiencias vivencias marcado vidas siempre exaltando amor perdon dios dio traves hijo jesucristo en fundamentamos gran comision ir mundo predicar evangelio toda persona marcos oracion respuesta toda necesidad cada oyente palabra entrego hechos creemos sido restaurados restaurar jeremias valores vida dios responsabilidad amor propio projimo proclamar verdad para quienes roka stereo dirigida hombres mujeres necesidad dios corazon dispuesto oir mensaje diario dios apoya ministerio dios cambiando sanando vidas traves emisora agradecemos apoyo sentir corazon ministerio nunca detenga wwwrokastereocom camino hacia adentro camino hacia adentro podcast autogestivo independiente autoconocimiento desarrollo personal espacio vas sumergir dentro vos misma comenzaras explorarte entenderte conocerte nunca nombre sol voz podcast intencion acompanarte mientras vas nutriendo camino regreso vos talleres https instagram https canal telegram https canal youtube https psicologia desnudo psimammoliti gestion emocional llave acceso vida y manos aprenderla mano psicologa clinica marina mammoliti sumergimos bucear profundidades mente cada episodio psicologia desnudo podcast salud mental encontraras herramientas valiosas bienestar nos acompanas siguenos https psimammoliticom meterse rancho santiago alarcon acepto reto meterse rancho aca usted podra reir llorar reflexionar aprender experiencias amplia variedad invitados sentaron frente abrirse contar historia vida censura podcast original spotify bienvenidos bienvenidas dianauribefm aqui vamos contar historias vamos hablar cultura cine viajes paz musica vamos continuar conversacion empezo radio hace anos ademas aprovecharemos nuevas posibilidades abren medio bienvenidos podcast wwwdianauribefm titulos podrian tener descripcion plataforma proporciona podcast podcast retomado fuerza usuarios plataformas streaming tras pandemia coronavirus getty imageslynda raymond podcast producto audio periodicidad definida puede integrado varios episodios si bien origenes radio actualmente gustan formato pueden encontrarlo paginas internet plataformas streaming spotify podcast iniciaron discusion varios participantes tema particular paso tiempo formas hacerlos ido diversificando ahora puede persona hablando grupo asimismo solo usan espacio intercambiar puntos vista sino abarcan generos entrevista ficcion sucede historia suspenso produccion chilena caso podcast escuchados nivel mundial palabra podcast usada primera vez febrero periodista ben hammersley the guardian articulo hablaba viable economicamente hacer programa radio linea acceder usuarios quieran aunque diversos debates cuando surgio primer podcast historia varios expertos senalado idea clara creacion fonografo thomas alva edison intelectuales epoca philip hubert octave uzanne edward bellamy pronosticaron gente acabria leyendo ojos cerrados libros periodicos revistas mamas dejarian quedarse roncan contando cuentos ninos ir dormir podcast escuchados spotify convertido plataformas streaming competitivas spotify compania sueca spotify anuncio noviembre compra adquisicion plataforma publicitaria podcast megaphone millones dolares sirvio monetizacion audios apogeo tipo produccion convirtio formatos favoritos ultimo ano oferta podcast spotify extendio nuevos mercados registro existencia cuatro millones podcast aunque pocos lograron dejar mayor huella convertirse populares nivel mundial titulo lidero ranking mejores podcast the joe rogan experience ademas sumo tercer ano consecutivo siendo numero lista escuchados siguio call her daddy alex cooper tercer peldano ubica anything goes with emma chamberlain futura exclusiva spotify toca variedad temas popular creadora estadounidense audio serie chilena caso logro encabezar semanas ranking reproducidos gano cuarto lugar nivel mundial podcast espanol incluso doblado portugues brasileno hindi ingles quinto peldano ubico podcast crimenes reales llamado crime junkie voz ashley flowers brit prawat mitad ranking locompletantitulos the daily produccion latina suspenso llamada relatos noche asi on purpose with jay shetty armchair expert with dax shepard finalizando ted talks daily', 'maduro petro planean explorar manera conjunta campos gas petroleo venezuela presidentes mantuvieron reunion caracas discutieron energias migracion paz presidente venezuela nicolas maduro presidente colombia gustavo petro hablan termino reunion sabado caracas venezuela miguel gutierrez efe nicolas maduro gustavo petro esfuerzo mantener viva relacion dado credito internacional primero mayores logros gobierno segundo reunieron sabado caracas quinta vez ultimo ano presidentes rueda prensa conjunta ofrecieron acabar encuentro palacio miraflores hablaron llevar cabo plan integracion energetica doble via favorezca dos paises probable ecopetrol vuelva socia pdvsa explotacion campos gas venezuela campos petroleo explico petro presidente colombiano instantes justificado decision traeremos venezuela energias aun subsisten materias primas hacer barata gasolina colombiana sustentar transicion energias limpias traves gas petro planteado llego poder transicion energetica acelerada descarbonizar economia tiempo matizado hara manera paulatina ordenada economia venezolana parte depende gran medida ingresos petroleo ahora recibido unidos licencia pdvsa pueda operar margen sanciones internacionales mesa asunto migracion especial enfasis situacion tapon darien petro propuesto hiciera cumbre migrantes celebro palenque hace unas semanas llegar acuerdo unidos inmigrantes lleguen frontera sur puedan ser repatriados pais origen afecta mayoritariamente venezolanos primera vez historia superado mexicanos numero personas cruzan rio bravo repatriacion explica petro debe fomentarse programa humanizacion desarrollado washington incluya compensaciones migrantes vuelvan pais volver pais puedan mejorar situacion petro maduro refirieron declaraciones publicas momento politico venezuela petro apoyado impetu negociacion gobierno chavista oposicion incluso mediado respecto joe biden casa blanca maduro abrirse flexibilizacion sanciones petroleo gas dado palabra celebraran elecciones presidenciales segundo semestre permitido oposicion organizara unas primarias resultado elegida manera abrumadora maria corina machado embargo machado sigue inhabilitada instituciones controladas chavismo dia hoy podria concurrir comicios tensa relaciones todas partes petro dia inhabilitado alcalde bogota contraloria colombiana una decision despues revoco cidh defiende vehemencia urnas deben determinar quien gobierna decisiones administrativas pueden ser manipuladas supo inhabilitacion machado petro defendio publico unas declaraciones buen seguro gustaron chavismo aunque detractores petro acusan haber sido condescendiente maduro presidente siempre mantenido venezuela debe producirse transicion democratica pactada ofrezca garantias chavismo oposicion despues unas elecciones cuenten todas garantias petro acompanado caracas canciller alvaro leyva primera dama veronica alcocer ministro energia minas andres camacho ministra medio ambiente susana muhamad directora prosperidad social laura sarabia sarabia vuelve primera linea gobierno despues hace meses salir mismo espionaje ninera hijo asunto investiga ahora mismo fiscalia presidente querido perder lado hecho vuelva formar parte nucleo duro toma decisiones importantes newsletter analisis actualidad mejores historias colombia cada semana buzon recibala colombia venezuela rompieron relaciones gobierno ivan duque volvieron retomar llegar petro poder hace ano presidente colombiano dicho ocasion alejarse pais vecino profunda estupidez solo posible ideologia sectarismo anegan alma corazon muchas partes mundo experiencias pesar distancias ideologicas coyunturales personales mandatarios nunca dejan rompan relaciones nunca jamas cometen tonteria paralizar flujos comerciales ultimo maduro petro trataron tema paz involucra lleno venezuela vive mayoria dirigentes guerrilla eln teoria paises trabajaran creacion destinos turisticos cuenca amazonas ahora mismo operan grupos criminales podria construir economia depredadora economia limpia daria dinero habitantes ambos paises explotacion economias ilicitas origen minero depredando selva amazonica expuesto petro maduro contesto dara apoyo paz propugna petro paz colombia tranquilidad venezuela suscribase aqui newsletter pais colombia aqui canal whatsapp reciba todas claves informativas actualidad pais', 'sabado presidente republica nicolas maduro informo venezuela hermana republica colombia firmaron nuevos consensos diversas areas beneficio pueblos ambas naciones mandatario nacional expreso ahora puede hacer nivel economia comercio integracion turismo puntualizo senalo caracas bogota avanzan paso paso debe ser relacion paz cooperacion prosperidad salon sol peru palacio miraflores caracas maduro detallo encuentro homologo neogranadino llego varios consensos materia ambiental puntualmente frente amenaza fenomeno nino llegado importantes consensos medidas conjuntas preciso asimismo destaco voluntad combate mineria ilegal amazonas igual forma caracas bogota alcanzado acuerdos materia inversiones sector gasifero petrolero turismo binacional vera fortalecido partir dialogo ambos mandatarios maduro refirio alcanzado acuerdos materia electrica region occidental venezuela parte dignatario ratifico presidente petro apoyo venezuela hacer hacer proyecto paz total llegue temprano tarde colombia conversado intensamente temas paz ultimo presidente maduro definio jornada buena intensa encuentro trabajo sostenido venezuela motor economia colombiana presidente colombiano avizoro ano entrante quizas venezuela motores reactivacion economia colombiana si cosas van bien si logramos sacar adelante esfuerzos comunes venezuela va ser motor misma economia colombiana apunto asimismo mandatario neogranadino reitero voluntad colombia contribuir mecanismos regularizar fenomeno migratorio abogo sumar esfuerzos enfrentar crisis climatica creemos ponernos acuerdo ayuda mitigar exito venir apunto petro informacion agencias']\n"
          ]
        }
      ]
    }
  ]
}