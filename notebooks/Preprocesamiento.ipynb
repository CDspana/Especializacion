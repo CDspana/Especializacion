{
  "nbformat": 4,
  "nbformat_minor": 0,
  "metadata": {
    "colab": {
      "provenance": []
    },
    "kernelspec": {
      "name": "python3",
      "display_name": "Python 3"
    },
    "language_info": {
      "name": "python"
    }
  },
  "cells": [
    {
      "cell_type": "code",
      "source": [
        "!pip install unidecode"
      ],
      "metadata": {
        "colab": {
          "base_uri": "https://localhost:8080/"
        },
        "id": "t4tcMDKUXaeT",
        "outputId": "ce2352b8-e020-428a-c43d-6a83300f4410"
      },
      "execution_count": null,
      "outputs": [
        {
          "output_type": "stream",
          "name": "stdout",
          "text": [
            "Requirement already satisfied: unidecode in /usr/local/lib/python3.10/dist-packages (1.3.7)\n"
          ]
        }
      ]
    },
    {
      "cell_type": "code",
      "execution_count": null,
      "metadata": {
        "colab": {
          "base_uri": "https://localhost:8080/"
        },
        "id": "Lt5p9_UyS6b-",
        "outputId": "395d86fa-eb4b-45d0-ccbd-2f607f050dbb"
      },
      "outputs": [
        {
          "output_type": "stream",
          "name": "stderr",
          "text": [
            "[nltk_data] Downloading package punkt to /root/nltk_data...\n",
            "[nltk_data]   Unzipping tokenizers/punkt.zip.\n",
            "[nltk_data] Downloading package stopwords to /root/nltk_data...\n",
            "[nltk_data]   Unzipping corpora/stopwords.zip.\n",
            "[nltk_data] Downloading package wordnet to /root/nltk_data...\n"
          ]
        }
      ],
      "source": [
        "import pandas as pd\n",
        "import spacy\n",
        "import nltk\n",
        "\n",
        "# tokenizadores\n",
        "from nltk.tokenize import sent_tokenize, word_tokenize\n",
        "from nltk.tokenize import TweetTokenizer\n",
        "\n",
        "# diccionarios especiales para puntuación y palabras vacias\n",
        "nltk.download('punkt') # Manejo de puntuación\n",
        "nltk.download('stopwords')\n",
        "\n",
        "# wordnet\n",
        "nltk.download('wordnet')\n",
        "\n",
        "from nltk.corpus import stopwords\n",
        "\n",
        "# lematizador basado en WordNet de nltk\n",
        "from nltk.stem import WordNetLemmatizer\n",
        "\n",
        "# steemer de nltk. Raiz de las palabras\n",
        "#from nltk.stem import SnowballStemmer\n",
        "from nltk.stem import PorterStemmer\n",
        "\n"
      ]
    },
    {
      "cell_type": "markdown",
      "source": [
        "**Ejemplo de tokenización**\n",
        "\n"
      ],
      "metadata": {
        "id": "fqp-BF9ar8HL"
      }
    },
    {
      "cell_type": "code",
      "source": [
        "text = \"Natural language processing (NLP) is a field \" \\\n",
        "       + \"of computer science, artificial intelligence \" \\\n",
        "       + \"and computational linguistics concerned with \" \\\n",
        "       +\"the interactions between computers and human \" \\\n",
        "       + \"(natural) languages, and, in particular, \" \\\n",
        "       + \"concerned with programming computers to \" \\\n",
        "       + \"fruitfully process large natural language \" \\\n",
        "       + \"corpora. Challenges in natural language \" \\\n",
        "       + \"processing frequently involve natural \" \\\n",
        "       + \"language understanding, natural language \" \\\n",
        "       + \"generation frequently from formal, machine\" \\\n",
        "       + \"-readable logical forms), connecting language \" \\\n",
        "       + \"and machine perception, managing human-\" \\\n",
        "       + \"computer dialog systems, or some combination \" \\\n",
        "       + \"thereof. There are 365 days usually. \" \\\n",
        "       + \"This year is 2020.\"\n",
        "\n",
        "# sentencias\n",
        "print('Tokenización por sentencias:\\n')\n",
        "sentences = sent_tokenize(text)\n",
        "for sentence in sentences:\n",
        "    print(sentence,'\\n')\n",
        "print('Tokenización por sentencias:\\n')\n",
        "print(sent_tokenize(text))\n",
        "\n",
        "# palabras\n",
        "tokens = word_tokenize(text)\n",
        "print('\\n Tokenización por palabras:')\n",
        "for token in tokens:\n",
        "    print(token, end =' ')\n",
        "print('')\n",
        "print('\\n Tokenización por palabras:')\n",
        "print(word_tokenize(text))\n",
        "\n",
        "# caracteres\n",
        "chars = [char for char in text]\n",
        "print('\\n Tokenización por caracteres:')\n",
        "for char in chars:\n",
        "    print(char, end =' ')\n",
        "print('')\n",
        "print('\\n Tokenización por caracteres:')\n",
        "print(chars)"
      ],
      "metadata": {
        "colab": {
          "base_uri": "https://localhost:8080/"
        },
        "id": "-cE8qqB_rt2K",
        "outputId": "2bbcea74-5082-49a7-b46f-74724744018d"
      },
      "execution_count": null,
      "outputs": [
        {
          "output_type": "stream",
          "name": "stdout",
          "text": [
            "Tokenización por sentencias:\n",
            "\n",
            "Natural language processing (NLP) is a field of computer science, artificial intelligence and computational linguistics concerned with the interactions between computers and human (natural) languages, and, in particular, concerned with programming computers to fruitfully process large natural language corpora. \n",
            "\n",
            "Challenges in natural language processing frequently involve natural language understanding, natural language generation frequently from formal, machine-readable logical forms), connecting language and machine perception, managing human-computer dialog systems, or some combination thereof. \n",
            "\n",
            "There are 365 days usually. \n",
            "\n",
            "This year is 2020. \n",
            "\n",
            "Tokenización por sentencias:\n",
            "\n",
            "['Natural language processing (NLP) is a field of computer science, artificial intelligence and computational linguistics concerned with the interactions between computers and human (natural) languages, and, in particular, concerned with programming computers to fruitfully process large natural language corpora.', 'Challenges in natural language processing frequently involve natural language understanding, natural language generation frequently from formal, machine-readable logical forms), connecting language and machine perception, managing human-computer dialog systems, or some combination thereof.', 'There are 365 days usually.', 'This year is 2020.']\n",
            "\n",
            " Tokenización por palabras:\n",
            "Natural language processing ( NLP ) is a field of computer science , artificial intelligence and computational linguistics concerned with the interactions between computers and human ( natural ) languages , and , in particular , concerned with programming computers to fruitfully process large natural language corpora . Challenges in natural language processing frequently involve natural language understanding , natural language generation frequently from formal , machine-readable logical forms ) , connecting language and machine perception , managing human-computer dialog systems , or some combination thereof . There are 365 days usually . This year is 2020 . \n",
            "\n",
            " Tokenización por palabras:\n",
            "['Natural', 'language', 'processing', '(', 'NLP', ')', 'is', 'a', 'field', 'of', 'computer', 'science', ',', 'artificial', 'intelligence', 'and', 'computational', 'linguistics', 'concerned', 'with', 'the', 'interactions', 'between', 'computers', 'and', 'human', '(', 'natural', ')', 'languages', ',', 'and', ',', 'in', 'particular', ',', 'concerned', 'with', 'programming', 'computers', 'to', 'fruitfully', 'process', 'large', 'natural', 'language', 'corpora', '.', 'Challenges', 'in', 'natural', 'language', 'processing', 'frequently', 'involve', 'natural', 'language', 'understanding', ',', 'natural', 'language', 'generation', 'frequently', 'from', 'formal', ',', 'machine-readable', 'logical', 'forms', ')', ',', 'connecting', 'language', 'and', 'machine', 'perception', ',', 'managing', 'human-computer', 'dialog', 'systems', ',', 'or', 'some', 'combination', 'thereof', '.', 'There', 'are', '365', 'days', 'usually', '.', 'This', 'year', 'is', '2020', '.']\n",
            "\n",
            " Tokenización por caracteres:\n",
            "N a t u r a l   l a n g u a g e   p r o c e s s i n g   ( N L P )   i s   a   f i e l d   o f   c o m p u t e r   s c i e n c e ,   a r t i f i c i a l   i n t e l l i g e n c e   a n d   c o m p u t a t i o n a l   l i n g u i s t i c s   c o n c e r n e d   w i t h   t h e   i n t e r a c t i o n s   b e t w e e n   c o m p u t e r s   a n d   h u m a n   ( n a t u r a l )   l a n g u a g e s ,   a n d ,   i n   p a r t i c u l a r ,   c o n c e r n e d   w i t h   p r o g r a m m i n g   c o m p u t e r s   t o   f r u i t f u l l y   p r o c e s s   l a r g e   n a t u r a l   l a n g u a g e   c o r p o r a .   C h a l l e n g e s   i n   n a t u r a l   l a n g u a g e   p r o c e s s i n g   f r e q u e n t l y   i n v o l v e   n a t u r a l   l a n g u a g e   u n d e r s t a n d i n g ,   n a t u r a l   l a n g u a g e   g e n e r a t i o n   f r e q u e n t l y   f r o m   f o r m a l ,   m a c h i n e - r e a d a b l e   l o g i c a l   f o r m s ) ,   c o n n e c t i n g   l a n g u a g e   a n d   m a c h i n e   p e r c e p t i o n ,   m a n a g i n g   h u m a n - c o m p u t e r   d i a l o g   s y s t e m s ,   o r   s o m e   c o m b i n a t i o n   t h e r e o f .   T h e r e   a r e   3 6 5   d a y s   u s u a l l y .   T h i s   y e a r   i s   2 0 2 0 . \n",
            "\n",
            " Tokenización por caracteres:\n",
            "['N', 'a', 't', 'u', 'r', 'a', 'l', ' ', 'l', 'a', 'n', 'g', 'u', 'a', 'g', 'e', ' ', 'p', 'r', 'o', 'c', 'e', 's', 's', 'i', 'n', 'g', ' ', '(', 'N', 'L', 'P', ')', ' ', 'i', 's', ' ', 'a', ' ', 'f', 'i', 'e', 'l', 'd', ' ', 'o', 'f', ' ', 'c', 'o', 'm', 'p', 'u', 't', 'e', 'r', ' ', 's', 'c', 'i', 'e', 'n', 'c', 'e', ',', ' ', 'a', 'r', 't', 'i', 'f', 'i', 'c', 'i', 'a', 'l', ' ', 'i', 'n', 't', 'e', 'l', 'l', 'i', 'g', 'e', 'n', 'c', 'e', ' ', 'a', 'n', 'd', ' ', 'c', 'o', 'm', 'p', 'u', 't', 'a', 't', 'i', 'o', 'n', 'a', 'l', ' ', 'l', 'i', 'n', 'g', 'u', 'i', 's', 't', 'i', 'c', 's', ' ', 'c', 'o', 'n', 'c', 'e', 'r', 'n', 'e', 'd', ' ', 'w', 'i', 't', 'h', ' ', 't', 'h', 'e', ' ', 'i', 'n', 't', 'e', 'r', 'a', 'c', 't', 'i', 'o', 'n', 's', ' ', 'b', 'e', 't', 'w', 'e', 'e', 'n', ' ', 'c', 'o', 'm', 'p', 'u', 't', 'e', 'r', 's', ' ', 'a', 'n', 'd', ' ', 'h', 'u', 'm', 'a', 'n', ' ', '(', 'n', 'a', 't', 'u', 'r', 'a', 'l', ')', ' ', 'l', 'a', 'n', 'g', 'u', 'a', 'g', 'e', 's', ',', ' ', 'a', 'n', 'd', ',', ' ', 'i', 'n', ' ', 'p', 'a', 'r', 't', 'i', 'c', 'u', 'l', 'a', 'r', ',', ' ', 'c', 'o', 'n', 'c', 'e', 'r', 'n', 'e', 'd', ' ', 'w', 'i', 't', 'h', ' ', 'p', 'r', 'o', 'g', 'r', 'a', 'm', 'm', 'i', 'n', 'g', ' ', 'c', 'o', 'm', 'p', 'u', 't', 'e', 'r', 's', ' ', 't', 'o', ' ', 'f', 'r', 'u', 'i', 't', 'f', 'u', 'l', 'l', 'y', ' ', 'p', 'r', 'o', 'c', 'e', 's', 's', ' ', 'l', 'a', 'r', 'g', 'e', ' ', 'n', 'a', 't', 'u', 'r', 'a', 'l', ' ', 'l', 'a', 'n', 'g', 'u', 'a', 'g', 'e', ' ', 'c', 'o', 'r', 'p', 'o', 'r', 'a', '.', ' ', 'C', 'h', 'a', 'l', 'l', 'e', 'n', 'g', 'e', 's', ' ', 'i', 'n', ' ', 'n', 'a', 't', 'u', 'r', 'a', 'l', ' ', 'l', 'a', 'n', 'g', 'u', 'a', 'g', 'e', ' ', 'p', 'r', 'o', 'c', 'e', 's', 's', 'i', 'n', 'g', ' ', 'f', 'r', 'e', 'q', 'u', 'e', 'n', 't', 'l', 'y', ' ', 'i', 'n', 'v', 'o', 'l', 'v', 'e', ' ', 'n', 'a', 't', 'u', 'r', 'a', 'l', ' ', 'l', 'a', 'n', 'g', 'u', 'a', 'g', 'e', ' ', 'u', 'n', 'd', 'e', 'r', 's', 't', 'a', 'n', 'd', 'i', 'n', 'g', ',', ' ', 'n', 'a', 't', 'u', 'r', 'a', 'l', ' ', 'l', 'a', 'n', 'g', 'u', 'a', 'g', 'e', ' ', 'g', 'e', 'n', 'e', 'r', 'a', 't', 'i', 'o', 'n', ' ', 'f', 'r', 'e', 'q', 'u', 'e', 'n', 't', 'l', 'y', ' ', 'f', 'r', 'o', 'm', ' ', 'f', 'o', 'r', 'm', 'a', 'l', ',', ' ', 'm', 'a', 'c', 'h', 'i', 'n', 'e', '-', 'r', 'e', 'a', 'd', 'a', 'b', 'l', 'e', ' ', 'l', 'o', 'g', 'i', 'c', 'a', 'l', ' ', 'f', 'o', 'r', 'm', 's', ')', ',', ' ', 'c', 'o', 'n', 'n', 'e', 'c', 't', 'i', 'n', 'g', ' ', 'l', 'a', 'n', 'g', 'u', 'a', 'g', 'e', ' ', 'a', 'n', 'd', ' ', 'm', 'a', 'c', 'h', 'i', 'n', 'e', ' ', 'p', 'e', 'r', 'c', 'e', 'p', 't', 'i', 'o', 'n', ',', ' ', 'm', 'a', 'n', 'a', 'g', 'i', 'n', 'g', ' ', 'h', 'u', 'm', 'a', 'n', '-', 'c', 'o', 'm', 'p', 'u', 't', 'e', 'r', ' ', 'd', 'i', 'a', 'l', 'o', 'g', ' ', 's', 'y', 's', 't', 'e', 'm', 's', ',', ' ', 'o', 'r', ' ', 's', 'o', 'm', 'e', ' ', 'c', 'o', 'm', 'b', 'i', 'n', 'a', 't', 'i', 'o', 'n', ' ', 't', 'h', 'e', 'r', 'e', 'o', 'f', '.', ' ', 'T', 'h', 'e', 'r', 'e', ' ', 'a', 'r', 'e', ' ', '3', '6', '5', ' ', 'd', 'a', 'y', 's', ' ', 'u', 's', 'u', 'a', 'l', 'l', 'y', '.', ' ', 'T', 'h', 'i', 's', ' ', 'y', 'e', 'a', 'r', ' ', 'i', 's', ' ', '2', '0', '2', '0', '.']\n"
          ]
        }
      ]
    },
    {
      "cell_type": "markdown",
      "source": [
        "### **Cambiar texto a minúsculas**"
      ],
      "metadata": {
        "id": "SSl9GqopshhG"
      }
    },
    {
      "cell_type": "code",
      "source": [
        "tokens[:] = [token.lower() for token in tokens]\n",
        "print(tokens)"
      ],
      "metadata": {
        "colab": {
          "base_uri": "https://localhost:8080/"
        },
        "id": "_AZMyIYmscfP",
        "outputId": "e3322181-51f7-42f3-abdc-6e60abd1d19b"
      },
      "execution_count": null,
      "outputs": [
        {
          "output_type": "stream",
          "name": "stdout",
          "text": [
            "['natural', 'language', 'processing', '(', 'nlp', ')', 'is', 'a', 'field', 'of', 'computer', 'science', ',', 'artificial', 'intelligence', 'and', 'computational', 'linguistics', 'concerned', 'with', 'the', 'interactions', 'between', 'computers', 'and', 'human', '(', 'natural', ')', 'languages', ',', 'and', ',', 'in', 'particular', ',', 'concerned', 'with', 'programming', 'computers', 'to', 'fruitfully', 'process', 'large', 'natural', 'language', 'corpora', '.', 'challenges', 'in', 'natural', 'language', 'processing', 'frequently', 'involve', 'natural', 'language', 'understanding', ',', 'natural', 'language', 'generation', 'frequently', 'from', 'formal', ',', 'machine-readable', 'logical', 'forms', ')', ',', 'connecting', 'language', 'and', 'machine', 'perception', ',', 'managing', 'human-computer', 'dialog', 'systems', ',', 'or', 'some', 'combination', 'thereof', '.', 'there', 'are', '365', 'days', 'usually', '.', 'this', 'year', 'is', '2020', '.']\n"
          ]
        }
      ]
    },
    {
      "cell_type": "markdown",
      "source": [
        "### Remover carateres especiales - expresiones regulares"
      ],
      "metadata": {
        "id": "lIAIAicXs19k"
      }
    },
    {
      "cell_type": "code",
      "source": [
        "import re\n",
        "# digitos\n",
        "tokens = [re.sub(r'\\d+', '',token) for token in tokens]\n",
        "# paréntesis\n",
        "tokens = [re.sub(r'[()]', '',token) for token in tokens]\n",
        "print(tokens)"
      ],
      "metadata": {
        "colab": {
          "base_uri": "https://localhost:8080/"
        },
        "id": "X9XmATBOst2I",
        "outputId": "98b92d94-c57b-4ae9-98a6-146c418f62f6"
      },
      "execution_count": null,
      "outputs": [
        {
          "output_type": "stream",
          "name": "stdout",
          "text": [
            "['natural', 'language', 'processing', '', 'nlp', '', 'is', 'a', 'field', 'of', 'computer', 'science', ',', 'artificial', 'intelligence', 'and', 'computational', 'linguistics', 'concerned', 'with', 'the', 'interactions', 'between', 'computers', 'and', 'human', '', 'natural', '', 'languages', ',', 'and', ',', 'in', 'particular', ',', 'concerned', 'with', 'programming', 'computers', 'to', 'fruitfully', 'process', 'large', 'natural', 'language', 'corpora', '.', 'challenges', 'in', 'natural', 'language', 'processing', 'frequently', 'involve', 'natural', 'language', 'understanding', ',', 'natural', 'language', 'generation', 'frequently', 'from', 'formal', ',', 'machine-readable', 'logical', 'forms', '', ',', 'connecting', 'language', 'and', 'machine', 'perception', ',', 'managing', 'human-computer', 'dialog', 'systems', ',', 'or', 'some', 'combination', 'thereof', '.', 'there', 'are', '', 'days', 'usually', '.', 'this', 'year', 'is', '', '.']\n"
          ]
        }
      ]
    },
    {
      "cell_type": "markdown",
      "source": [
        "### Remueve palabras de longitud menor o igual a tres"
      ],
      "metadata": {
        "id": "yTL4vccntQqq"
      }
    },
    {
      "cell_type": "code",
      "source": [
        "tokens_4 = []\n",
        "for token in tokens:\n",
        "    if len(token) > 3:\n",
        "        tokens_4.append(token)\n",
        "tokens = tokens_4\n",
        "\n",
        "print(tokens)"
      ],
      "metadata": {
        "colab": {
          "base_uri": "https://localhost:8080/"
        },
        "id": "SczOF9wItP0g",
        "outputId": "32b33a10-00ec-4e7c-9207-2401c3ab6e24"
      },
      "execution_count": null,
      "outputs": [
        {
          "output_type": "stream",
          "name": "stdout",
          "text": [
            "['natural', 'language', 'processing', 'field', 'computer', 'science', 'artificial', 'intelligence', 'computational', 'linguistics', 'concerned', 'with', 'interactions', 'between', 'computers', 'human', 'natural', 'languages', 'particular', 'concerned', 'with', 'programming', 'computers', 'fruitfully', 'process', 'large', 'natural', 'language', 'corpora', 'challenges', 'natural', 'language', 'processing', 'frequently', 'involve', 'natural', 'language', 'understanding', 'natural', 'language', 'generation', 'frequently', 'from', 'formal', 'machine-readable', 'logical', 'forms', 'connecting', 'language', 'machine', 'perception', 'managing', 'human-computer', 'dialog', 'systems', 'some', 'combination', 'thereof', 'there', 'days', 'usually', 'this', 'year']\n"
          ]
        }
      ]
    },
    {
      "cell_type": "markdown",
      "source": [
        "### Palabras vacias (stop words)"
      ],
      "metadata": {
        "id": "0z8cgmcTta7d"
      }
    },
    {
      "cell_type": "code",
      "source": [
        "from nltk.corpus import stopwords\n",
        "#\n",
        "stopWords = set(stopwords.words('english'))\n",
        "#\n",
        "print(stopWords)"
      ],
      "metadata": {
        "colab": {
          "base_uri": "https://localhost:8080/"
        },
        "id": "7D-_lPwTtaFY",
        "outputId": "64966d42-af0e-4d3a-89e9-43855ff6b101"
      },
      "execution_count": null,
      "outputs": [
        {
          "output_type": "stream",
          "name": "stdout",
          "text": [
            "{'were', 'here', 'didn', \"hasn't\", 'after', 'don', 'off', 'such', 'those', 'both', 'before', \"haven't\", 'theirs', 'his', 'y', 'further', 'yours', 'my', 'what', 'while', \"should've\", 'have', 'these', 'wasn', 'yourselves', 'until', 'not', 'too', 'herself', 's', 'above', 'll', 'where', 'couldn', 'who', 'under', 'why', 'our', 'how', 'against', \"you'd\", 'below', 're', 'that', 'ourselves', 'once', \"she's\", 'down', 'a', \"you'll\", 'been', 'was', 'they', 'and', 'yourself', 'but', 'by', 'has', 'your', 'do', 'aren', \"aren't\", 'her', 'an', 'to', 'more', \"don't\", 'hasn', 'or', 'in', \"you've\", 'the', 'very', \"you're\", 'can', 'myself', 'all', 'are', 'from', 'its', 'having', \"hadn't\", \"isn't\", 'into', 'am', \"couldn't\", 'whom', 'up', 'again', 'as', \"mustn't\", 'doing', 'out', 'being', \"didn't\", 'doesn', 'shouldn', 'himself', 'some', 'did', 'any', 'other', 'haven', \"mightn't\", 'mustn', 'of', 'than', 'over', 'm', 'had', 'will', 'o', 'won', 'about', 'ma', 'he', 'them', \"weren't\", 'so', 'hadn', 'she', 'only', 'hers', \"shouldn't\", 'each', 'mightn', 'ours', 've', 'itself', 'just', 'be', 'wouldn', \"that'll\", 'isn', 'does', 'should', 'weren', 'is', 'few', 'shan', 'own', \"shan't\", 'on', \"wouldn't\", 'i', 'same', 'we', 'then', 'most', 'between', 'me', 'which', 'there', 'now', 'this', 'you', 'him', 'when', 'it', 'if', 'their', 'because', 'd', \"doesn't\", 't', \"wasn't\", 'needn', \"needn't\", 'nor', 'no', \"won't\", 'ain', 'themselves', \"it's\", 'for', 'at', 'during', 'through', 'with'}\n"
          ]
        }
      ]
    },
    {
      "cell_type": "markdown",
      "source": [
        "### Palabras vacías-Español nltk"
      ],
      "metadata": {
        "id": "HhG-3IS4uKPh"
      }
    },
    {
      "cell_type": "code",
      "source": [
        "palabrasVacias = set(stopwords.words('spanish'))\n",
        "#\n",
        "print(palabrasVacias)"
      ],
      "metadata": {
        "colab": {
          "base_uri": "https://localhost:8080/"
        },
        "id": "sZDQhm32uMJ6",
        "outputId": "ad9e99fc-435b-4f2c-f06c-70d26ebcc642"
      },
      "execution_count": null,
      "outputs": [
        {
          "output_type": "stream",
          "name": "stdout",
          "text": [
            "{'estaréis', 'hayamos', 'tengamos', 'nos', 'el', 'estarían', 'sí', 'pero', 'ni', 'esté', 'cuando', 'nosotros', 'hube', 'uno', 'habían', 'estuviese', 'donde', 'tenido', 'un', 'sin', 'tenías', 'a', 'tendrían', 'tuvieron', 'mía', 'tendríais', 'tuvieras', 'les', 'míos', 'quien', 'ti', 'otros', 'tenidas', 'habrá', 'fueran', 'tuve', 'tendrías', 'mías', 'tuviera', 'fui', 'estada', 'tuvierais', 'de', 'serán', 'estaríamos', 'durante', 'fuerais', 'tuvimos', 'hubiese', 'hayas', 'estuve', 'yo', 'habrán', 'estaba', 'vuestro', 'las', 'estaría', 'cual', 'sentida', 'antes', 'os', 'otro', 'también', 'habida', 'será', 'e', 'habré', 'tuviesen', 'los', 'tuvieses', 'y', 'estaban', 'tenéis', 'eras', 'él', 'fuiste', 'mí', 'para', 'ante', 'estábamos', 'estuvierais', 'estuvieseis', 'hayan', 'tengo', 'una', 'hubiéramos', 'es', 'mi', 'tengan', 'fue', 'habríais', 'tuviste', 'suyo', 'hubo', 'teníamos', 'estad', 'sentido', 'estuvieron', 'tendrás', 'mío', 'tuvieseis', 'haya', 'tengáis', 'hasta', 'tuyas', 'fueras', 'tuviese', 'seré', 'estés', 'habrían', 'algunas', 'fuéramos', 'vosotros', 'muy', 'tuyos', 'ya', 'o', 'todos', 'he', 'había', 'serás', 'hubieseis', 'hayáis', 'ellos', 'serías', 'tienen', 'mucho', 'tú', 'son', 'éramos', 'lo', 'esto', 'habidos', 'están', 'fuera', 'sentidos', 'tendríamos', 'estas', 'se', 'tendría', 'fuimos', 'unos', 'tuviésemos', 'esos', 'tenga', 'tuvieran', 'tuya', 'estará', 'estuvieses', 'eso', 'estuvo', 'tienes', 'esta', 'estaremos', 'ese', 'estamos', 'habíamos', 'hubieses', 'sobre', 'tenida', 'estuvieras', 'habíais', 'desde', 'habido', 'nosotras', 'hubiste', 'estos', 'has', 'entre', 'seríamos', 'más', 'hubieron', 'te', 'hubierais', 'estabais', 'hubimos', 'estéis', 'estuviésemos', 'su', 'sentid', 'erais', 'habrás', 'tuvisteis', 'tened', 'estarías', 'hemos', 'somos', 'estado', 'poco', 'sois', 'sus', 'habrías', 'estando', 'suyos', 'fueses', 'con', 'tendrá', 'como', 'eran', 'habidas', 'algunos', 'nuestra', 'sentidas', 'mis', 'fuésemos', 'estar', 'estaríais', 'habéis', 'hubieran', 'hubiera', 'me', 'vosotras', 'nuestros', 'tiene', 'que', 'estén', 'habremos', 'fuisteis', 'estuvieran', 'ha', 'algo', 'estuviera', 'ellas', 'la', 'otra', 'estás', 'sean', 'suya', 'tenemos', 'nuestro', 'quienes', 'por', 'seréis', 'nada', 'seamos', 'esa', 'del', 'tuvo', 'eres', 'sea', 'ella', 'siente', 'hubisteis', 'habría', 'fuese', 'suyas', 'vuestros', 'en', 'tendremos', 'vuestra', 'le', 'este', 'tanto', 'habiendo', 'tendréis', 'otras', 'hubiésemos', 'hubiesen', 'estados', 'estarán', 'estáis', 'estadas', 'está', 'tenía', 'fueseis', 'estuviste', 'seas', 'seríais', 'contra', 'tuviéramos', 'estarás', 'hubieras', 'teníais', 'al', 'sintiendo', 'nuestras', 'porque', 'estuvisteis', 'tu', 'estemos', 'estabas', 'vuestras', 'estoy', 'seáis', 'estuvimos', 'estuviéramos', 'teniendo', 'tengas', 'estuviesen', 'fuesen', 'tuyo', 'habías', 'qué', 'muchos', 'seremos', 'serían', 'tenidos', 'tus', 'tenían', 'estaré', 'tendrán', 'era', 'esas', 'hay', 'tendré', 'soy', 'todo', 'habríamos', 'habréis', 'no', 'han', 'sería', 'fueron'}\n"
          ]
        }
      ]
    },
    {
      "cell_type": "markdown",
      "source": [
        "### Vamos a quitar las palabras vacías del ejemplo usando nltk"
      ],
      "metadata": {
        "id": "YycQ0ti3x-OY"
      }
    },
    {
      "cell_type": "code",
      "source": [
        "tokens_n_e = []\n",
        "\n",
        "for token in tokens:\n",
        "    if token not in stopWords:\n",
        "        tokens_n_e.append(token)\n",
        "#\n",
        "tokens = tokens_n_e\n",
        "print(tokens)"
      ],
      "metadata": {
        "colab": {
          "base_uri": "https://localhost:8080/"
        },
        "id": "oEV9_CB_yBTG",
        "outputId": "4046ad14-2abb-4834-f065-4f62210f9f50"
      },
      "execution_count": null,
      "outputs": [
        {
          "output_type": "stream",
          "name": "stdout",
          "text": [
            "['natural', 'language', 'processing', 'field', 'computer', 'science', 'artificial', 'intelligence', 'computational', 'linguistics', 'concerned', 'interactions', 'computers', 'human', 'natural', 'languages', 'particular', 'concerned', 'programming', 'computers', 'fruitfully', 'process', 'large', 'natural', 'language', 'corpora', 'challenges', 'natural', 'language', 'processing', 'frequently', 'involve', 'natural', 'language', 'understanding', 'natural', 'language', 'generation', 'frequently', 'formal', 'machine-readable', 'logical', 'forms', 'connecting', 'language', 'machine', 'perception', 'managing', 'human-computer', 'dialog', 'systems', 'combination', 'thereof', 'days', 'usually', 'year']\n"
          ]
        }
      ]
    },
    {
      "cell_type": "code",
      "source": [
        "url = 'https://raw.githubusercontent.com/CDspana/Especializacion/main/DB_temp/war-news.csv'"
      ],
      "metadata": {
        "id": "ey2QGOtaUDsQ"
      },
      "execution_count": null,
      "outputs": []
    },
    {
      "cell_type": "code",
      "source": [
        "df = pd.read_csv(url, encoding='latin-1')\n",
        "df.head()"
      ],
      "metadata": {
        "colab": {
          "base_uri": "https://localhost:8080/",
          "height": 206
        },
        "id": "O1lnkneNUGRt",
        "outputId": "a442fc45-9ea5-4ac3-bc3d-7c03eaf483cf"
      },
      "execution_count": null,
      "outputs": [
        {
          "output_type": "execute_result",
          "data": {
            "text/plain": [
              "  Unnamed: 0                                          Headlines  \\\n",
              "0          0  I served in Iraq and Afghanistan but the horro...   \n",
              "1          1  The forever war in Afghanistan is nowhere near...   \n",
              "2          2  Hell at Abbey Gate: Chaos, Confusion and Death...   \n",
              "3          3  A second Afghanistan: Doubts over Russias w...   \n",
              "4          4  Afghanistan: Former army general vows new war ...   \n",
              "\n",
              "                                             Summary       Press         Date  \\\n",
              "0  A WAR hero traumatised by the horrors of comba...     The Sun    1 day ago   \n",
              "1  Islamic State is seeking to overthrow the Tali...    ThePrint  2 weeks ago   \n",
              "2  In firsthand accounts, Afghan civilians and U....  ProPublica  1 month ago   \n",
              "3  Russia's lack of progress in its war against U...  Al Jazeera   5 days ago   \n",
              "4  Lt Gen Sami Sadat tells the BBC of planned ope...         BBC   1 week ago   \n",
              "\n",
              "       Keyword  \n",
              "0  Afghanistan  \n",
              "1  Afghanistan  \n",
              "2  Afghanistan  \n",
              "3  Afghanistan  \n",
              "4  Afghanistan  "
            ],
            "text/html": [
              "\n",
              "  <div id=\"df-57570b85-c5af-4004-a77a-10c1469741e7\" class=\"colab-df-container\">\n",
              "    <div>\n",
              "<style scoped>\n",
              "    .dataframe tbody tr th:only-of-type {\n",
              "        vertical-align: middle;\n",
              "    }\n",
              "\n",
              "    .dataframe tbody tr th {\n",
              "        vertical-align: top;\n",
              "    }\n",
              "\n",
              "    .dataframe thead th {\n",
              "        text-align: right;\n",
              "    }\n",
              "</style>\n",
              "<table border=\"1\" class=\"dataframe\">\n",
              "  <thead>\n",
              "    <tr style=\"text-align: right;\">\n",
              "      <th></th>\n",
              "      <th>Unnamed: 0</th>\n",
              "      <th>Headlines</th>\n",
              "      <th>Summary</th>\n",
              "      <th>Press</th>\n",
              "      <th>Date</th>\n",
              "      <th>Keyword</th>\n",
              "    </tr>\n",
              "  </thead>\n",
              "  <tbody>\n",
              "    <tr>\n",
              "      <th>0</th>\n",
              "      <td>0</td>\n",
              "      <td>I served in Iraq and Afghanistan but the horro...</td>\n",
              "      <td>A WAR hero traumatised by the horrors of comba...</td>\n",
              "      <td>The Sun</td>\n",
              "      <td>1 day ago</td>\n",
              "      <td>Afghanistan</td>\n",
              "    </tr>\n",
              "    <tr>\n",
              "      <th>1</th>\n",
              "      <td>1</td>\n",
              "      <td>The forever war in Afghanistan is nowhere near...</td>\n",
              "      <td>Islamic State is seeking to overthrow the Tali...</td>\n",
              "      <td>ThePrint</td>\n",
              "      <td>2 weeks ago</td>\n",
              "      <td>Afghanistan</td>\n",
              "    </tr>\n",
              "    <tr>\n",
              "      <th>2</th>\n",
              "      <td>2</td>\n",
              "      <td>Hell at Abbey Gate: Chaos, Confusion and Death...</td>\n",
              "      <td>In firsthand accounts, Afghan civilians and U....</td>\n",
              "      <td>ProPublica</td>\n",
              "      <td>1 month ago</td>\n",
              "      <td>Afghanistan</td>\n",
              "    </tr>\n",
              "    <tr>\n",
              "      <th>3</th>\n",
              "      <td>3</td>\n",
              "      <td>A second Afghanistan: Doubts over Russias w...</td>\n",
              "      <td>Russia's lack of progress in its war against U...</td>\n",
              "      <td>Al Jazeera</td>\n",
              "      <td>5 days ago</td>\n",
              "      <td>Afghanistan</td>\n",
              "    </tr>\n",
              "    <tr>\n",
              "      <th>4</th>\n",
              "      <td>4</td>\n",
              "      <td>Afghanistan: Former army general vows new war ...</td>\n",
              "      <td>Lt Gen Sami Sadat tells the BBC of planned ope...</td>\n",
              "      <td>BBC</td>\n",
              "      <td>1 week ago</td>\n",
              "      <td>Afghanistan</td>\n",
              "    </tr>\n",
              "  </tbody>\n",
              "</table>\n",
              "</div>\n",
              "    <div class=\"colab-df-buttons\">\n",
              "\n",
              "  <div class=\"colab-df-container\">\n",
              "    <button class=\"colab-df-convert\" onclick=\"convertToInteractive('df-57570b85-c5af-4004-a77a-10c1469741e7')\"\n",
              "            title=\"Convert this dataframe to an interactive table.\"\n",
              "            style=\"display:none;\">\n",
              "\n",
              "  <svg xmlns=\"http://www.w3.org/2000/svg\" height=\"24px\" viewBox=\"0 -960 960 960\">\n",
              "    <path d=\"M120-120v-720h720v720H120Zm60-500h600v-160H180v160Zm220 220h160v-160H400v160Zm0 220h160v-160H400v160ZM180-400h160v-160H180v160Zm440 0h160v-160H620v160ZM180-180h160v-160H180v160Zm440 0h160v-160H620v160Z\"/>\n",
              "  </svg>\n",
              "    </button>\n",
              "\n",
              "  <style>\n",
              "    .colab-df-container {\n",
              "      display:flex;\n",
              "      gap: 12px;\n",
              "    }\n",
              "\n",
              "    .colab-df-convert {\n",
              "      background-color: #E8F0FE;\n",
              "      border: none;\n",
              "      border-radius: 50%;\n",
              "      cursor: pointer;\n",
              "      display: none;\n",
              "      fill: #1967D2;\n",
              "      height: 32px;\n",
              "      padding: 0 0 0 0;\n",
              "      width: 32px;\n",
              "    }\n",
              "\n",
              "    .colab-df-convert:hover {\n",
              "      background-color: #E2EBFA;\n",
              "      box-shadow: 0px 1px 2px rgba(60, 64, 67, 0.3), 0px 1px 3px 1px rgba(60, 64, 67, 0.15);\n",
              "      fill: #174EA6;\n",
              "    }\n",
              "\n",
              "    .colab-df-buttons div {\n",
              "      margin-bottom: 4px;\n",
              "    }\n",
              "\n",
              "    [theme=dark] .colab-df-convert {\n",
              "      background-color: #3B4455;\n",
              "      fill: #D2E3FC;\n",
              "    }\n",
              "\n",
              "    [theme=dark] .colab-df-convert:hover {\n",
              "      background-color: #434B5C;\n",
              "      box-shadow: 0px 1px 3px 1px rgba(0, 0, 0, 0.15);\n",
              "      filter: drop-shadow(0px 1px 2px rgba(0, 0, 0, 0.3));\n",
              "      fill: #FFFFFF;\n",
              "    }\n",
              "  </style>\n",
              "\n",
              "    <script>\n",
              "      const buttonEl =\n",
              "        document.querySelector('#df-57570b85-c5af-4004-a77a-10c1469741e7 button.colab-df-convert');\n",
              "      buttonEl.style.display =\n",
              "        google.colab.kernel.accessAllowed ? 'block' : 'none';\n",
              "\n",
              "      async function convertToInteractive(key) {\n",
              "        const element = document.querySelector('#df-57570b85-c5af-4004-a77a-10c1469741e7');\n",
              "        const dataTable =\n",
              "          await google.colab.kernel.invokeFunction('convertToInteractive',\n",
              "                                                    [key], {});\n",
              "        if (!dataTable) return;\n",
              "\n",
              "        const docLinkHtml = 'Like what you see? Visit the ' +\n",
              "          '<a target=\"_blank\" href=https://colab.research.google.com/notebooks/data_table.ipynb>data table notebook</a>'\n",
              "          + ' to learn more about interactive tables.';\n",
              "        element.innerHTML = '';\n",
              "        dataTable['output_type'] = 'display_data';\n",
              "        await google.colab.output.renderOutput(dataTable, element);\n",
              "        const docLink = document.createElement('div');\n",
              "        docLink.innerHTML = docLinkHtml;\n",
              "        element.appendChild(docLink);\n",
              "      }\n",
              "    </script>\n",
              "  </div>\n",
              "\n",
              "\n",
              "<div id=\"df-a2c79595-6a49-4d04-8a22-5d4c443b7fa0\">\n",
              "  <button class=\"colab-df-quickchart\" onclick=\"quickchart('df-a2c79595-6a49-4d04-8a22-5d4c443b7fa0')\"\n",
              "            title=\"Suggest charts.\"\n",
              "            style=\"display:none;\">\n",
              "\n",
              "<svg xmlns=\"http://www.w3.org/2000/svg\" height=\"24px\"viewBox=\"0 0 24 24\"\n",
              "     width=\"24px\">\n",
              "    <g>\n",
              "        <path d=\"M19 3H5c-1.1 0-2 .9-2 2v14c0 1.1.9 2 2 2h14c1.1 0 2-.9 2-2V5c0-1.1-.9-2-2-2zM9 17H7v-7h2v7zm4 0h-2V7h2v10zm4 0h-2v-4h2v4z\"/>\n",
              "    </g>\n",
              "</svg>\n",
              "  </button>\n",
              "\n",
              "<style>\n",
              "  .colab-df-quickchart {\n",
              "      --bg-color: #E8F0FE;\n",
              "      --fill-color: #1967D2;\n",
              "      --hover-bg-color: #E2EBFA;\n",
              "      --hover-fill-color: #174EA6;\n",
              "      --disabled-fill-color: #AAA;\n",
              "      --disabled-bg-color: #DDD;\n",
              "  }\n",
              "\n",
              "  [theme=dark] .colab-df-quickchart {\n",
              "      --bg-color: #3B4455;\n",
              "      --fill-color: #D2E3FC;\n",
              "      --hover-bg-color: #434B5C;\n",
              "      --hover-fill-color: #FFFFFF;\n",
              "      --disabled-bg-color: #3B4455;\n",
              "      --disabled-fill-color: #666;\n",
              "  }\n",
              "\n",
              "  .colab-df-quickchart {\n",
              "    background-color: var(--bg-color);\n",
              "    border: none;\n",
              "    border-radius: 50%;\n",
              "    cursor: pointer;\n",
              "    display: none;\n",
              "    fill: var(--fill-color);\n",
              "    height: 32px;\n",
              "    padding: 0;\n",
              "    width: 32px;\n",
              "  }\n",
              "\n",
              "  .colab-df-quickchart:hover {\n",
              "    background-color: var(--hover-bg-color);\n",
              "    box-shadow: 0 1px 2px rgba(60, 64, 67, 0.3), 0 1px 3px 1px rgba(60, 64, 67, 0.15);\n",
              "    fill: var(--button-hover-fill-color);\n",
              "  }\n",
              "\n",
              "  .colab-df-quickchart-complete:disabled,\n",
              "  .colab-df-quickchart-complete:disabled:hover {\n",
              "    background-color: var(--disabled-bg-color);\n",
              "    fill: var(--disabled-fill-color);\n",
              "    box-shadow: none;\n",
              "  }\n",
              "\n",
              "  .colab-df-spinner {\n",
              "    border: 2px solid var(--fill-color);\n",
              "    border-color: transparent;\n",
              "    border-bottom-color: var(--fill-color);\n",
              "    animation:\n",
              "      spin 1s steps(1) infinite;\n",
              "  }\n",
              "\n",
              "  @keyframes spin {\n",
              "    0% {\n",
              "      border-color: transparent;\n",
              "      border-bottom-color: var(--fill-color);\n",
              "      border-left-color: var(--fill-color);\n",
              "    }\n",
              "    20% {\n",
              "      border-color: transparent;\n",
              "      border-left-color: var(--fill-color);\n",
              "      border-top-color: var(--fill-color);\n",
              "    }\n",
              "    30% {\n",
              "      border-color: transparent;\n",
              "      border-left-color: var(--fill-color);\n",
              "      border-top-color: var(--fill-color);\n",
              "      border-right-color: var(--fill-color);\n",
              "    }\n",
              "    40% {\n",
              "      border-color: transparent;\n",
              "      border-right-color: var(--fill-color);\n",
              "      border-top-color: var(--fill-color);\n",
              "    }\n",
              "    60% {\n",
              "      border-color: transparent;\n",
              "      border-right-color: var(--fill-color);\n",
              "    }\n",
              "    80% {\n",
              "      border-color: transparent;\n",
              "      border-right-color: var(--fill-color);\n",
              "      border-bottom-color: var(--fill-color);\n",
              "    }\n",
              "    90% {\n",
              "      border-color: transparent;\n",
              "      border-bottom-color: var(--fill-color);\n",
              "    }\n",
              "  }\n",
              "</style>\n",
              "\n",
              "  <script>\n",
              "    async function quickchart(key) {\n",
              "      const quickchartButtonEl =\n",
              "        document.querySelector('#' + key + ' button');\n",
              "      quickchartButtonEl.disabled = true;  // To prevent multiple clicks.\n",
              "      quickchartButtonEl.classList.add('colab-df-spinner');\n",
              "      try {\n",
              "        const charts = await google.colab.kernel.invokeFunction(\n",
              "            'suggestCharts', [key], {});\n",
              "      } catch (error) {\n",
              "        console.error('Error during call to suggestCharts:', error);\n",
              "      }\n",
              "      quickchartButtonEl.classList.remove('colab-df-spinner');\n",
              "      quickchartButtonEl.classList.add('colab-df-quickchart-complete');\n",
              "    }\n",
              "    (() => {\n",
              "      let quickchartButtonEl =\n",
              "        document.querySelector('#df-a2c79595-6a49-4d04-8a22-5d4c443b7fa0 button');\n",
              "      quickchartButtonEl.style.display =\n",
              "        google.colab.kernel.accessAllowed ? 'block' : 'none';\n",
              "    })();\n",
              "  </script>\n",
              "</div>\n",
              "    </div>\n",
              "  </div>\n"
            ]
          },
          "metadata": {},
          "execution_count": 8
        }
      ]
    },
    {
      "cell_type": "markdown",
      "source": [
        "#**Funcion de preprocesamiento**"
      ],
      "metadata": {
        "id": "CRt_5KznXtXo"
      }
    },
    {
      "cell_type": "code",
      "source": [
        "from nltk.stem import WordNetLemmatizer\n",
        "from unidecode import unidecode\n",
        "\n",
        "\n",
        "# Configuración de stopwords en inglés\n",
        "stopWordsInglés = set(stopwords.words('english'))\n",
        "\n",
        "# Crear un objeto lematizador de WordNet\n",
        "lemmatizer = WordNetLemmatizer()\n",
        "\n",
        "# Limpia los valores nulos en la columna 'Summary' y reemplázalos con cadenas vacías\n",
        "df['Summary'] = df['Summary'].fillna('')\n",
        "\n",
        "# Asegúrate de que la columna 'Summary' sea de tipo cadena (string)\n",
        "df['Summary'] = df['Summary'].astype(str)\n",
        "\n",
        "def tokenize_and_lemmatize(summary):\n",
        "\n",
        "    # Se utiliza unicode para eliminar caracteres especiales y acentos\n",
        "    norm_text = unidecode(summary)\n",
        "\n",
        "    # Tokenización por palabras\n",
        "    tokens = word_tokenize(norm_text)\n",
        "\n",
        "    # Eliminar palabras con menos de 4 caracteres y palabras vacías en inglés\n",
        "    tokens = [token for token in tokens if len(token) > 3 and token not in stopWordsInglés]\n",
        "\n",
        "    # Vuelve las palabras en minuscula\n",
        "\n",
        "    minuscula = [token.lower() for token in tokens]\n",
        "\n",
        "\n",
        "\n",
        "    # Lematización de los tokens que son verbos (pos='v')\n",
        "    preprocesamiento = [lemmatizer.lemmatize(token, pos='v') for token in minuscula]\n",
        "\n",
        "    # Unir los tokens lematizados en una sola cadena\n",
        "    processed_summary = ' '.join([token for token in preprocesamiento])\n",
        "\n",
        "    return processed_summary\n",
        "\n",
        "# Aplicar la función 'tokenize_and_lemmatize' a la columna 'Summary' de todo el DataFrame\n",
        "df['preprocesamiento'] = df['Summary'].apply(tokenize_and_lemmatize)\n",
        "\n",
        "# Imprimir el DataFrame resultante con los tokens lematizados\n",
        "display(df[['Summary', 'preprocesamiento']])"
      ],
      "metadata": {
        "colab": {
          "base_uri": "https://localhost:8080/",
          "height": 424
        },
        "id": "AP5ZOsaIuzkV",
        "outputId": "80c9d62a-0c48-4bb8-e3cf-734397c8ae31"
      },
      "execution_count": null,
      "outputs": [
        {
          "output_type": "display_data",
          "data": {
            "text/plain": [
              "                                                Summary  \\\n",
              "0     A WAR hero traumatised by the horrors of comba...   \n",
              "1     Islamic State is seeking to overthrow the Tali...   \n",
              "2     In firsthand accounts, Afghan civilians and U....   \n",
              "3     Russia's lack of progress in its war against U...   \n",
              "4     Lt Gen Sami Sadat tells the BBC of planned ope...   \n",
              "...                                                 ...   \n",
              "5649  We first cut rations in half. Now, we'll take ...   \n",
              "5650  The conflict began in 2014 after Houthi rebels...   \n",
              "5651  Yemen's oil and gas industry could be at a cro...   \n",
              "5652  Since we last covered the war in Yemen on this...   \n",
              "5653                                                      \n",
              "\n",
              "                                       preprocesamiento  \n",
              "0     hero traumatise horrors combat work ps120-an-h...  \n",
              "1     islamic state seek overthrow talibanquietly he...  \n",
              "2     firsthand account afghan civilians u.s. marine...  \n",
              "3     russia lack progress ukraine note analysts sin...  \n",
              "4     sami sadat tell plan operations many afghans w...  \n",
              "...                                                 ...  \n",
              "5649  first ration half take food hungry save starve...  \n",
              "5650  conflict begin 2014 houthi rebel seize capital...  \n",
              "5651  yemen industry could crossroads years brutal c...  \n",
              "5652  since last cover yemen podcast year biden prom...  \n",
              "5653                                                     \n",
              "\n",
              "[5654 rows x 2 columns]"
            ],
            "text/html": [
              "\n",
              "  <div id=\"df-b0b43234-2702-4dd2-945c-2f9ef83e154c\" class=\"colab-df-container\">\n",
              "    <div>\n",
              "<style scoped>\n",
              "    .dataframe tbody tr th:only-of-type {\n",
              "        vertical-align: middle;\n",
              "    }\n",
              "\n",
              "    .dataframe tbody tr th {\n",
              "        vertical-align: top;\n",
              "    }\n",
              "\n",
              "    .dataframe thead th {\n",
              "        text-align: right;\n",
              "    }\n",
              "</style>\n",
              "<table border=\"1\" class=\"dataframe\">\n",
              "  <thead>\n",
              "    <tr style=\"text-align: right;\">\n",
              "      <th></th>\n",
              "      <th>Summary</th>\n",
              "      <th>preprocesamiento</th>\n",
              "    </tr>\n",
              "  </thead>\n",
              "  <tbody>\n",
              "    <tr>\n",
              "      <th>0</th>\n",
              "      <td>A WAR hero traumatised by the horrors of comba...</td>\n",
              "      <td>hero traumatise horrors combat work ps120-an-h...</td>\n",
              "    </tr>\n",
              "    <tr>\n",
              "      <th>1</th>\n",
              "      <td>Islamic State is seeking to overthrow the Tali...</td>\n",
              "      <td>islamic state seek overthrow talibanquietly he...</td>\n",
              "    </tr>\n",
              "    <tr>\n",
              "      <th>2</th>\n",
              "      <td>In firsthand accounts, Afghan civilians and U....</td>\n",
              "      <td>firsthand account afghan civilians u.s. marine...</td>\n",
              "    </tr>\n",
              "    <tr>\n",
              "      <th>3</th>\n",
              "      <td>Russia's lack of progress in its war against U...</td>\n",
              "      <td>russia lack progress ukraine note analysts sin...</td>\n",
              "    </tr>\n",
              "    <tr>\n",
              "      <th>4</th>\n",
              "      <td>Lt Gen Sami Sadat tells the BBC of planned ope...</td>\n",
              "      <td>sami sadat tell plan operations many afghans w...</td>\n",
              "    </tr>\n",
              "    <tr>\n",
              "      <th>...</th>\n",
              "      <td>...</td>\n",
              "      <td>...</td>\n",
              "    </tr>\n",
              "    <tr>\n",
              "      <th>5649</th>\n",
              "      <td>We first cut rations in half. Now, we'll take ...</td>\n",
              "      <td>first ration half take food hungry save starve...</td>\n",
              "    </tr>\n",
              "    <tr>\n",
              "      <th>5650</th>\n",
              "      <td>The conflict began in 2014 after Houthi rebels...</td>\n",
              "      <td>conflict begin 2014 houthi rebel seize capital...</td>\n",
              "    </tr>\n",
              "    <tr>\n",
              "      <th>5651</th>\n",
              "      <td>Yemen's oil and gas industry could be at a cro...</td>\n",
              "      <td>yemen industry could crossroads years brutal c...</td>\n",
              "    </tr>\n",
              "    <tr>\n",
              "      <th>5652</th>\n",
              "      <td>Since we last covered the war in Yemen on this...</td>\n",
              "      <td>since last cover yemen podcast year biden prom...</td>\n",
              "    </tr>\n",
              "    <tr>\n",
              "      <th>5653</th>\n",
              "      <td></td>\n",
              "      <td></td>\n",
              "    </tr>\n",
              "  </tbody>\n",
              "</table>\n",
              "<p>5654 rows × 2 columns</p>\n",
              "</div>\n",
              "    <div class=\"colab-df-buttons\">\n",
              "\n",
              "  <div class=\"colab-df-container\">\n",
              "    <button class=\"colab-df-convert\" onclick=\"convertToInteractive('df-b0b43234-2702-4dd2-945c-2f9ef83e154c')\"\n",
              "            title=\"Convert this dataframe to an interactive table.\"\n",
              "            style=\"display:none;\">\n",
              "\n",
              "  <svg xmlns=\"http://www.w3.org/2000/svg\" height=\"24px\" viewBox=\"0 -960 960 960\">\n",
              "    <path d=\"M120-120v-720h720v720H120Zm60-500h600v-160H180v160Zm220 220h160v-160H400v160Zm0 220h160v-160H400v160ZM180-400h160v-160H180v160Zm440 0h160v-160H620v160ZM180-180h160v-160H180v160Zm440 0h160v-160H620v160Z\"/>\n",
              "  </svg>\n",
              "    </button>\n",
              "\n",
              "  <style>\n",
              "    .colab-df-container {\n",
              "      display:flex;\n",
              "      gap: 12px;\n",
              "    }\n",
              "\n",
              "    .colab-df-convert {\n",
              "      background-color: #E8F0FE;\n",
              "      border: none;\n",
              "      border-radius: 50%;\n",
              "      cursor: pointer;\n",
              "      display: none;\n",
              "      fill: #1967D2;\n",
              "      height: 32px;\n",
              "      padding: 0 0 0 0;\n",
              "      width: 32px;\n",
              "    }\n",
              "\n",
              "    .colab-df-convert:hover {\n",
              "      background-color: #E2EBFA;\n",
              "      box-shadow: 0px 1px 2px rgba(60, 64, 67, 0.3), 0px 1px 3px 1px rgba(60, 64, 67, 0.15);\n",
              "      fill: #174EA6;\n",
              "    }\n",
              "\n",
              "    .colab-df-buttons div {\n",
              "      margin-bottom: 4px;\n",
              "    }\n",
              "\n",
              "    [theme=dark] .colab-df-convert {\n",
              "      background-color: #3B4455;\n",
              "      fill: #D2E3FC;\n",
              "    }\n",
              "\n",
              "    [theme=dark] .colab-df-convert:hover {\n",
              "      background-color: #434B5C;\n",
              "      box-shadow: 0px 1px 3px 1px rgba(0, 0, 0, 0.15);\n",
              "      filter: drop-shadow(0px 1px 2px rgba(0, 0, 0, 0.3));\n",
              "      fill: #FFFFFF;\n",
              "    }\n",
              "  </style>\n",
              "\n",
              "    <script>\n",
              "      const buttonEl =\n",
              "        document.querySelector('#df-b0b43234-2702-4dd2-945c-2f9ef83e154c button.colab-df-convert');\n",
              "      buttonEl.style.display =\n",
              "        google.colab.kernel.accessAllowed ? 'block' : 'none';\n",
              "\n",
              "      async function convertToInteractive(key) {\n",
              "        const element = document.querySelector('#df-b0b43234-2702-4dd2-945c-2f9ef83e154c');\n",
              "        const dataTable =\n",
              "          await google.colab.kernel.invokeFunction('convertToInteractive',\n",
              "                                                    [key], {});\n",
              "        if (!dataTable) return;\n",
              "\n",
              "        const docLinkHtml = 'Like what you see? Visit the ' +\n",
              "          '<a target=\"_blank\" href=https://colab.research.google.com/notebooks/data_table.ipynb>data table notebook</a>'\n",
              "          + ' to learn more about interactive tables.';\n",
              "        element.innerHTML = '';\n",
              "        dataTable['output_type'] = 'display_data';\n",
              "        await google.colab.output.renderOutput(dataTable, element);\n",
              "        const docLink = document.createElement('div');\n",
              "        docLink.innerHTML = docLinkHtml;\n",
              "        element.appendChild(docLink);\n",
              "      }\n",
              "    </script>\n",
              "  </div>\n",
              "\n",
              "\n",
              "<div id=\"df-aa8a3263-91af-40d8-9e44-af84cff7f6bd\">\n",
              "  <button class=\"colab-df-quickchart\" onclick=\"quickchart('df-aa8a3263-91af-40d8-9e44-af84cff7f6bd')\"\n",
              "            title=\"Suggest charts.\"\n",
              "            style=\"display:none;\">\n",
              "\n",
              "<svg xmlns=\"http://www.w3.org/2000/svg\" height=\"24px\"viewBox=\"0 0 24 24\"\n",
              "     width=\"24px\">\n",
              "    <g>\n",
              "        <path d=\"M19 3H5c-1.1 0-2 .9-2 2v14c0 1.1.9 2 2 2h14c1.1 0 2-.9 2-2V5c0-1.1-.9-2-2-2zM9 17H7v-7h2v7zm4 0h-2V7h2v10zm4 0h-2v-4h2v4z\"/>\n",
              "    </g>\n",
              "</svg>\n",
              "  </button>\n",
              "\n",
              "<style>\n",
              "  .colab-df-quickchart {\n",
              "      --bg-color: #E8F0FE;\n",
              "      --fill-color: #1967D2;\n",
              "      --hover-bg-color: #E2EBFA;\n",
              "      --hover-fill-color: #174EA6;\n",
              "      --disabled-fill-color: #AAA;\n",
              "      --disabled-bg-color: #DDD;\n",
              "  }\n",
              "\n",
              "  [theme=dark] .colab-df-quickchart {\n",
              "      --bg-color: #3B4455;\n",
              "      --fill-color: #D2E3FC;\n",
              "      --hover-bg-color: #434B5C;\n",
              "      --hover-fill-color: #FFFFFF;\n",
              "      --disabled-bg-color: #3B4455;\n",
              "      --disabled-fill-color: #666;\n",
              "  }\n",
              "\n",
              "  .colab-df-quickchart {\n",
              "    background-color: var(--bg-color);\n",
              "    border: none;\n",
              "    border-radius: 50%;\n",
              "    cursor: pointer;\n",
              "    display: none;\n",
              "    fill: var(--fill-color);\n",
              "    height: 32px;\n",
              "    padding: 0;\n",
              "    width: 32px;\n",
              "  }\n",
              "\n",
              "  .colab-df-quickchart:hover {\n",
              "    background-color: var(--hover-bg-color);\n",
              "    box-shadow: 0 1px 2px rgba(60, 64, 67, 0.3), 0 1px 3px 1px rgba(60, 64, 67, 0.15);\n",
              "    fill: var(--button-hover-fill-color);\n",
              "  }\n",
              "\n",
              "  .colab-df-quickchart-complete:disabled,\n",
              "  .colab-df-quickchart-complete:disabled:hover {\n",
              "    background-color: var(--disabled-bg-color);\n",
              "    fill: var(--disabled-fill-color);\n",
              "    box-shadow: none;\n",
              "  }\n",
              "\n",
              "  .colab-df-spinner {\n",
              "    border: 2px solid var(--fill-color);\n",
              "    border-color: transparent;\n",
              "    border-bottom-color: var(--fill-color);\n",
              "    animation:\n",
              "      spin 1s steps(1) infinite;\n",
              "  }\n",
              "\n",
              "  @keyframes spin {\n",
              "    0% {\n",
              "      border-color: transparent;\n",
              "      border-bottom-color: var(--fill-color);\n",
              "      border-left-color: var(--fill-color);\n",
              "    }\n",
              "    20% {\n",
              "      border-color: transparent;\n",
              "      border-left-color: var(--fill-color);\n",
              "      border-top-color: var(--fill-color);\n",
              "    }\n",
              "    30% {\n",
              "      border-color: transparent;\n",
              "      border-left-color: var(--fill-color);\n",
              "      border-top-color: var(--fill-color);\n",
              "      border-right-color: var(--fill-color);\n",
              "    }\n",
              "    40% {\n",
              "      border-color: transparent;\n",
              "      border-right-color: var(--fill-color);\n",
              "      border-top-color: var(--fill-color);\n",
              "    }\n",
              "    60% {\n",
              "      border-color: transparent;\n",
              "      border-right-color: var(--fill-color);\n",
              "    }\n",
              "    80% {\n",
              "      border-color: transparent;\n",
              "      border-right-color: var(--fill-color);\n",
              "      border-bottom-color: var(--fill-color);\n",
              "    }\n",
              "    90% {\n",
              "      border-color: transparent;\n",
              "      border-bottom-color: var(--fill-color);\n",
              "    }\n",
              "  }\n",
              "</style>\n",
              "\n",
              "  <script>\n",
              "    async function quickchart(key) {\n",
              "      const quickchartButtonEl =\n",
              "        document.querySelector('#' + key + ' button');\n",
              "      quickchartButtonEl.disabled = true;  // To prevent multiple clicks.\n",
              "      quickchartButtonEl.classList.add('colab-df-spinner');\n",
              "      try {\n",
              "        const charts = await google.colab.kernel.invokeFunction(\n",
              "            'suggestCharts', [key], {});\n",
              "      } catch (error) {\n",
              "        console.error('Error during call to suggestCharts:', error);\n",
              "      }\n",
              "      quickchartButtonEl.classList.remove('colab-df-spinner');\n",
              "      quickchartButtonEl.classList.add('colab-df-quickchart-complete');\n",
              "    }\n",
              "    (() => {\n",
              "      let quickchartButtonEl =\n",
              "        document.querySelector('#df-aa8a3263-91af-40d8-9e44-af84cff7f6bd button');\n",
              "      quickchartButtonEl.style.display =\n",
              "        google.colab.kernel.accessAllowed ? 'block' : 'none';\n",
              "    })();\n",
              "  </script>\n",
              "</div>\n",
              "    </div>\n",
              "  </div>\n"
            ]
          },
          "metadata": {}
        }
      ]
    },
    {
      "cell_type": "code",
      "source": [],
      "metadata": {
        "id": "xsftdkEQXZRq"
      },
      "execution_count": null,
      "outputs": []
    }
  ]
}